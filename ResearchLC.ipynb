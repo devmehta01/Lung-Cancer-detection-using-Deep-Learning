{
  "nbformat": 4,
  "nbformat_minor": 0,
  "metadata": {
    "colab": {
      "provenance": []
    },
    "kernelspec": {
      "name": "python3",
      "display_name": "Python 3"
    },
    "language_info": {
      "name": "python"
    },
    "accelerator": "GPU"
  },
  "cells": [
    {
      "cell_type": "markdown",
      "metadata": {
        "id": "_tqFuIs86PAB"
      },
      "source": [
        "**Lung Cancer Detection using Deep Learning**\n",
        "\n",
        "\n",
        "\n"
      ]
    },
    {
      "cell_type": "markdown",
      "metadata": {
        "id": "HERKWLDy6G04"
      },
      "source": [
        "Load Google Drive"
      ]
    },
    {
      "cell_type": "code",
      "metadata": {
        "id": "4lsi8b0LbLY2",
        "colab": {
          "base_uri": "https://localhost:8080/"
        },
        "outputId": "3dfb4a39-217d-4117-a0dc-d9a621db887d"
      },
      "source": [
        "from google.colab import drive\n",
        "drive.mount('/content/gdrive')"
      ],
      "execution_count": null,
      "outputs": [
        {
          "output_type": "stream",
          "text": [
            "Mounted at /content/gdrive\n"
          ],
          "name": "stdout"
        }
      ]
    },
    {
      "cell_type": "markdown",
      "metadata": {
        "id": "c6MDxTIT6k0S"
      },
      "source": [
        "Install requirements"
      ]
    },
    {
      "cell_type": "code",
      "metadata": {
        "id": "qMOE2sL2bT2N",
        "colab": {
          "base_uri": "https://localhost:8080/"
        },
        "outputId": "ce4c3172-fd7a-4034-fda8-06676721070d"
      },
      "source": [
        "!pip install Pillow\n",
        "!pip install scipy==1.1.0\n",
        "!pip install SimpleITK\n",
        "!pip install keras\n",
        "!pip install tensorflow"
      ],
      "execution_count": null,
      "outputs": [
        {
          "output_type": "stream",
          "text": [
            "Requirement already satisfied: Pillow in /usr/local/lib/python3.7/dist-packages (7.1.2)\n",
            "Collecting scipy==1.1.0\n",
            "  Downloading scipy-1.1.0-cp37-cp37m-manylinux1_x86_64.whl (31.2 MB)\n",
            "\u001b[K     |████████████████████████████████| 31.2 MB 55 kB/s \n",
            "\u001b[?25hRequirement already satisfied: numpy>=1.8.2 in /usr/local/lib/python3.7/dist-packages (from scipy==1.1.0) (1.19.5)\n",
            "Installing collected packages: scipy\n",
            "  Attempting uninstall: scipy\n",
            "    Found existing installation: scipy 1.4.1\n",
            "    Uninstalling scipy-1.4.1:\n",
            "      Successfully uninstalled scipy-1.4.1\n",
            "\u001b[31mERROR: pip's dependency resolver does not currently take into account all the packages that are installed. This behaviour is the source of the following dependency conflicts.\n",
            "pymc3 3.11.2 requires scipy>=1.2.0, but you have scipy 1.1.0 which is incompatible.\n",
            "plotnine 0.6.0 requires scipy>=1.2.0, but you have scipy 1.1.0 which is incompatible.\n",
            "albumentations 0.1.12 requires imgaug<0.2.7,>=0.2.5, but you have imgaug 0.2.9 which is incompatible.\u001b[0m\n",
            "Successfully installed scipy-1.1.0\n",
            "Collecting SimpleITK\n",
            "  Downloading SimpleITK-2.1.0-cp37-cp37m-manylinux_2_12_x86_64.manylinux2010_x86_64.whl (48.4 MB)\n",
            "\u001b[K     |████████████████████████████████| 48.4 MB 29 kB/s \n",
            "\u001b[?25hInstalling collected packages: SimpleITK\n",
            "Successfully installed SimpleITK-2.1.0\n",
            "Requirement already satisfied: keras in /usr/local/lib/python3.7/dist-packages (2.4.3)\n",
            "Requirement already satisfied: h5py in /usr/local/lib/python3.7/dist-packages (from keras) (3.1.0)\n",
            "Requirement already satisfied: scipy>=0.14 in /usr/local/lib/python3.7/dist-packages (from keras) (1.1.0)\n",
            "Requirement already satisfied: numpy>=1.9.1 in /usr/local/lib/python3.7/dist-packages (from keras) (1.19.5)\n",
            "Requirement already satisfied: pyyaml in /usr/local/lib/python3.7/dist-packages (from keras) (3.13)\n",
            "Requirement already satisfied: cached-property in /usr/local/lib/python3.7/dist-packages (from h5py->keras) (1.5.2)\n",
            "Requirement already satisfied: tensorflow in /usr/local/lib/python3.7/dist-packages (2.5.0)\n",
            "Requirement already satisfied: h5py~=3.1.0 in /usr/local/lib/python3.7/dist-packages (from tensorflow) (3.1.0)\n",
            "Requirement already satisfied: typing-extensions~=3.7.4 in /usr/local/lib/python3.7/dist-packages (from tensorflow) (3.7.4.3)\n",
            "Requirement already satisfied: protobuf>=3.9.2 in /usr/local/lib/python3.7/dist-packages (from tensorflow) (3.17.3)\n",
            "Requirement already satisfied: gast==0.4.0 in /usr/local/lib/python3.7/dist-packages (from tensorflow) (0.4.0)\n",
            "Requirement already satisfied: grpcio~=1.34.0 in /usr/local/lib/python3.7/dist-packages (from tensorflow) (1.34.1)\n",
            "Requirement already satisfied: absl-py~=0.10 in /usr/local/lib/python3.7/dist-packages (from tensorflow) (0.12.0)\n",
            "Requirement already satisfied: keras-nightly~=2.5.0.dev in /usr/local/lib/python3.7/dist-packages (from tensorflow) (2.5.0.dev2021032900)\n",
            "Requirement already satisfied: numpy~=1.19.2 in /usr/local/lib/python3.7/dist-packages (from tensorflow) (1.19.5)\n",
            "Requirement already satisfied: six~=1.15.0 in /usr/local/lib/python3.7/dist-packages (from tensorflow) (1.15.0)\n",
            "Requirement already satisfied: wheel~=0.35 in /usr/local/lib/python3.7/dist-packages (from tensorflow) (0.36.2)\n",
            "Requirement already satisfied: tensorboard~=2.5 in /usr/local/lib/python3.7/dist-packages (from tensorflow) (2.5.0)\n",
            "Requirement already satisfied: wrapt~=1.12.1 in /usr/local/lib/python3.7/dist-packages (from tensorflow) (1.12.1)\n",
            "Requirement already satisfied: flatbuffers~=1.12.0 in /usr/local/lib/python3.7/dist-packages (from tensorflow) (1.12)\n",
            "Requirement already satisfied: opt-einsum~=3.3.0 in /usr/local/lib/python3.7/dist-packages (from tensorflow) (3.3.0)\n",
            "Requirement already satisfied: tensorflow-estimator<2.6.0,>=2.5.0rc0 in /usr/local/lib/python3.7/dist-packages (from tensorflow) (2.5.0)\n",
            "Requirement already satisfied: astunparse~=1.6.3 in /usr/local/lib/python3.7/dist-packages (from tensorflow) (1.6.3)\n",
            "Requirement already satisfied: google-pasta~=0.2 in /usr/local/lib/python3.7/dist-packages (from tensorflow) (0.2.0)\n",
            "Requirement already satisfied: termcolor~=1.1.0 in /usr/local/lib/python3.7/dist-packages (from tensorflow) (1.1.0)\n",
            "Requirement already satisfied: keras-preprocessing~=1.1.2 in /usr/local/lib/python3.7/dist-packages (from tensorflow) (1.1.2)\n",
            "Requirement already satisfied: cached-property in /usr/local/lib/python3.7/dist-packages (from h5py~=3.1.0->tensorflow) (1.5.2)\n",
            "Requirement already satisfied: tensorboard-plugin-wit>=1.6.0 in /usr/local/lib/python3.7/dist-packages (from tensorboard~=2.5->tensorflow) (1.8.0)\n",
            "Requirement already satisfied: markdown>=2.6.8 in /usr/local/lib/python3.7/dist-packages (from tensorboard~=2.5->tensorflow) (3.3.4)\n",
            "Requirement already satisfied: requests<3,>=2.21.0 in /usr/local/lib/python3.7/dist-packages (from tensorboard~=2.5->tensorflow) (2.23.0)\n",
            "Requirement already satisfied: tensorboard-data-server<0.7.0,>=0.6.0 in /usr/local/lib/python3.7/dist-packages (from tensorboard~=2.5->tensorflow) (0.6.1)\n",
            "Requirement already satisfied: google-auth<2,>=1.6.3 in /usr/local/lib/python3.7/dist-packages (from tensorboard~=2.5->tensorflow) (1.32.1)\n",
            "Requirement already satisfied: setuptools>=41.0.0 in /usr/local/lib/python3.7/dist-packages (from tensorboard~=2.5->tensorflow) (57.2.0)\n",
            "Requirement already satisfied: werkzeug>=0.11.15 in /usr/local/lib/python3.7/dist-packages (from tensorboard~=2.5->tensorflow) (1.0.1)\n",
            "Requirement already satisfied: google-auth-oauthlib<0.5,>=0.4.1 in /usr/local/lib/python3.7/dist-packages (from tensorboard~=2.5->tensorflow) (0.4.4)\n",
            "Requirement already satisfied: pyasn1-modules>=0.2.1 in /usr/local/lib/python3.7/dist-packages (from google-auth<2,>=1.6.3->tensorboard~=2.5->tensorflow) (0.2.8)\n",
            "Requirement already satisfied: rsa<5,>=3.1.4 in /usr/local/lib/python3.7/dist-packages (from google-auth<2,>=1.6.3->tensorboard~=2.5->tensorflow) (4.7.2)\n",
            "Requirement already satisfied: cachetools<5.0,>=2.0.0 in /usr/local/lib/python3.7/dist-packages (from google-auth<2,>=1.6.3->tensorboard~=2.5->tensorflow) (4.2.2)\n",
            "Requirement already satisfied: requests-oauthlib>=0.7.0 in /usr/local/lib/python3.7/dist-packages (from google-auth-oauthlib<0.5,>=0.4.1->tensorboard~=2.5->tensorflow) (1.3.0)\n",
            "Requirement already satisfied: importlib-metadata in /usr/local/lib/python3.7/dist-packages (from markdown>=2.6.8->tensorboard~=2.5->tensorflow) (4.6.1)\n",
            "Requirement already satisfied: pyasn1<0.5.0,>=0.4.6 in /usr/local/lib/python3.7/dist-packages (from pyasn1-modules>=0.2.1->google-auth<2,>=1.6.3->tensorboard~=2.5->tensorflow) (0.4.8)\n",
            "Requirement already satisfied: chardet<4,>=3.0.2 in /usr/local/lib/python3.7/dist-packages (from requests<3,>=2.21.0->tensorboard~=2.5->tensorflow) (3.0.4)\n",
            "Requirement already satisfied: idna<3,>=2.5 in /usr/local/lib/python3.7/dist-packages (from requests<3,>=2.21.0->tensorboard~=2.5->tensorflow) (2.10)\n",
            "Requirement already satisfied: urllib3!=1.25.0,!=1.25.1,<1.26,>=1.21.1 in /usr/local/lib/python3.7/dist-packages (from requests<3,>=2.21.0->tensorboard~=2.5->tensorflow) (1.24.3)\n",
            "Requirement already satisfied: certifi>=2017.4.17 in /usr/local/lib/python3.7/dist-packages (from requests<3,>=2.21.0->tensorboard~=2.5->tensorflow) (2021.5.30)\n",
            "Requirement already satisfied: oauthlib>=3.0.0 in /usr/local/lib/python3.7/dist-packages (from requests-oauthlib>=0.7.0->google-auth-oauthlib<0.5,>=0.4.1->tensorboard~=2.5->tensorflow) (3.1.1)\n",
            "Requirement already satisfied: zipp>=0.5 in /usr/local/lib/python3.7/dist-packages (from importlib-metadata->markdown>=2.6.8->tensorboard~=2.5->tensorflow) (3.5.0)\n"
          ],
          "name": "stdout"
        }
      ]
    },
    {
      "cell_type": "markdown",
      "metadata": {
        "id": "qUiLwU5S6oMY"
      },
      "source": [
        "Import all necessary libraries"
      ]
    },
    {
      "cell_type": "code",
      "metadata": {
        "id": "a69RVk1QbRZq"
      },
      "source": [
        "import tensorflow as tf\n",
        "import keras\n",
        "import SimpleITK as sitk\n",
        "import numpy as np\n",
        "import pandas as pd\n",
        "import matplotlib.pyplot as plt\n",
        "import seaborn as sns \n",
        "import os\n",
        "import glob\n",
        "from PIL import Image, ImageEnhance\n",
        "import multiprocessing\n",
        "from scipy.misc import imread, imresize\n",
        "import scipy.misc\n",
        "import cv2\n",
        "from sklearn.model_selection import train_test_split\n",
        "import h5py\n",
        "from keras.models import Sequential, Model\n",
        "from keras.layers import Conv2D,MaxPooling2D,Dense,Flatten,Dropout,BatchNormalization,AveragePooling2D\n",
        "from keras.optimizers import SGD\n",
        "from keras.preprocessing.image import ImageDataGenerator\n",
        "from sklearn.metrics import confusion_matrix,classification_report\n",
        "\n",
        "%matplotlib inline\n",
        "from IPython.display import clear_output\n",
        "pd.options.mode.chained_assignment = None\n",
        "\n"
      ],
      "execution_count": null,
      "outputs": []
    },
    {
      "cell_type": "markdown",
      "metadata": {
        "id": "pdAI11opHBKk"
      },
      "source": [
        "Load Data"
      ]
    },
    {
      "cell_type": "code",
      "metadata": {
        "id": "6FY5IeNwb5aE"
      },
      "source": [
        "annotations = pd.read_csv('/content/gdrive/My Drive/lung_cancer_mid/annotations.csv')\n",
        "candidates = pd.read_csv('/content/gdrive/My Drive/lung_cancer_mid/candidates.csv')"
      ],
      "execution_count": null,
      "outputs": []
    },
    {
      "cell_type": "code",
      "metadata": {
        "id": "TWOa_veGb9Uh",
        "colab": {
          "base_uri": "https://localhost:8080/",
          "height": 417
        },
        "outputId": "370634c9-5957-4d75-eeef-2e221495dfd5"
      },
      "source": [
        "annotations"
      ],
      "execution_count": null,
      "outputs": [
        {
          "output_type": "execute_result",
          "data": {
            "text/html": [
              "<div>\n",
              "<style scoped>\n",
              "    .dataframe tbody tr th:only-of-type {\n",
              "        vertical-align: middle;\n",
              "    }\n",
              "\n",
              "    .dataframe tbody tr th {\n",
              "        vertical-align: top;\n",
              "    }\n",
              "\n",
              "    .dataframe thead th {\n",
              "        text-align: right;\n",
              "    }\n",
              "</style>\n",
              "<table border=\"1\" class=\"dataframe\">\n",
              "  <thead>\n",
              "    <tr style=\"text-align: right;\">\n",
              "      <th></th>\n",
              "      <th>seriesuid</th>\n",
              "      <th>coordX</th>\n",
              "      <th>coordY</th>\n",
              "      <th>coordZ</th>\n",
              "      <th>diameter_mm</th>\n",
              "    </tr>\n",
              "  </thead>\n",
              "  <tbody>\n",
              "    <tr>\n",
              "      <th>0</th>\n",
              "      <td>1.3.6.1.4.1.14519.5.2.1.6279.6001.100225287222...</td>\n",
              "      <td>-128.699421</td>\n",
              "      <td>-175.319272</td>\n",
              "      <td>-298.387506</td>\n",
              "      <td>5.651471</td>\n",
              "    </tr>\n",
              "    <tr>\n",
              "      <th>1</th>\n",
              "      <td>1.3.6.1.4.1.14519.5.2.1.6279.6001.100225287222...</td>\n",
              "      <td>103.783651</td>\n",
              "      <td>-211.925149</td>\n",
              "      <td>-227.121250</td>\n",
              "      <td>4.224708</td>\n",
              "    </tr>\n",
              "    <tr>\n",
              "      <th>2</th>\n",
              "      <td>1.3.6.1.4.1.14519.5.2.1.6279.6001.100398138793...</td>\n",
              "      <td>69.639017</td>\n",
              "      <td>-140.944586</td>\n",
              "      <td>876.374496</td>\n",
              "      <td>5.786348</td>\n",
              "    </tr>\n",
              "    <tr>\n",
              "      <th>3</th>\n",
              "      <td>1.3.6.1.4.1.14519.5.2.1.6279.6001.100621383016...</td>\n",
              "      <td>-24.013824</td>\n",
              "      <td>192.102405</td>\n",
              "      <td>-391.081276</td>\n",
              "      <td>8.143262</td>\n",
              "    </tr>\n",
              "    <tr>\n",
              "      <th>4</th>\n",
              "      <td>1.3.6.1.4.1.14519.5.2.1.6279.6001.100621383016...</td>\n",
              "      <td>2.441547</td>\n",
              "      <td>172.464881</td>\n",
              "      <td>-405.493732</td>\n",
              "      <td>18.545150</td>\n",
              "    </tr>\n",
              "    <tr>\n",
              "      <th>...</th>\n",
              "      <td>...</td>\n",
              "      <td>...</td>\n",
              "      <td>...</td>\n",
              "      <td>...</td>\n",
              "      <td>...</td>\n",
              "    </tr>\n",
              "    <tr>\n",
              "      <th>1181</th>\n",
              "      <td>1.3.6.1.4.1.14519.5.2.1.6279.6001.994459772950...</td>\n",
              "      <td>-160.856298</td>\n",
              "      <td>-28.560349</td>\n",
              "      <td>-269.168728</td>\n",
              "      <td>5.053694</td>\n",
              "    </tr>\n",
              "    <tr>\n",
              "      <th>1182</th>\n",
              "      <td>1.3.6.1.4.1.14519.5.2.1.6279.6001.994459772950...</td>\n",
              "      <td>-102.189570</td>\n",
              "      <td>-73.865766</td>\n",
              "      <td>-220.536241</td>\n",
              "      <td>4.556101</td>\n",
              "    </tr>\n",
              "    <tr>\n",
              "      <th>1183</th>\n",
              "      <td>1.3.6.1.4.1.14519.5.2.1.6279.6001.994459772950...</td>\n",
              "      <td>-37.535409</td>\n",
              "      <td>64.041949</td>\n",
              "      <td>-127.687101</td>\n",
              "      <td>4.357368</td>\n",
              "    </tr>\n",
              "    <tr>\n",
              "      <th>1184</th>\n",
              "      <td>1.3.6.1.4.1.14519.5.2.1.6279.6001.997611074084...</td>\n",
              "      <td>43.196112</td>\n",
              "      <td>74.438486</td>\n",
              "      <td>-200.523314</td>\n",
              "      <td>4.277203</td>\n",
              "    </tr>\n",
              "    <tr>\n",
              "      <th>1185</th>\n",
              "      <td>1.3.6.1.4.1.14519.5.2.1.6279.6001.997611074084...</td>\n",
              "      <td>-21.958478</td>\n",
              "      <td>33.486096</td>\n",
              "      <td>-155.292026</td>\n",
              "      <td>23.802913</td>\n",
              "    </tr>\n",
              "  </tbody>\n",
              "</table>\n",
              "<p>1186 rows × 5 columns</p>\n",
              "</div>"
            ],
            "text/plain": [
              "                                              seriesuid  ...  diameter_mm\n",
              "0     1.3.6.1.4.1.14519.5.2.1.6279.6001.100225287222...  ...     5.651471\n",
              "1     1.3.6.1.4.1.14519.5.2.1.6279.6001.100225287222...  ...     4.224708\n",
              "2     1.3.6.1.4.1.14519.5.2.1.6279.6001.100398138793...  ...     5.786348\n",
              "3     1.3.6.1.4.1.14519.5.2.1.6279.6001.100621383016...  ...     8.143262\n",
              "4     1.3.6.1.4.1.14519.5.2.1.6279.6001.100621383016...  ...    18.545150\n",
              "...                                                 ...  ...          ...\n",
              "1181  1.3.6.1.4.1.14519.5.2.1.6279.6001.994459772950...  ...     5.053694\n",
              "1182  1.3.6.1.4.1.14519.5.2.1.6279.6001.994459772950...  ...     4.556101\n",
              "1183  1.3.6.1.4.1.14519.5.2.1.6279.6001.994459772950...  ...     4.357368\n",
              "1184  1.3.6.1.4.1.14519.5.2.1.6279.6001.997611074084...  ...     4.277203\n",
              "1185  1.3.6.1.4.1.14519.5.2.1.6279.6001.997611074084...  ...    23.802913\n",
              "\n",
              "[1186 rows x 5 columns]"
            ]
          },
          "metadata": {
            "tags": []
          },
          "execution_count": 5
        }
      ]
    },
    {
      "cell_type": "code",
      "metadata": {
        "id": "dDDTg135b-1D",
        "colab": {
          "base_uri": "https://localhost:8080/"
        },
        "outputId": "20a8d33d-97a7-49d7-c8fa-da6b7e251987"
      },
      "source": [
        "#Number of values with 1\n",
        "candidates['class'].sum()"
      ],
      "execution_count": null,
      "outputs": [
        {
          "output_type": "execute_result",
          "data": {
            "text/plain": [
              "1351"
            ]
          },
          "metadata": {
            "tags": []
          },
          "execution_count": 6
        }
      ]
    },
    {
      "cell_type": "code",
      "metadata": {
        "id": "Xc_gXtTJcCdr",
        "colab": {
          "base_uri": "https://localhost:8080/"
        },
        "outputId": "813bb928-de38-4da7-a91d-d90897d9ec92"
      },
      "source": [
        "candidates.info()"
      ],
      "execution_count": null,
      "outputs": [
        {
          "output_type": "stream",
          "text": [
            "<class 'pandas.core.frame.DataFrame'>\n",
            "RangeIndex: 551065 entries, 0 to 551064\n",
            "Data columns (total 5 columns):\n",
            " #   Column     Non-Null Count   Dtype  \n",
            "---  ------     --------------   -----  \n",
            " 0   seriesuid  551065 non-null  object \n",
            " 1   coordX     551065 non-null  float64\n",
            " 2   coordY     551065 non-null  float64\n",
            " 3   coordZ     551065 non-null  float64\n",
            " 4   class      551065 non-null  int64  \n",
            "dtypes: float64(3), int64(1), object(1)\n",
            "memory usage: 21.0+ MB\n"
          ],
          "name": "stdout"
        }
      ]
    },
    {
      "cell_type": "code",
      "metadata": {
        "id": "EgKNlhpccQu0",
        "colab": {
          "base_uri": "https://localhost:8080/"
        },
        "outputId": "b4bd0d51-ccc6-4897-8466-c1a300ecf898"
      },
      "source": [
        "print(len(candidates[candidates['class'] == 1]))\n",
        "print(len(candidates[candidates['class'] == 0]))"
      ],
      "execution_count": null,
      "outputs": [
        {
          "output_type": "stream",
          "text": [
            "1351\n",
            "549714\n"
          ],
          "name": "stdout"
        }
      ]
    },
    {
      "cell_type": "code",
      "metadata": {
        "id": "MdUEWy0HcTVp",
        "colab": {
          "base_uri": "https://localhost:8080/"
        },
        "outputId": "0ecfe9d1-707b-4e59-9f06-3ead287a23c2"
      },
      "source": [
        "num_cores = multiprocessing.cpu_count()\n",
        "print(num_cores)"
      ],
      "execution_count": null,
      "outputs": [
        {
          "output_type": "stream",
          "text": [
            "2\n"
          ],
          "name": "stdout"
        }
      ]
    },
    {
      "cell_type": "markdown",
      "metadata": {
        "id": "HRUraXFhISO_"
      },
      "source": [
        "Define a class to crop out part of the image which has cancer (Same as the one used in preprocessing)"
      ]
    },
    {
      "cell_type": "code",
      "metadata": {
        "id": "gL0d1clNcVa7"
      },
      "source": [
        "class CTScan(object):\n",
        "    def __init__(self, filename = None, coords = None):\n",
        "        self.filename = filename\n",
        "        self.coords = coords\n",
        "        self.ds = None\n",
        "        self.image = None\n",
        "\n",
        "    def reset_coords(self, coords):\n",
        "        self.coords = coords\n",
        "\n",
        "    def read_mhd_image(self):\n",
        "        path = glob.glob('/content/gdrive/My Drive/lung_cancer_mid/seg-lungs-LUNA16/'+ self.filename + '.mhd')\n",
        "        self.ds = sitk.ReadImage(path[0])\n",
        "        self.image = sitk.GetArrayFromImage(self.ds)\n",
        "\n",
        "    def get_resolution(self):\n",
        "        return self.ds.GetSpacing()\n",
        "\n",
        "    def get_origin(self):\n",
        "        return self.ds.GetOrigin()\n",
        "\n",
        "    def get_ds(self):\n",
        "        return self.ds\n",
        "\n",
        "    def get_voxel_coords(self):\n",
        "        origin = self.get_origin()\n",
        "        resolution = self.get_resolution()\n",
        "        voxel_coords = [np.absolute(self.coords[j]-origin[j])/resolution[j] \\\n",
        "            for j in range(len(self.coords))]\n",
        "        return tuple(voxel_coords)\n",
        "    \n",
        "    def get_image(self):\n",
        "        return self.image\n",
        "    \n",
        "    def get_subimage(self, width):\n",
        "        self.read_mhd_image()\n",
        "        x, y, z = self.get_voxel_coords()\n",
        "        subImage = self.image[z, y-width/2:y+width/2, x-width/2:x+width/2]\n",
        "        return subImage   \n",
        "    def normalizePlanes(self, npzarray):\n",
        "        maxHU = 400.\n",
        "        minHU = -1000.\n",
        "        npzarray = (npzarray - minHU) / (maxHU - minHU)\n",
        "        npzarray[npzarray>1] = 1.\n",
        "        npzarray[npzarray<0] = 0.\n",
        "        return npzarray\n",
        "    \n",
        "    def save_image(self, filename, width):\n",
        "        image = self.get_subimage(width)\n",
        "        image = self.normalizePlanes(image)\n",
        "        Image.fromarray(image*255).convert('L').save(filename)"
      ],
      "execution_count": null,
      "outputs": []
    },
    {
      "cell_type": "code",
      "metadata": {
        "id": "6gCIJVb4cenV"
      },
      "source": [
        "positives = candidates[candidates['class']==1].index  \n",
        "negatives = candidates[candidates['class']==0].index"
      ],
      "execution_count": null,
      "outputs": []
    },
    {
      "cell_type": "code",
      "metadata": {
        "id": "secCLdzOct5g",
        "colab": {
          "base_uri": "https://localhost:8080/"
        },
        "outputId": "44630b8d-c3d2-4311-e040-ccec614d8a47"
      },
      "source": [
        "positives"
      ],
      "execution_count": null,
      "outputs": [
        {
          "output_type": "execute_result",
          "data": {
            "text/plain": [
              "Int64Index([    13,     78,   1303,   3050,   3052,   3080,   3223,   3285,\n",
              "              3287,   3289,\n",
              "            ...\n",
              "            545928, 546205, 546372, 546400, 547498, 548674, 550171, 550334,\n",
              "            550810, 550906],\n",
              "           dtype='int64', length=1351)"
            ]
          },
          "metadata": {
            "tags": []
          },
          "execution_count": 12
        }
      ]
    },
    {
      "cell_type": "code",
      "metadata": {
        "colab": {
          "base_uri": "https://localhost:8080/"
        },
        "id": "mq7GTHzkyO16",
        "outputId": "7977c420-78c6-419d-97c2-5187e41dd994"
      },
      "source": [
        "negatives"
      ],
      "execution_count": null,
      "outputs": [
        {
          "output_type": "execute_result",
          "data": {
            "text/plain": [
              "Int64Index([     0,      1,      2,      3,      4,      5,      6,      7,\n",
              "                 8,      9,\n",
              "            ...\n",
              "            551055, 551056, 551057, 551058, 551059, 551060, 551061, 551062,\n",
              "            551063, 551064],\n",
              "           dtype='int64', length=549714)"
            ]
          },
          "metadata": {
            "tags": []
          },
          "execution_count": 13
        }
      ]
    },
    {
      "cell_type": "code",
      "metadata": {
        "id": "VlLNYOk-chwU"
      },
      "source": [
        "scan = CTScan(np.asarray(candidates.iloc[negatives[600]])[0], \\\n",
        "              np.asarray(candidates.iloc[negatives[600]])[1:-1])\n",
        "scan.read_mhd_image()\n",
        "x, y, z = scan.get_voxel_coords()\n",
        "image = scan.get_image()\n",
        "dx, dy, dz = scan.get_resolution()\n",
        "x0, y0, z0 = scan.get_origin()"
      ],
      "execution_count": null,
      "outputs": []
    },
    {
      "cell_type": "code",
      "metadata": {
        "id": "s-bVw-a7ckvv"
      },
      "source": [
        "filename = '1.3.6.1.4.1.14519.5.2.1.6279.6001.100398138793540579077826395208'\n",
        "coords = (70.19, -140.93, 877.68)#[877.68, -140.93, 70.19]\n",
        "scan = CTScan(filename, coords)\n",
        "scan.read_mhd_image()\n",
        "x, y, z = scan.get_voxel_coords()\n",
        "image = scan.get_image()\n",
        "dx, dy, dz = scan.get_resolution()\n",
        "x0, y0, z0 = scan.get_origin()"
      ],
      "execution_count": null,
      "outputs": []
    },
    {
      "cell_type": "code",
      "metadata": {
        "id": "Aw02bWUmcvtl"
      },
      "source": [
        "np.random.seed(42)\n",
        "negIndexes = np.random.choice(negatives, len(positives)*5, replace = False)"
      ],
      "execution_count": null,
      "outputs": []
    },
    {
      "cell_type": "code",
      "metadata": {
        "id": "jIJKnaBWcyZ5"
      },
      "source": [
        "candidatesDf = candidates.iloc[list(positives)+list(negIndexes)]"
      ],
      "execution_count": null,
      "outputs": []
    },
    {
      "cell_type": "code",
      "metadata": {
        "id": "Al-HaIsjc6Bj"
      },
      "source": [
        "X = candidatesDf.iloc[:,:-1]\n",
        "y = candidatesDf.iloc[:,-1]\n",
        "X_train, X_test, y_train, y_test = train_test_split(X, y, test_size = 0.20, random_state = 42)"
      ],
      "execution_count": null,
      "outputs": []
    },
    {
      "cell_type": "code",
      "metadata": {
        "id": "EpV4TISIc-_p",
        "colab": {
          "base_uri": "https://localhost:8080/"
        },
        "outputId": "03f24486-e305-41cc-bd5e-9fed3fa9f7b2"
      },
      "source": [
        "X_train.size"
      ],
      "execution_count": null,
      "outputs": [
        {
          "output_type": "execute_result",
          "data": {
            "text/plain": [
              "25936"
            ]
          },
          "metadata": {
            "tags": []
          },
          "execution_count": 19
        }
      ]
    },
    {
      "cell_type": "code",
      "metadata": {
        "id": "P8uEw3vrdBbB",
        "colab": {
          "base_uri": "https://localhost:8080/"
        },
        "outputId": "e268059c-2bb1-4200-ec97-eeeaed129d65"
      },
      "source": [
        "y_train"
      ],
      "execution_count": null,
      "outputs": [
        {
          "output_type": "execute_result",
          "data": {
            "text/plain": [
              "178085    0\n",
              "108126    0\n",
              "416697    0\n",
              "342095    0\n",
              "116478    0\n",
              "         ..\n",
              "469116    0\n",
              "164439    0\n",
              "333192    1\n",
              "358382    0\n",
              "536292    0\n",
              "Name: class, Length: 6484, dtype: int64"
            ]
          },
          "metadata": {
            "tags": []
          },
          "execution_count": 20
        }
      ]
    },
    {
      "cell_type": "code",
      "metadata": {
        "id": "LNCKFx9BdDNB",
        "colab": {
          "base_uri": "https://localhost:8080/"
        },
        "outputId": "0da87e28-3ace-4f6a-c578-6d0a03e70ba1"
      },
      "source": [
        "y_test"
      ],
      "execution_count": null,
      "outputs": [
        {
          "output_type": "execute_result",
          "data": {
            "text/plain": [
              "189342    0\n",
              "145102    0\n",
              "31546     0\n",
              "441280    1\n",
              "215578    0\n",
              "         ..\n",
              "87015     0\n",
              "245189    0\n",
              "533231    0\n",
              "52755     0\n",
              "379730    0\n",
              "Name: class, Length: 1622, dtype: int64"
            ]
          },
          "metadata": {
            "tags": []
          },
          "execution_count": 21
        }
      ]
    },
    {
      "cell_type": "code",
      "metadata": {
        "id": "uHzMWF50dFPD"
      },
      "source": [
        "X_train, X_val, y_train, y_val = train_test_split(X_train, y_train, test_size = 0.20, random_state = 42)"
      ],
      "execution_count": null,
      "outputs": []
    },
    {
      "cell_type": "code",
      "metadata": {
        "id": "48nf2Z_YdIL5",
        "colab": {
          "base_uri": "https://localhost:8080/"
        },
        "outputId": "4c78d7b7-8d74-4d86-da79-e72f6b071a48"
      },
      "source": [
        "X_train.size"
      ],
      "execution_count": null,
      "outputs": [
        {
          "output_type": "execute_result",
          "data": {
            "text/plain": [
              "20748"
            ]
          },
          "metadata": {
            "tags": []
          },
          "execution_count": 23
        }
      ]
    },
    {
      "cell_type": "code",
      "metadata": {
        "id": "Cs_k2DUMdMyl",
        "colab": {
          "base_uri": "https://localhost:8080/",
          "height": 417
        },
        "outputId": "adb338ea-f52a-4569-94a8-df6158a3d916"
      },
      "source": [
        "X_train"
      ],
      "execution_count": null,
      "outputs": [
        {
          "output_type": "execute_result",
          "data": {
            "text/html": [
              "<div>\n",
              "<style scoped>\n",
              "    .dataframe tbody tr th:only-of-type {\n",
              "        vertical-align: middle;\n",
              "    }\n",
              "\n",
              "    .dataframe tbody tr th {\n",
              "        vertical-align: top;\n",
              "    }\n",
              "\n",
              "    .dataframe thead th {\n",
              "        text-align: right;\n",
              "    }\n",
              "</style>\n",
              "<table border=\"1\" class=\"dataframe\">\n",
              "  <thead>\n",
              "    <tr style=\"text-align: right;\">\n",
              "      <th></th>\n",
              "      <th>seriesuid</th>\n",
              "      <th>coordX</th>\n",
              "      <th>coordY</th>\n",
              "      <th>coordZ</th>\n",
              "    </tr>\n",
              "  </thead>\n",
              "  <tbody>\n",
              "    <tr>\n",
              "      <th>59270</th>\n",
              "      <td>1.3.6.1.4.1.14519.5.2.1.6279.6001.132817748896...</td>\n",
              "      <td>-97.808167</td>\n",
              "      <td>3.897917</td>\n",
              "      <td>-201.030000</td>\n",
              "    </tr>\n",
              "    <tr>\n",
              "      <th>150277</th>\n",
              "      <td>1.3.6.1.4.1.14519.5.2.1.6279.6001.182192086929...</td>\n",
              "      <td>58.990000</td>\n",
              "      <td>-24.230000</td>\n",
              "      <td>-18.320000</td>\n",
              "    </tr>\n",
              "    <tr>\n",
              "      <th>432208</th>\n",
              "      <td>1.3.6.1.4.1.14519.5.2.1.6279.6001.397522780537...</td>\n",
              "      <td>-50.307219</td>\n",
              "      <td>159.439740</td>\n",
              "      <td>-113.418797</td>\n",
              "    </tr>\n",
              "    <tr>\n",
              "      <th>423122</th>\n",
              "      <td>1.3.6.1.4.1.14519.5.2.1.6279.6001.339882192295...</td>\n",
              "      <td>-106.731000</td>\n",
              "      <td>-104.468000</td>\n",
              "      <td>751.163333</td>\n",
              "    </tr>\n",
              "    <tr>\n",
              "      <th>344581</th>\n",
              "      <td>1.3.6.1.4.1.14519.5.2.1.6279.6001.296863826932...</td>\n",
              "      <td>67.240000</td>\n",
              "      <td>-32.590000</td>\n",
              "      <td>-107.790000</td>\n",
              "    </tr>\n",
              "    <tr>\n",
              "      <th>...</th>\n",
              "      <td>...</td>\n",
              "      <td>...</td>\n",
              "      <td>...</td>\n",
              "      <td>...</td>\n",
              "    </tr>\n",
              "    <tr>\n",
              "      <th>323102</th>\n",
              "      <td>1.3.6.1.4.1.14519.5.2.1.6279.6001.279953669991...</td>\n",
              "      <td>-22.239361</td>\n",
              "      <td>84.653132</td>\n",
              "      <td>-161.740390</td>\n",
              "    </tr>\n",
              "    <tr>\n",
              "      <th>94004</th>\n",
              "      <td>1.3.6.1.4.1.14519.5.2.1.6279.6001.149893110752...</td>\n",
              "      <td>52.320000</td>\n",
              "      <td>65.000000</td>\n",
              "      <td>-117.870000</td>\n",
              "    </tr>\n",
              "    <tr>\n",
              "      <th>459476</th>\n",
              "      <td>1.3.6.1.4.1.14519.5.2.1.6279.6001.503980049263...</td>\n",
              "      <td>-112.420630</td>\n",
              "      <td>37.648160</td>\n",
              "      <td>-67.928064</td>\n",
              "    </tr>\n",
              "    <tr>\n",
              "      <th>241550</th>\n",
              "      <td>1.3.6.1.4.1.14519.5.2.1.6279.6001.230416590143...</td>\n",
              "      <td>-27.740000</td>\n",
              "      <td>-121.660000</td>\n",
              "      <td>-254.130000</td>\n",
              "    </tr>\n",
              "    <tr>\n",
              "      <th>211695</th>\n",
              "      <td>1.3.6.1.4.1.14519.5.2.1.6279.6001.215785045378...</td>\n",
              "      <td>-58.670000</td>\n",
              "      <td>163.720000</td>\n",
              "      <td>-641.700000</td>\n",
              "    </tr>\n",
              "  </tbody>\n",
              "</table>\n",
              "<p>5187 rows × 4 columns</p>\n",
              "</div>"
            ],
            "text/plain": [
              "                                                seriesuid  ...      coordZ\n",
              "59270   1.3.6.1.4.1.14519.5.2.1.6279.6001.132817748896...  ... -201.030000\n",
              "150277  1.3.6.1.4.1.14519.5.2.1.6279.6001.182192086929...  ...  -18.320000\n",
              "432208  1.3.6.1.4.1.14519.5.2.1.6279.6001.397522780537...  ... -113.418797\n",
              "423122  1.3.6.1.4.1.14519.5.2.1.6279.6001.339882192295...  ...  751.163333\n",
              "344581  1.3.6.1.4.1.14519.5.2.1.6279.6001.296863826932...  ... -107.790000\n",
              "...                                                   ...  ...         ...\n",
              "323102  1.3.6.1.4.1.14519.5.2.1.6279.6001.279953669991...  ... -161.740390\n",
              "94004   1.3.6.1.4.1.14519.5.2.1.6279.6001.149893110752...  ... -117.870000\n",
              "459476  1.3.6.1.4.1.14519.5.2.1.6279.6001.503980049263...  ...  -67.928064\n",
              "241550  1.3.6.1.4.1.14519.5.2.1.6279.6001.230416590143...  ... -254.130000\n",
              "211695  1.3.6.1.4.1.14519.5.2.1.6279.6001.215785045378...  ... -641.700000\n",
              "\n",
              "[5187 rows x 4 columns]"
            ]
          },
          "metadata": {
            "tags": []
          },
          "execution_count": 24
        }
      ]
    },
    {
      "cell_type": "code",
      "metadata": {
        "id": "SFFT4iaadO_6",
        "colab": {
          "base_uri": "https://localhost:8080/"
        },
        "outputId": "a5dd39fd-d773-4b22-ae92-30d8d9f9d1c5"
      },
      "source": [
        "y_train"
      ],
      "execution_count": null,
      "outputs": [
        {
          "output_type": "execute_result",
          "data": {
            "text/plain": [
              "59270     0\n",
              "150277    0\n",
              "432208    0\n",
              "423122    0\n",
              "344581    0\n",
              "         ..\n",
              "323102    0\n",
              "94004     0\n",
              "459476    1\n",
              "241550    0\n",
              "211695    0\n",
              "Name: class, Length: 5187, dtype: int64"
            ]
          },
          "metadata": {
            "tags": []
          },
          "execution_count": 25
        }
      ]
    },
    {
      "cell_type": "code",
      "metadata": {
        "id": "40TXv4WzdUBi",
        "colab": {
          "base_uri": "https://localhost:8080/"
        },
        "outputId": "c514d158-ec29-4555-ffc0-89b397e3f984"
      },
      "source": [
        "len(X_train)"
      ],
      "execution_count": null,
      "outputs": [
        {
          "output_type": "execute_result",
          "data": {
            "text/plain": [
              "5187"
            ]
          },
          "metadata": {
            "tags": []
          },
          "execution_count": 26
        }
      ]
    },
    {
      "cell_type": "code",
      "metadata": {
        "id": "zRtfrqdwdhnQ"
      },
      "source": [
        "#X_train.to_pickle('/content/gdrive/MyDrive/lung_cancer_mid/preprocessed_data/traindata')\n",
        "#X_test.to_pickle('/content/gdrive/MyDrive/lung_cancer_mid/preprocessed_data/testdata')\n",
        "#X_val.to_pickle('/content/gdrive/MyDrive/lung_cancer_mid/preprocessed_data/valdata')"
      ],
      "execution_count": null,
      "outputs": []
    },
    {
      "cell_type": "code",
      "metadata": {
        "id": "k7INqheYdjfK"
      },
      "source": [
        "def normalizePlanes(npzarray):\n",
        "    maxHU = 400.\n",
        "    minHU = -1000.\n",
        "    npzarray = (npzarray - minHU) / (maxHU - minHU)\n",
        "    npzarray[npzarray>1] = 1.\n",
        "    npzarray[npzarray<0] = 0.\n",
        "    return npzarray"
      ],
      "execution_count": null,
      "outputs": []
    },
    {
      "cell_type": "code",
      "metadata": {
        "id": "R-WXQqfKdmq5",
        "colab": {
          "base_uri": "https://localhost:8080/"
        },
        "outputId": "33277e70-e12a-4c76-c506-81208ad4a87a"
      },
      "source": [
        "print('number of positive cases are ' + str(y_train.sum()))\n",
        "print('total set size is ' + str(len(y_train)))\n",
        "print('percentage of positive cases are ' + str(y_train.sum()*1.0/len(y_train)))"
      ],
      "execution_count": null,
      "outputs": [
        {
          "output_type": "stream",
          "text": [
            "number of positive cases are 845\n",
            "total set size is 5187\n",
            "percentage of positive cases are 0.16290726817042606\n"
          ],
          "name": "stdout"
        }
      ]
    },
    {
      "cell_type": "markdown",
      "metadata": {
        "id": "tBq6KsOEdsfB"
      },
      "source": [
        "Since number of positive cases are very few, we take only a few number of negative cases and increase number of positive cases"
      ]
    },
    {
      "cell_type": "code",
      "metadata": {
        "id": "xsu1TwDadp_U",
        "colab": {
          "base_uri": "https://localhost:8080/"
        },
        "outputId": "6584cd91-25fa-40c1-a90d-d5fe7c07b00d"
      },
      "source": [
        "tempDf = X_train[y_train == 1]\n",
        "tempDf = tempDf.set_index(X_train[y_train == 1].index + 1000000)\n",
        "X_train_new = X_train.append(tempDf)\n",
        "tempDf = tempDf.set_index(X_train[y_train == 1].index + 2000000)\n",
        "X_train_new = X_train_new.append(tempDf)\n",
        "\n",
        "ytemp = y_train.reindex(X_train[y_train == 1].index + 1000000)\n",
        "ytemp.loc[:] = 1\n",
        "y_train_new = y_train.append(ytemp)\n",
        "ytemp = y_train.reindex(X_train[y_train == 1].index + 2000000)\n",
        "ytemp.loc[:] = 1\n",
        "y_train_new = y_train_new.append(ytemp)\n",
        "\n",
        "print(len(X_train_new), len(y_train_new))"
      ],
      "execution_count": null,
      "outputs": [
        {
          "output_type": "stream",
          "text": [
            "6877 6877\n"
          ],
          "name": "stdout"
        }
      ]
    },
    {
      "cell_type": "code",
      "metadata": {
        "id": "XbYjMZEdm8aQ",
        "colab": {
          "base_uri": "https://localhost:8080/",
          "height": 417
        },
        "outputId": "810fbcbe-1c32-4e09-8081-3d6312014027"
      },
      "source": [
        "X_train_new"
      ],
      "execution_count": null,
      "outputs": [
        {
          "output_type": "execute_result",
          "data": {
            "text/html": [
              "<div>\n",
              "<style scoped>\n",
              "    .dataframe tbody tr th:only-of-type {\n",
              "        vertical-align: middle;\n",
              "    }\n",
              "\n",
              "    .dataframe tbody tr th {\n",
              "        vertical-align: top;\n",
              "    }\n",
              "\n",
              "    .dataframe thead th {\n",
              "        text-align: right;\n",
              "    }\n",
              "</style>\n",
              "<table border=\"1\" class=\"dataframe\">\n",
              "  <thead>\n",
              "    <tr style=\"text-align: right;\">\n",
              "      <th></th>\n",
              "      <th>seriesuid</th>\n",
              "      <th>coordX</th>\n",
              "      <th>coordY</th>\n",
              "      <th>coordZ</th>\n",
              "    </tr>\n",
              "  </thead>\n",
              "  <tbody>\n",
              "    <tr>\n",
              "      <th>59270</th>\n",
              "      <td>1.3.6.1.4.1.14519.5.2.1.6279.6001.132817748896...</td>\n",
              "      <td>-97.808167</td>\n",
              "      <td>3.897917</td>\n",
              "      <td>-201.030000</td>\n",
              "    </tr>\n",
              "    <tr>\n",
              "      <th>150277</th>\n",
              "      <td>1.3.6.1.4.1.14519.5.2.1.6279.6001.182192086929...</td>\n",
              "      <td>58.990000</td>\n",
              "      <td>-24.230000</td>\n",
              "      <td>-18.320000</td>\n",
              "    </tr>\n",
              "    <tr>\n",
              "      <th>432208</th>\n",
              "      <td>1.3.6.1.4.1.14519.5.2.1.6279.6001.397522780537...</td>\n",
              "      <td>-50.307219</td>\n",
              "      <td>159.439740</td>\n",
              "      <td>-113.418797</td>\n",
              "    </tr>\n",
              "    <tr>\n",
              "      <th>423122</th>\n",
              "      <td>1.3.6.1.4.1.14519.5.2.1.6279.6001.339882192295...</td>\n",
              "      <td>-106.731000</td>\n",
              "      <td>-104.468000</td>\n",
              "      <td>751.163333</td>\n",
              "    </tr>\n",
              "    <tr>\n",
              "      <th>344581</th>\n",
              "      <td>1.3.6.1.4.1.14519.5.2.1.6279.6001.296863826932...</td>\n",
              "      <td>67.240000</td>\n",
              "      <td>-32.590000</td>\n",
              "      <td>-107.790000</td>\n",
              "    </tr>\n",
              "    <tr>\n",
              "      <th>...</th>\n",
              "      <td>...</td>\n",
              "      <td>...</td>\n",
              "      <td>...</td>\n",
              "      <td>...</td>\n",
              "    </tr>\n",
              "    <tr>\n",
              "      <th>2436163</th>\n",
              "      <td>1.3.6.1.4.1.14519.5.2.1.6279.6001.404768898286...</td>\n",
              "      <td>88.955096</td>\n",
              "      <td>224.250740</td>\n",
              "      <td>-586.901865</td>\n",
              "    </tr>\n",
              "    <tr>\n",
              "      <th>2013078</th>\n",
              "      <td>1.3.6.1.4.1.14519.5.2.1.6279.6001.106719103982...</td>\n",
              "      <td>-57.089458</td>\n",
              "      <td>72.608061</td>\n",
              "      <td>1791.668825</td>\n",
              "    </tr>\n",
              "    <tr>\n",
              "      <th>2352132</th>\n",
              "      <td>1.3.6.1.4.1.14519.5.2.1.6279.6001.300246184547...</td>\n",
              "      <td>100.136716</td>\n",
              "      <td>3.904990</td>\n",
              "      <td>-93.909072</td>\n",
              "    </tr>\n",
              "    <tr>\n",
              "      <th>2188812</th>\n",
              "      <td>1.3.6.1.4.1.14519.5.2.1.6279.6001.202187810895...</td>\n",
              "      <td>118.180000</td>\n",
              "      <td>-42.910000</td>\n",
              "      <td>-247.440000</td>\n",
              "    </tr>\n",
              "    <tr>\n",
              "      <th>2459476</th>\n",
              "      <td>1.3.6.1.4.1.14519.5.2.1.6279.6001.503980049263...</td>\n",
              "      <td>-112.420630</td>\n",
              "      <td>37.648160</td>\n",
              "      <td>-67.928064</td>\n",
              "    </tr>\n",
              "  </tbody>\n",
              "</table>\n",
              "<p>6877 rows × 4 columns</p>\n",
              "</div>"
            ],
            "text/plain": [
              "                                                 seriesuid  ...       coordZ\n",
              "59270    1.3.6.1.4.1.14519.5.2.1.6279.6001.132817748896...  ...  -201.030000\n",
              "150277   1.3.6.1.4.1.14519.5.2.1.6279.6001.182192086929...  ...   -18.320000\n",
              "432208   1.3.6.1.4.1.14519.5.2.1.6279.6001.397522780537...  ...  -113.418797\n",
              "423122   1.3.6.1.4.1.14519.5.2.1.6279.6001.339882192295...  ...   751.163333\n",
              "344581   1.3.6.1.4.1.14519.5.2.1.6279.6001.296863826932...  ...  -107.790000\n",
              "...                                                    ...  ...          ...\n",
              "2436163  1.3.6.1.4.1.14519.5.2.1.6279.6001.404768898286...  ...  -586.901865\n",
              "2013078  1.3.6.1.4.1.14519.5.2.1.6279.6001.106719103982...  ...  1791.668825\n",
              "2352132  1.3.6.1.4.1.14519.5.2.1.6279.6001.300246184547...  ...   -93.909072\n",
              "2188812  1.3.6.1.4.1.14519.5.2.1.6279.6001.202187810895...  ...  -247.440000\n",
              "2459476  1.3.6.1.4.1.14519.5.2.1.6279.6001.503980049263...  ...   -67.928064\n",
              "\n",
              "[6877 rows x 4 columns]"
            ]
          },
          "metadata": {
            "tags": []
          },
          "execution_count": 31
        }
      ]
    },
    {
      "cell_type": "code",
      "metadata": {
        "id": "om4MbXFDm-vs",
        "colab": {
          "base_uri": "https://localhost:8080/"
        },
        "outputId": "9a01c227-3964-4658-f728-93995f3576f5"
      },
      "source": [
        "y_train_new"
      ],
      "execution_count": null,
      "outputs": [
        {
          "output_type": "execute_result",
          "data": {
            "text/plain": [
              "59270      0.0\n",
              "150277     0.0\n",
              "432208     0.0\n",
              "423122     0.0\n",
              "344581     0.0\n",
              "          ... \n",
              "2436163    1.0\n",
              "2013078    1.0\n",
              "2352132    1.0\n",
              "2188812    1.0\n",
              "2459476    1.0\n",
              "Name: class, Length: 6877, dtype: float64"
            ]
          },
          "metadata": {
            "tags": []
          },
          "execution_count": 32
        }
      ]
    },
    {
      "cell_type": "code",
      "metadata": {
        "id": "shQ7VLmMnAbY",
        "colab": {
          "base_uri": "https://localhost:8080/"
        },
        "outputId": "f7bb91a9-2926-4429-c653-4c5971fa6144"
      },
      "source": [
        "X_train_new.index"
      ],
      "execution_count": null,
      "outputs": [
        {
          "output_type": "execute_result",
          "data": {
            "text/plain": [
              "Int64Index([  59270,  150277,  432208,  423122,  344581,   75111,  246217,\n",
              "             292479,  147683,  468235,\n",
              "            ...\n",
              "            2282167, 2300642, 2021354, 2461166, 2332952, 2436163, 2013078,\n",
              "            2352132, 2188812, 2459476],\n",
              "           dtype='int64', length=6877)"
            ]
          },
          "metadata": {
            "tags": []
          },
          "execution_count": 33
        }
      ]
    },
    {
      "cell_type": "code",
      "metadata": {
        "id": "4g_IgNXOnLTE"
      },
      "source": [
        "class PreProcessing(object):\n",
        "    def __init__(self, image = None):\n",
        "        self.image = image\n",
        "    \n",
        "    def subtract_mean(self):\n",
        "        self.image = (self.image/255.0 - 0.25)*255\n",
        "        return self.image\n",
        "    \n",
        "    def downsample_data(self):\n",
        "        self.image = cv2.resize(self.image, (40,40), interpolation = cv2.INTER_AREA)\n",
        "        return self.image\n",
        "\n",
        "    def upsample_data(self):\n",
        "        self.image = cv2.resize(self.image, (224, 224), interpolation = cv2.INTER_CUBIC)\n",
        "        return self.image"
      ],
      "execution_count": null,
      "outputs": []
    },
    {
      "cell_type": "markdown",
      "metadata": {
        "id": "i4lpCrvzepvT"
      },
      "source": [
        "Visualization"
      ]
    },
    {
      "cell_type": "code",
      "metadata": {
        "id": "yO0Geo08nOPy",
        "colab": {
          "base_uri": "https://localhost:8080/",
          "height": 679
        },
        "outputId": "05e93c23-2bab-4f3b-c967-ffcac15033c2"
      },
      "source": [
        "dirName = '/content/gdrive/My Drive/lung_cancer_mid/data/train/'\n",
        "plt.figure(figsize = (10,10))\n",
        "inp = imread(dirName + 'image_'+ str(30517) + '.jpg')\n",
        "print (\"Original shape of input image: \", inp.shape)\n",
        "plt.subplot(221)\n",
        "plt.imshow(inp, cmap='gray')\n",
        "plt.grid(False)\n",
        "\n",
        "inp = PreProcessing(inp).upsample_data()\n",
        "Pp = PreProcessing(inp)\n",
        "\n",
        "inp2 = Pp.subtract_mean()\n",
        "plt.subplot(222)\n",
        "plt.imshow(inp2, cmap='gray')\n",
        "plt.grid(False)\n",
        "\n",
        "inp3 = ImageEnhance.Contrast(Image.fromarray(inp))\n",
        "contrast = 1.5\n",
        "inp3 = inp3.enhance(contrast)\n",
        "plt.subplot(223)\n",
        "plt.imshow(inp3, cmap='gray')\n",
        "plt.grid(False)\n",
        "\n",
        "inp4 = Pp.downsample_data()\n",
        "plt.subplot(224)\n",
        "plt.imshow(inp4,cmap='gray')\n",
        "plt.grid(False)"
      ],
      "execution_count": null,
      "outputs": [
        {
          "output_type": "stream",
          "text": [
            "/usr/local/lib/python3.7/dist-packages/ipykernel_launcher.py:3: DeprecationWarning:     `imread` is deprecated!\n",
            "    `imread` is deprecated in SciPy 1.0.0, and will be removed in 1.2.0.\n",
            "    Use ``imageio.imread`` instead.\n",
            "  This is separate from the ipykernel package so we can avoid doing imports until\n"
          ],
          "name": "stderr"
        },
        {
          "output_type": "stream",
          "text": [
            "Original shape of input image:  (50, 50)\n"
          ],
          "name": "stdout"
        },
        {
          "output_type": "display_data",
          "data": {
            "image/png": "[encoded data removed]",
            "text/plain": [
              "<Figure size 720x720 with 4 Axes>"
            ]
          },
          "metadata": {
            "tags": [],
            "needs_background": "light"
          }
        }
      ]
    },
    {
      "cell_type": "code",
      "metadata": {
        "id": "0sl30puNnyPx",
        "colab": {
          "base_uri": "https://localhost:8080/"
        },
        "outputId": "ea99d3ce-b559-44de-f2e8-87fa70a974a7"
      },
      "source": [
        "inp.shape"
      ],
      "execution_count": null,
      "outputs": [
        {
          "output_type": "execute_result",
          "data": {
            "text/plain": [
              "(224, 224)"
            ]
          },
          "metadata": {
            "tags": []
          },
          "execution_count": 36
        }
      ]
    },
    {
      "cell_type": "code",
      "metadata": {
        "id": "5QzFCypcn2J0",
        "colab": {
          "base_uri": "https://localhost:8080/"
        },
        "outputId": "b349b383-0c84-48e8-ab63-341485e4b4ce"
      },
      "source": [
        "inp.dtype"
      ],
      "execution_count": null,
      "outputs": [
        {
          "output_type": "execute_result",
          "data": {
            "text/plain": [
              "dtype('uint8')"
            ]
          },
          "metadata": {
            "tags": []
          },
          "execution_count": 37
        }
      ]
    },
    {
      "cell_type": "code",
      "metadata": {
        "id": "IuNDacjbn30E",
        "colab": {
          "base_uri": "https://localhost:8080/"
        },
        "outputId": "1e8bd2de-4f13-42f2-dfb7-e489a4cd14b2"
      },
      "source": [
        "y_train_new.values.astype(int)"
      ],
      "execution_count": null,
      "outputs": [
        {
          "output_type": "execute_result",
          "data": {
            "text/plain": [
              "array([0, 0, 0, ..., 1, 1, 1])"
            ]
          },
          "metadata": {
            "tags": []
          },
          "execution_count": 38
        }
      ]
    },
    {
      "cell_type": "code",
      "metadata": {
        "id": "V1WbRuGzoGXc",
        "colab": {
          "base_uri": "https://localhost:8080/",
          "height": 35
        },
        "outputId": "6a17d725-5e8f-4a68-f2ae-81d709a06e45"
      },
      "source": [
        "dirName"
      ],
      "execution_count": null,
      "outputs": [
        {
          "output_type": "execute_result",
          "data": {
            "application/vnd.google.colaboratory.intrinsic+json": {
              "type": "string"
            },
            "text/plain": [
              "'/content/gdrive/My Drive/lung_cancer_mid/data/train/'"
            ]
          },
          "metadata": {
            "tags": []
          },
          "execution_count": 39
        }
      ]
    },
    {
      "cell_type": "markdown",
      "metadata": {
        "id": "LC9CcaqWhlvA"
      },
      "source": [
        "Some data processing"
      ]
    },
    {
      "cell_type": "code",
      "metadata": {
        "id": "Q_YD4FSBoIc8",
        "colab": {
          "base_uri": "https://localhost:8080/"
        },
        "outputId": "87d1acd2-52d1-46cc-8faa-aca0261b46af"
      },
      "source": [
        "train_filenames =\\\n",
        "X_train_new.index.to_series().apply(lambda x:\\\n",
        "                                    '/content/gdrive/My Drive/lung_cancer_mid/data/train/image_'+str(x)+'.jpg')\n",
        "train_filenames.values.astype(str)"
      ],
      "execution_count": null,
      "outputs": [
        {
          "output_type": "execute_result",
          "data": {
            "text/plain": [
              "array(['/content/gdrive/My Drive/lung_cancer_mid/data/train/image_59270.jpg',\n",
              "       '/content/gdrive/My Drive/lung_cancer_mid/data/train/image_150277.jpg',\n",
              "       '/content/gdrive/My Drive/lung_cancer_mid/data/train/image_432208.jpg',\n",
              "       ...,\n",
              "       '/content/gdrive/My Drive/lung_cancer_mid/data/train/image_2352132.jpg',\n",
              "       '/content/gdrive/My Drive/lung_cancer_mid/data/train/image_2188812.jpg',\n",
              "       '/content/gdrive/My Drive/lung_cancer_mid/data/train/image_2459476.jpg'],\n",
              "      dtype='<U69')"
            ]
          },
          "metadata": {
            "tags": []
          },
          "execution_count": 40
        }
      ]
    },
    {
      "cell_type": "code",
      "metadata": {
        "id": "fy3VVAZfoUHi",
        "colab": {
          "base_uri": "https://localhost:8080/"
        },
        "outputId": "5c093dd0-0407-48b2-be3e-1709c900ea45"
      },
      "source": [
        "train_filenames.values.astype(str)"
      ],
      "execution_count": null,
      "outputs": [
        {
          "output_type": "execute_result",
          "data": {
            "text/plain": [
              "array(['/content/gdrive/My Drive/lung_cancer_mid/data/train/image_59270.jpg',\n",
              "       '/content/gdrive/My Drive/lung_cancer_mid/data/train/image_150277.jpg',\n",
              "       '/content/gdrive/My Drive/lung_cancer_mid/data/train/image_432208.jpg',\n",
              "       ...,\n",
              "       '/content/gdrive/My Drive/lung_cancer_mid/data/train/image_2352132.jpg',\n",
              "       '/content/gdrive/My Drive/lung_cancer_mid/data/train/image_2188812.jpg',\n",
              "       '/content/gdrive/My Drive/lung_cancer_mid/data/train/image_2459476.jpg'],\n",
              "      dtype='<U69')"
            ]
          },
          "metadata": {
            "tags": []
          },
          "execution_count": 41
        }
      ]
    },
    {
      "cell_type": "code",
      "metadata": {
        "id": "JytZ-Yx_oUmo"
      },
      "source": [
        "dataset_file = 'traindatalabels.txt'\n",
        "filenames = train_filenames.values.astype(str)\n",
        "train_filenames =X_train_new.index.to_series().apply(lambda x:filenames)\n",
        "labels = y_train_new.values.astype(int)\n",
        "traindata = np.zeros(filenames.size,\\\n",
        "                     dtype=[('var1', 'S36'), ('var2', int)])\n",
        "traindata['var1'] = filenames\n",
        "traindata['var2'] = labels\n",
        "\n",
        "np.savetxt(dataset_file, traindata, fmt=\"%10s %d\")"
      ],
      "execution_count": null,
      "outputs": []
    },
    {
      "cell_type": "code",
      "metadata": {
        "id": "A0ychqA3oXXw",
        "colab": {
          "base_uri": "https://localhost:8080/"
        },
        "outputId": "651058d4-ee3a-4466-bb60-cbf8edb86bf1"
      },
      "source": [
        "traindata"
      ],
      "execution_count": null,
      "outputs": [
        {
          "output_type": "execute_result",
          "data": {
            "text/plain": [
              "array([(b'/content/gdrive/My Drive/lung_cancer', 0),\n",
              "       (b'/content/gdrive/My Drive/lung_cancer', 0),\n",
              "       (b'/content/gdrive/My Drive/lung_cancer', 0), ...,\n",
              "       (b'/content/gdrive/My Drive/lung_cancer', 1),\n",
              "       (b'/content/gdrive/My Drive/lung_cancer', 1),\n",
              "       (b'/content/gdrive/My Drive/lung_cancer', 1)],\n",
              "      dtype=[('var1', 'S36'), ('var2', '<i8')])"
            ]
          },
          "metadata": {
            "tags": []
          },
          "execution_count": 43
        }
      ]
    },
    {
      "cell_type": "code",
      "metadata": {
        "id": "rs01yMKMofr-"
      },
      "source": [
        "# Build a HDF5 dataset (only required once)\n",
        "\n",
        "#build_hdf5_image_dataset(dataset_file, image_shape=(50, 50), mode='file', output_path='traindataset.h5', categorical_labels=True, normalize=True)"
      ],
      "execution_count": null,
      "outputs": []
    },
    {
      "cell_type": "code",
      "metadata": {
        "id": "b-A7aZTnohMo"
      },
      "source": [
        "# Load HDF5 dataset\n",
        "\n",
        "h5f = h5py.File('/content/gdrive/My Drive/lung_cancer_mid/data/traindataset.h5', 'r')\n",
        "X_train_images = h5f['X']\n",
        "Y_train_labels = h5f['Y']\n",
        "\n",
        "h5f2 = h5py.File('/content/gdrive/My Drive/lung_cancer_mid/data/valdataset.h5', 'r')\n",
        "X_val_images = h5f2['X']\n",
        "Y_val_labels = h5f2['Y']"
      ],
      "execution_count": null,
      "outputs": []
    },
    {
      "cell_type": "code",
      "metadata": {
        "id": "t9DvkMcxoios",
        "colab": {
          "base_uri": "https://localhost:8080/"
        },
        "outputId": "bcbd246e-17e0-4ad8-d562-c944b8de19c3"
      },
      "source": [
        "X_train_images"
      ],
      "execution_count": null,
      "outputs": [
        {
          "output_type": "execute_result",
          "data": {
            "text/plain": [
              "<HDF5 dataset \"X\": shape (5187, 50, 50), type \"<f4\">"
            ]
          },
          "metadata": {
            "tags": []
          },
          "execution_count": 46
        }
      ]
    },
    {
      "cell_type": "code",
      "metadata": {
        "id": "1WXXL5myokNM",
        "colab": {
          "base_uri": "https://localhost:8080/"
        },
        "outputId": "53c639e4-9c64-4558-f257-27167a19ce4d"
      },
      "source": [
        "Y_train_labels"
      ],
      "execution_count": null,
      "outputs": [
        {
          "output_type": "execute_result",
          "data": {
            "text/plain": [
              "<HDF5 dataset \"Y\": shape (5187, 2), type \"<f4\">"
            ]
          },
          "metadata": {
            "tags": []
          },
          "execution_count": 47
        }
      ]
    },
    {
      "cell_type": "code",
      "metadata": {
        "id": "6ftVjERAomCp"
      },
      "source": [
        "X_train_processing = np.array(X_train_images)\n",
        "X_val_processing = np.array(X_val_images)"
      ],
      "execution_count": null,
      "outputs": []
    },
    {
      "cell_type": "code",
      "metadata": {
        "id": "VaVlZRSpota2",
        "colab": {
          "base_uri": "https://localhost:8080/"
        },
        "outputId": "0ea43067-a64c-428a-8fce-18dacca8ba08"
      },
      "source": [
        "print(X_train_processing.shape)\n",
        "print(X_val_processing.shape)"
      ],
      "execution_count": null,
      "outputs": [
        {
          "output_type": "stream",
          "text": [
            "(5187, 50, 50)\n",
            "(1297, 50, 50)\n"
          ],
          "name": "stdout"
        }
      ]
    },
    {
      "cell_type": "code",
      "metadata": {
        "id": "XT22ZPHWovXW",
        "colab": {
          "base_uri": "https://localhost:8080/"
        },
        "outputId": "6bdd2cff-3190-409e-f197-49bf2408745d"
      },
      "source": [
        "print(X_train_processing.dtype)\n",
        "print(X_val_processing.dtype)"
      ],
      "execution_count": null,
      "outputs": [
        {
          "output_type": "stream",
          "text": [
            "float32\n",
            "float32\n"
          ],
          "name": "stdout"
        }
      ]
    },
    {
      "cell_type": "code",
      "metadata": {
        "id": "bwpKVHE0owzp"
      },
      "source": [
        "img_test = X_train_processing[1000]\n",
        "img_test_downsampled = PreProcessing(img_test).downsample_data()\n",
        "img_test_upsampled = PreProcessing(img_test).upsample_data()"
      ],
      "execution_count": null,
      "outputs": []
    },
    {
      "cell_type": "code",
      "metadata": {
        "id": "TNgBwzaJoytn",
        "colab": {
          "base_uri": "https://localhost:8080/"
        },
        "outputId": "7395d45f-7903-4862-d522-9a9cb30a5f3a"
      },
      "source": [
        "print(Y_train_labels[1000])"
      ],
      "execution_count": null,
      "outputs": [
        {
          "output_type": "stream",
          "text": [
            "[1. 0.]\n"
          ],
          "name": "stdout"
        }
      ]
    },
    {
      "cell_type": "code",
      "metadata": {
        "id": "ZDQ7DI33o0jV",
        "colab": {
          "base_uri": "https://localhost:8080/",
          "height": 220
        },
        "outputId": "396d64dc-32a4-4d93-dd92-6220fab88b06"
      },
      "source": [
        "plt.subplot(121)\n",
        "plt.imshow(img_test,cmap='gray')\n",
        "plt.subplot(122)\n",
        "plt.imshow(img_test_downsampled,cmap='gray')"
      ],
      "execution_count": null,
      "outputs": [
        {
          "output_type": "execute_result",
          "data": {
            "text/plain": [
              "<matplotlib.image.AxesImage at 0x7fede28e3250>"
            ]
          },
          "metadata": {
            "tags": []
          },
          "execution_count": 53
        },
        {
          "output_type": "display_data",
          "data": {
            "image/png": "[encoded data removed]",
            "text/plain": [
              "<Figure size 432x288 with 2 Axes>"
            ]
          },
          "metadata": {
            "tags": [],
            "needs_background": "light"
          }
        }
      ]
    },
    {
      "cell_type": "code",
      "metadata": {
        "id": "dK_rPPfco64H",
        "colab": {
          "base_uri": "https://localhost:8080/",
          "height": 221
        },
        "outputId": "d1477d32-d33f-440e-edb8-6d81a7005bd2"
      },
      "source": [
        "img_test_subtracted_mean = PreProcessing(img_test_upsampled).subtract_mean()\n",
        "plt.subplot(121)\n",
        "plt.imshow(img_test_upsampled,cmap='gray')\n",
        "plt.subplot(122)\n",
        "plt.imshow(img_test_subtracted_mean,cmap='gray')"
      ],
      "execution_count": null,
      "outputs": [
        {
          "output_type": "execute_result",
          "data": {
            "text/plain": [
              "<matplotlib.image.AxesImage at 0x7fede4119f50>"
            ]
          },
          "metadata": {
            "tags": []
          },
          "execution_count": 54
        },
        {
          "output_type": "display_data",
          "data": {
            "image/png": "[encoded data removed]",
            "text/plain": [
              "<Figure size 432x288 with 2 Axes>"
            ]
          },
          "metadata": {
            "tags": [],
            "needs_background": "light"
          }
        }
      ]
    },
    {
      "cell_type": "code",
      "metadata": {
        "id": "qRbMJCt4o8rb"
      },
      "source": [
        "X_train_images_np = np.expand_dims(np.array(X_train_images), axis = 3)\n",
        "y_train_labels_np = np.array(Y_train_labels)\n",
        "X_val_images_np = np.expand_dims(np.array(X_val_images), axis = 3)\n",
        "y_val_labels_np = np.array(Y_val_labels)"
      ],
      "execution_count": null,
      "outputs": []
    },
    {
      "cell_type": "code",
      "metadata": {
        "id": "dFSUz-pcpZAu",
        "colab": {
          "base_uri": "https://localhost:8080/"
        },
        "outputId": "d2d88056-14aa-49c7-fb58-f9759a457ee4"
      },
      "source": [
        "print(X_train_images_np.shape)\n",
        "print(y_train_labels_np.shape)\n",
        "print(X_val_images_np.shape)\n",
        "print(y_val_labels_np.shape)"
      ],
      "execution_count": null,
      "outputs": [
        {
          "output_type": "stream",
          "text": [
            "(5187, 50, 50, 1)\n",
            "(5187, 2)\n",
            "(1297, 50, 50, 1)\n",
            "(1297, 2)\n"
          ],
          "name": "stdout"
        }
      ]
    },
    {
      "cell_type": "code",
      "metadata": {
        "id": "ViJFtZARpaXR",
        "colab": {
          "base_uri": "https://localhost:8080/"
        },
        "outputId": "332c307e-cbd7-4a75-ecd1-d5d12822c0d3"
      },
      "source": [
        "print(X_train_images_np.dtype)\n",
        "print(y_train_labels_np.dtype)\n",
        "print(X_val_images_np.dtype)\n",
        "print(y_val_labels_np.dtype)"
      ],
      "execution_count": null,
      "outputs": [
        {
          "output_type": "stream",
          "text": [
            "float32\n",
            "float32\n",
            "float32\n",
            "float32\n"
          ],
          "name": "stdout"
        }
      ]
    },
    {
      "cell_type": "code",
      "metadata": {
        "id": "MuFm_pTWpbj9"
      },
      "source": [
        "h5f2 = h5py.File('/content/gdrive/My Drive/lung_cancer_mid/data/testdataset.h5', 'r')\n",
        "X_test_images = h5f2['X']\n",
        "Y_test_labels = h5f2['Y']"
      ],
      "execution_count": null,
      "outputs": []
    },
    {
      "cell_type": "code",
      "metadata": {
        "id": "qMB6sZFYpdox"
      },
      "source": [
        "X_test_images_np = np.expand_dims(np.array(X_test_images), axis = 3)\n",
        "y_test_labels_np = np.array(Y_test_labels)"
      ],
      "execution_count": null,
      "outputs": []
    },
    {
      "cell_type": "code",
      "metadata": {
        "id": "1Gv-eGkwpfRT",
        "colab": {
          "base_uri": "https://localhost:8080/"
        },
        "outputId": "78adc79f-9e85-4a06-a9d2-deae1ee7d9da"
      },
      "source": [
        "print(X_test_images_np.shape)\n",
        "print(y_test_labels_np.shape)"
      ],
      "execution_count": null,
      "outputs": [
        {
          "output_type": "stream",
          "text": [
            "(1622, 50, 50, 1)\n",
            "(1622, 2)\n"
          ],
          "name": "stdout"
        }
      ]
    },
    {
      "cell_type": "code",
      "metadata": {
        "id": "hIZ4Yxe9phER",
        "colab": {
          "base_uri": "https://localhost:8080/"
        },
        "outputId": "dac1d658-1636-410b-d08d-dc29cd2ae117"
      },
      "source": [
        "print(X_test_images_np.dtype)\n",
        "print(y_test_labels_np.dtype)"
      ],
      "execution_count": null,
      "outputs": [
        {
          "output_type": "stream",
          "text": [
            "float32\n",
            "float32\n"
          ],
          "name": "stdout"
        }
      ]
    },
    {
      "cell_type": "markdown",
      "metadata": {
        "id": "VikkT9tSh4cu"
      },
      "source": [
        "Create model 1"
      ]
    },
    {
      "cell_type": "code",
      "metadata": {
        "id": "oORGsaOBpoHu"
      },
      "source": [
        "\"\"\"\n",
        "def define_model():\n",
        "\tmodel = Sequential()\n",
        "\tmodel.add(Conv2D(32, (3, 3), activation='relu', kernel_initializer='he_uniform', padding='same', input_shape=(50, 50, 1)))\n",
        "\tmodel.add(BatchNormalization())\n",
        "\tmodel.add(Conv2D(32, (3, 3), activation='relu', kernel_initializer='he_uniform', padding='same'))\n",
        "\tmodel.add(BatchNormalization())\n",
        "\tmodel.add(MaxPooling2D((2, 2)))\n",
        "\tmodel.add(Dropout(0.1))\n",
        "\tmodel.add(Conv2D(64, (3, 3), activation='relu', kernel_initializer='he_uniform', padding='same'))\n",
        "\tmodel.add(BatchNormalization())\n",
        "\tmodel.add(Conv2D(64, (3, 3), activation='relu', kernel_initializer='he_uniform', padding='same'))\n",
        "\tmodel.add(BatchNormalization())\n",
        "\tmodel.add(MaxPooling2D((2, 2)))\n",
        "\tmodel.add(Dropout(0.2))\n",
        "\tmodel.add(Conv2D(128, (3, 3), activation='relu', kernel_initializer='he_uniform', padding='same'))\n",
        "\tmodel.add(BatchNormalization())\n",
        "\tmodel.add(Conv2D(128, (3, 3), activation='relu', kernel_initializer='he_uniform', padding='same'))\n",
        "\tmodel.add(BatchNormalization())\n",
        "\tmodel.add(MaxPooling2D((2, 2)))\n",
        "\tmodel.add(Dropout(0.3))\n",
        "\tmodel.add(Conv2D(128, (3, 3), activation='relu', kernel_initializer='he_uniform', padding='same'))\n",
        "\tmodel.add(BatchNormalization())\n",
        "\tmodel.add(Conv2D(128, (3, 3), activation='relu', kernel_initializer='he_uniform', padding='same'))\n",
        "\tmodel.add(BatchNormalization())\n",
        "\tmodel.add(MaxPooling2D((2, 2)))\n",
        "\tmodel.add(Dropout(0.4))\n",
        "\tmodel.add(Conv2D(128, (3, 3), activation='relu', kernel_initializer='he_uniform', padding='same'))\n",
        "\tmodel.add(BatchNormalization())\n",
        "\tmodel.add(Conv2D(128, (3, 3), activation='relu', kernel_initializer='he_uniform', padding='same'))\n",
        "\tmodel.add(BatchNormalization())\n",
        "\tmodel.add(MaxPooling2D((2, 2)))\n",
        "\tmodel.add(Dropout(0.5))\n",
        "\tmodel.add(Flatten())\n",
        "\tmodel.add(Dense(128, activation='relu', kernel_initializer='he_uniform'))\n",
        "\tmodel.add(BatchNormalization())\n",
        "\tmodel.add(Dropout(0.5))\n",
        "\tmodel.add(Dense(128, activation='relu', kernel_initializer='he_uniform'));return model\n",
        "\n",
        "mobile = define_model()\n",
        "\"\"\""
      ],
      "execution_count": null,
      "outputs": []
    },
    {
      "cell_type": "code",
      "metadata": {
        "id": "bCxxQE1apozN"
      },
      "source": [
        "\"\"\"\n",
        "mobile.summary()\n",
        "\"\"\""
      ],
      "execution_count": null,
      "outputs": []
    },
    {
      "cell_type": "code",
      "metadata": {
        "id": "UZGlwveRqAFj"
      },
      "source": [
        "\"\"\"\n",
        "op_layer = mobile.output\n",
        "final_layer = Dense(128,activation='relu',kernel_initializer='he_uniform')(op_layer)\n",
        "final_layer = Dense(128,activation='relu',kernel_initializer='he_uniform')(final_layer)\n",
        "final_layer = Dense(2,activation= 'softmax')(final_layer)\n",
        "\n",
        "# Define model input and output\n",
        "model = Model(inputs = mobile.input , outputs = final_layer)\n",
        "opt = SGD(lr=0.001, momentum=0.9)\n",
        "\n",
        "optimizer_sgd = keras.optimizers.Adam(learning_rate=0.001)\n",
        "model.compile(optimizer=optimizer_sgd, loss='categorical_crossentropy', metrics=['accuracy'])\n",
        "\"\"\""
      ],
      "execution_count": null,
      "outputs": []
    },
    {
      "cell_type": "code",
      "metadata": {
        "id": "bVCCq9wlqo6z"
      },
      "source": [
        "\"\"\"\n",
        "model.summary()\n",
        "\"\"\""
      ],
      "execution_count": null,
      "outputs": []
    },
    {
      "cell_type": "code",
      "metadata": {
        "id": "aYJNrefDqpSM"
      },
      "source": [
        "\"\"\"\n",
        "# plot diagnostic learning curves\n",
        "\n",
        "def summarize_diagnostics(hist):\n",
        "\tplt.plot(hist.history[\"accuracy\"])\n",
        "\tplt.plot(hist.history['val_accuracy'])\n",
        "\tplt.plot(hist.history['loss'])\n",
        "\tplt.plot(hist.history['val_loss'])\n",
        "\tplt.title(\"model accuracy\")\n",
        "\tplt.ylabel(\"Accuracy\")\n",
        "\tplt.xlabel(\"Epoch\")\n",
        "\tplt.legend([\"Accuracy\",\"Validation Accuracy\",\"loss\",\"Validation Loss\"])\n",
        "  \"\"\""
      ],
      "execution_count": null,
      "outputs": []
    },
    {
      "cell_type": "code",
      "metadata": {
        "id": "4CVWX2CVqsI8"
      },
      "source": [
        "\"\"\"\n",
        "callbacks = [\n",
        "    keras.callbacks.ModelCheckpoint('classification_deep_conv_model.h5', save_best_only=True),\n",
        "    keras.callbacks.ReduceLROnPlateau()]\n",
        "\"\"\""
      ],
      "execution_count": null,
      "outputs": []
    },
    {
      "cell_type": "code",
      "metadata": {
        "id": "Qp-1dyVzqVxQ"
      },
      "source": [
        "\"\"\"\n",
        "# run the test harness for evaluating a model\n",
        "def run_test_harness():\n",
        "\t# create data generator\n",
        "\tdatagen = ImageDataGenerator(width_shift_range=0.1, height_shift_range=0.1, horizontal_flip=True,zoom_range=0.1)\n",
        "\t# prepare iterator\n",
        "\tit_train = datagen.flow(X_train_images_np, y_train_labels_np, batch_size=64)\n",
        "\t# fit model\n",
        "\tsteps = int(X_train_images_np.shape[0] / 64)\n",
        "\thist = model.fit_generator(it_train, steps_per_epoch=steps, epochs=500, validation_data=(X_val_images_np, y_val_labels_np), verbose=1, callbacks = callbacks)\n",
        "\t# evaluate model\n",
        "\t_, acc = model.evaluate(X_val_images_np, y_val_labels_np, verbose=1)\n",
        "\tprint('> %.3f' % (acc * 100.0))\n",
        "\t# learning curves\n",
        "\tsummarize_diagnostics(hist)\n",
        "\n",
        "# entry point, run the test harness\n",
        "run_test_harness()\n",
        "\"\"\""
      ],
      "execution_count": null,
      "outputs": []
    },
    {
      "cell_type": "markdown",
      "metadata": {
        "id": "djFJldf5iQT2"
      },
      "source": [
        "Define model 2 (similar to YOLO)"
      ]
    },
    {
      "cell_type": "code",
      "metadata": {
        "id": "67uQhkqIpqZq"
      },
      "source": [
        "def define_model():\n",
        "  model = Sequential()\n",
        "  model.add(Conv2D(filters=32, kernel_size=(3,3), strides=1, activation=tf.nn.leaky_relu, padding='same', input_shape=(50,50,1)))\n",
        "  model.add(BatchNormalization())\n",
        "  model.add(Conv2D(filters=64, kernel_size=(3,3), strides=2, activation=tf.nn.leaky_relu, padding='same'))\n",
        "  model.add(BatchNormalization())\n",
        "  model.add(Conv2D(filters=32, kernel_size=(1,1), strides=1, activation=tf.nn.leaky_relu, padding='same'))\n",
        "  model.add(BatchNormalization())\n",
        "  model.add(Conv2D(filters=64, kernel_size=(3,3), strides=1, activation=tf.nn.leaky_relu, padding='same'))\n",
        "  model.add(BatchNormalization())\n",
        "  model.add(Dropout(0.2))\n",
        "  model.add(Conv2D(filters=128, kernel_size=(3,3), strides=2, activation=tf.nn.leaky_relu, padding='same'))\n",
        "  model.add(BatchNormalization())\n",
        "  model.add(Conv2D(filters=64, kernel_size=(1,1), strides=1, activation=tf.nn.leaky_relu, padding='same'))\n",
        "  model.add(BatchNormalization())\n",
        "  model.add(Conv2D(filters=128, kernel_size=(3,3), strides=1, activation=tf.nn.leaky_relu, padding='same'))\n",
        "  model.add(BatchNormalization())\n",
        "  model.add(Dropout(0.2))\n",
        "  model.add(Conv2D(filters=64, kernel_size=(1,1), strides=1, activation=tf.nn.leaky_relu, padding='same'))\n",
        "  model.add(BatchNormalization())\n",
        "  model.add(Conv2D(filters=128, kernel_size=(3,3), strides=1, activation=tf.nn.leaky_relu, padding='same'))\n",
        "  model.add(BatchNormalization())\n",
        "  model.add(Conv2D(filters=256, kernel_size=(3,3), strides=2, activation=tf.nn.leaky_relu, padding='same'))\n",
        "  model.add(BatchNormalization())\n",
        "  model.add(Conv2D(filters=128, kernel_size=(1,1), strides=1, activation=tf.nn.leaky_relu, padding='same'))\n",
        "  model.add(BatchNormalization())\n",
        "  model.add(Conv2D(filters=256, kernel_size=(3,3), strides=1, activation=tf.nn.leaky_relu, padding='same'))\n",
        "  model.add(BatchNormalization())\n",
        "  model.add(Conv2D(filters=128, kernel_size=(1,1), strides=1, activation=tf.nn.leaky_relu, padding='same'))\n",
        "  model.add(BatchNormalization())\n",
        "  model.add(Conv2D(filters=256, kernel_size=(3,3), strides=1, activation=tf.nn.leaky_relu, padding='same'))\n",
        "  model.add(BatchNormalization())\n",
        "  model.add(Dropout(0.2))\n",
        "  model.add(Conv2D(filters=128, kernel_size=(1,1), strides=1, activation=tf.nn.leaky_relu, padding='same'))\n",
        "  model.add(BatchNormalization())\n",
        "  model.add(Conv2D(filters=256, kernel_size=(3,3), strides=1, activation=tf.nn.leaky_relu, padding='same'))\n",
        "  model.add(BatchNormalization())\n",
        "  model.add(Conv2D(filters=128, kernel_size=(1,1), strides=1, activation=tf.nn.leaky_relu, padding='same'))\n",
        "  model.add(BatchNormalization())\n",
        "  model.add(Conv2D(filters=256, kernel_size=(3,3), strides=1, activation=tf.nn.leaky_relu, padding='same'))\n",
        "  model.add(BatchNormalization())\n",
        "  model.add(Conv2D(filters=128, kernel_size=(1,1), strides=1, activation=tf.nn.leaky_relu, padding='same'))\n",
        "  model.add(BatchNormalization())\n",
        "  model.add(Conv2D(filters=256, kernel_size=(3,3), strides=1, activation=tf.nn.leaky_relu, padding='same'))\n",
        "  model.add(BatchNormalization())\n",
        "  model.add(Conv2D(filters=128, kernel_size=(1,1), strides=1, activation=tf.nn.leaky_relu, padding='same'))\n",
        "  model.add(BatchNormalization())\n",
        "  model.add(Conv2D(filters=256, kernel_size=(3,3), strides=1, activation=tf.nn.leaky_relu, padding='same'))\n",
        "  model.add(BatchNormalization())\n",
        "  model.add(Dropout(0.2))\n",
        "  model.add(Conv2D(filters=128, kernel_size=(1,1), strides=1, activation=tf.nn.leaky_relu, padding='same'))\n",
        "  model.add(BatchNormalization())\n",
        "  model.add(Conv2D(filters=256, kernel_size=(3,3), strides=1, activation=tf.nn.leaky_relu, padding='same'))\n",
        "  model.add(BatchNormalization())\n",
        "  model.add(Conv2D(filters=128, kernel_size=(1,1), strides=1, activation=tf.nn.leaky_relu, padding='same'))\n",
        "  model.add(BatchNormalization())\n",
        "  model.add(Conv2D(filters=256, kernel_size=(3,3), strides=1, activation=tf.nn.leaky_relu, padding='same'))\n",
        "  model.add(BatchNormalization())\n",
        "  model.add(Dropout(0.2))\n",
        "  model.add(Conv2D(filters=512, kernel_size=(3,3), strides=2, activation=tf.nn.leaky_relu, padding='same'))\n",
        "  model.add(BatchNormalization())\n",
        "  model.add(Conv2D(filters=256, kernel_size=(1,1), strides=1, activation=tf.nn.leaky_relu, padding='same'))\n",
        "  model.add(BatchNormalization())\n",
        "  model.add(Conv2D(filters=512, kernel_size=(3,3), strides=1, activation=tf.nn.leaky_relu, padding='same'))\n",
        "  model.add(BatchNormalization())\n",
        "  model.add(Conv2D(filters=256, kernel_size=(1,1), strides=1, activation=tf.nn.leaky_relu, padding='same'))\n",
        "  model.add(BatchNormalization())\n",
        "  model.add(Conv2D(filters=512, kernel_size=(3,3), strides=1, activation=tf.nn.leaky_relu, padding='same'))\n",
        "  model.add(BatchNormalization())\n",
        "  model.add(Conv2D(filters=256, kernel_size=(1,1), strides=1, activation=tf.nn.leaky_relu, padding='same'))\n",
        "  model.add(BatchNormalization())\n",
        "  model.add(Conv2D(filters=512, kernel_size=(3,3), strides=1, activation=tf.nn.leaky_relu, padding='same'))\n",
        "  model.add(BatchNormalization())\n",
        "  model.add(Conv2D(filters=256, kernel_size=(1,1), strides=1, activation=tf.nn.leaky_relu, padding='same'))\n",
        "  model.add(BatchNormalization())\n",
        "  model.add(Dropout(0.2))\n",
        "  model.add(Conv2D(filters=512, kernel_size=(3,3), strides=1, activation=tf.nn.leaky_relu, padding='same'))\n",
        "  model.add(BatchNormalization())\n",
        "  model.add(Conv2D(filters=256, kernel_size=(1,1), strides=1, activation=tf.nn.leaky_relu, padding='same'))\n",
        "  model.add(BatchNormalization())\n",
        "  model.add(Conv2D(filters=512, kernel_size=(3,3), strides=1, activation=tf.nn.leaky_relu, padding='same'))\n",
        "  model.add(BatchNormalization())\n",
        "  model.add(Conv2D(filters=256, kernel_size=(1,1), strides=1, activation=tf.nn.leaky_relu, padding='same'))\n",
        "  model.add(BatchNormalization())\n",
        "  model.add(Conv2D(filters=512, kernel_size=(3,3), strides=1, activation=tf.nn.leaky_relu, padding='same'))\n",
        "  model.add(BatchNormalization())\n",
        "  model.add(Conv2D(filters=256, kernel_size=(1,1), strides=1, activation=tf.nn.leaky_relu, padding='same'))\n",
        "  model.add(BatchNormalization())\n",
        "  model.add(Conv2D(filters=512, kernel_size=(3,3), strides=1, activation=tf.nn.leaky_relu, padding='same'))\n",
        "  model.add(BatchNormalization())\n",
        "  model.add(Conv2D(filters=256, kernel_size=(1,1), strides=1, activation=tf.nn.leaky_relu, padding='same'))\n",
        "  model.add(BatchNormalization())\n",
        "  model.add(Conv2D(filters=512, kernel_size=(3,3), strides=1, activation=tf.nn.leaky_relu, padding='same'))\n",
        "  model.add(BatchNormalization())\n",
        "  model.add(Dropout(0.2))\n",
        "  model.add(Conv2D(filters=1024, kernel_size=(3,3), strides=2, activation=tf.nn.leaky_relu, padding='same'))\n",
        "  model.add(BatchNormalization())\n",
        "  model.add(Conv2D(filters=512, kernel_size=(1,1), strides=1, activation=tf.nn.leaky_relu, padding='same'))\n",
        "  model.add(BatchNormalization())\n",
        "  model.add(Conv2D(filters=1024, kernel_size=(3,3), strides=1, activation=tf.nn.leaky_relu, padding='same'))\n",
        "  model.add(BatchNormalization())\n",
        "  model.add(Conv2D(filters=512, kernel_size=(1,1), strides=1, activation=tf.nn.leaky_relu, padding='same'))\n",
        "  model.add(BatchNormalization())\n",
        "  model.add(Conv2D(filters=1024, kernel_size=(3,3), strides=1, activation=tf.nn.leaky_relu, padding='same'))\n",
        "  model.add(BatchNormalization())\n",
        "  model.add(Conv2D(filters=512, kernel_size=(1,1), strides=1, activation=tf.nn.leaky_relu, padding='same'))\n",
        "  model.add(BatchNormalization())\n",
        "  model.add(Conv2D(filters=1024, kernel_size=(3,3), strides=1, activation=tf.nn.leaky_relu, padding='same'))\n",
        "  model.add(BatchNormalization())\n",
        "  model.add(Dropout(0.2))\n",
        "  model.add(Conv2D(filters=512, kernel_size=(1,1), strides=1, activation=tf.nn.leaky_relu, padding='same'))\n",
        "  model.add(BatchNormalization())\n",
        "  model.add(Conv2D(filters=1024, kernel_size=(3,3), strides=1, activation=tf.nn.leaky_relu, padding='same'))\n",
        "  model.add(BatchNormalization())\n",
        "  model.add(Conv2D(filters=512, kernel_size=(1,1), strides=1, activation=tf.nn.leaky_relu, padding='same'))\n",
        "  model.add(BatchNormalization())\n",
        "  model.add(Conv2D(filters=1024, kernel_size=(3,3), strides=1, activation=tf.nn.leaky_relu, padding='same'))\n",
        "  model.add(BatchNormalization())\n",
        "  model.add(Conv2D(filters=512, kernel_size=(1,1), strides=1, activation=tf.nn.leaky_relu, padding='same'))\n",
        "  model.add(BatchNormalization())\n",
        "  model.add(Conv2D(filters=1024, kernel_size=(3,3), strides=1, activation=tf.nn.leaky_relu, padding='same'))\n",
        "  model.add(BatchNormalization())\n",
        "  model.add(Conv2D(filters=512, kernel_size=(1,1), strides=1, activation=tf.nn.leaky_relu, padding='same'))\n",
        "  model.add(BatchNormalization())\n",
        "  model.add(Dropout(0.2))\n",
        "  model.add(Conv2D(filters=1024, kernel_size=(3,3), strides=1, activation=tf.nn.leaky_relu, padding='same'))\n",
        "  model.add(BatchNormalization())\n",
        "  model.add(Conv2D(filters=255, kernel_size=(1,1), strides=1, activation=tf.nn.leaky_relu, padding='same'))\n",
        "  model.add(BatchNormalization())\n",
        "  model.add(Conv2D(filters=256, kernel_size=(1,1), strides=1, activation=tf.nn.leaky_relu, padding='same'))\n",
        "  model.add(BatchNormalization())\n",
        "  model.add(keras.layers.UpSampling2D(size=(2,2)))\n",
        "  model.add(Conv2D(filters=256, kernel_size=(1,1), strides=1, activation=tf.nn.leaky_relu, padding='same'))\n",
        "  model.add(BatchNormalization())\n",
        "  model.add(Conv2D(filters=512, kernel_size=(3,3), strides=1, activation=tf.nn.leaky_relu, padding='same'))\n",
        "  model.add(BatchNormalization())\n",
        "  model.add(Conv2D(filters=256, kernel_size=(1,1), strides=1, activation=tf.nn.leaky_relu, padding='same'))\n",
        "  model.add(BatchNormalization())\n",
        "  model.add(Conv2D(filters=512, kernel_size=(3,3), strides=1, activation=tf.nn.leaky_relu, padding='same'))\n",
        "  model.add(BatchNormalization())\n",
        "  model.add(Dropout(0.2))\n",
        "  model.add(Conv2D(filters=256, kernel_size=(1,1), strides=1, activation=tf.nn.leaky_relu, padding='same'))\n",
        "  model.add(BatchNormalization())\n",
        "  model.add(Conv2D(filters=512, kernel_size=(3,3), strides=1, activation=tf.nn.leaky_relu, padding='same'))\n",
        "  model.add(BatchNormalization())\n",
        "  model.add(Conv2D(filters=255, kernel_size=(1,1), strides=1, activation=tf.nn.leaky_relu, padding='same'))\n",
        "  model.add(BatchNormalization())\n",
        "  model.add(Conv2D(filters=128, kernel_size=(1,1), strides=1, activation=tf.nn.leaky_relu, padding='same'))\n",
        "  model.add(BatchNormalization())\n",
        "  model.add(keras.layers.UpSampling2D(size=(2,2)))\n",
        "  model.add(Conv2D(filters=128, kernel_size=(1,1), strides=1, activation=tf.nn.leaky_relu, padding='same'))\n",
        "  model.add(BatchNormalization())\n",
        "  model.add(Conv2D(filters=256, kernel_size=(3,3), strides=1, activation=tf.nn.leaky_relu, padding='same'))\n",
        "  model.add(BatchNormalization())\n",
        "  model.add(Conv2D(filters=128, kernel_size=(1,1), strides=1, activation=tf.nn.leaky_relu, padding='same'))\n",
        "  model.add(BatchNormalization())\n",
        "  model.add(Dropout(0.2))\n",
        "  model.add(Conv2D(filters=256, kernel_size=(3,3), strides=1, activation=tf.nn.leaky_relu, padding='same'))\n",
        "  model.add(BatchNormalization())\n",
        "  model.add(Conv2D(filters=128, kernel_size=(1,1), strides=1, activation=tf.nn.leaky_relu, padding='same'))\n",
        "  model.add(BatchNormalization())\n",
        "  model.add(Conv2D(filters=256, kernel_size=(3,3), strides=1, activation=tf.nn.leaky_relu, padding='same'))\n",
        "  model.add(BatchNormalization())\n",
        "  model.add(Conv2D(filters=255, kernel_size=(1,1), strides=1, activation=tf.nn.leaky_relu, padding='same'))\n",
        "  model.add(BatchNormalization())\n",
        "  model.add(Flatten())\n",
        "  model.add(Dense(128, activation=tf.nn.leaky_relu))\n",
        "  model.add(BatchNormalization())\n",
        "  model.add(Dropout(0.2))\n",
        "  model.add(Dense(128, activation=tf.nn.leaky_relu))\n",
        "  return model\n",
        "\n",
        "mobile = define_model()\n"
      ],
      "execution_count": null,
      "outputs": []
    },
    {
      "cell_type": "code",
      "metadata": {
        "id": "qzvtYik5pucH",
        "colab": {
          "base_uri": "https://localhost:8080/"
        },
        "outputId": "994c796e-1491-4413-c14f-dcd58cfc8cd5"
      },
      "source": [
        "mobile.summary()"
      ],
      "execution_count": null,
      "outputs": [
        {
          "output_type": "stream",
          "text": [
            "Model: \"sequential\"\n",
            "_________________________________________________________________\n",
            "Layer (type)                 Output Shape              Param #   \n",
            "=================================================================\n",
            "conv2d (Conv2D)              (None, 50, 50, 32)        320       \n",
            "_________________________________________________________________\n",
            "batch_normalization (BatchNo (None, 50, 50, 32)        128       \n",
            "_________________________________________________________________\n",
            "conv2d_1 (Conv2D)            (None, 25, 25, 64)        18496     \n",
            "_________________________________________________________________\n",
            "batch_normalization_1 (Batch (None, 25, 25, 64)        256       \n",
            "_________________________________________________________________\n",
            "conv2d_2 (Conv2D)            (None, 25, 25, 32)        2080      \n",
            "_________________________________________________________________\n",
            "batch_normalization_2 (Batch (None, 25, 25, 32)        128       \n",
            "_________________________________________________________________\n",
            "conv2d_3 (Conv2D)            (None, 25, 25, 64)        18496     \n",
            "_________________________________________________________________\n",
            "batch_normalization_3 (Batch (None, 25, 25, 64)        256       \n",
            "_________________________________________________________________\n",
            "dropout (Dropout)            (None, 25, 25, 64)        0         \n",
            "_________________________________________________________________\n",
            "conv2d_4 (Conv2D)            (None, 13, 13, 128)       73856     \n",
            "_________________________________________________________________\n",
            "batch_normalization_4 (Batch (None, 13, 13, 128)       512       \n",
            "_________________________________________________________________\n",
            "conv2d_5 (Conv2D)            (None, 13, 13, 64)        8256      \n",
            "_________________________________________________________________\n",
            "batch_normalization_5 (Batch (None, 13, 13, 64)        256       \n",
            "_________________________________________________________________\n",
            "conv2d_6 (Conv2D)            (None, 13, 13, 128)       73856     \n",
            "_________________________________________________________________\n",
            "batch_normalization_6 (Batch (None, 13, 13, 128)       512       \n",
            "_________________________________________________________________\n",
            "dropout_1 (Dropout)          (None, 13, 13, 128)       0         \n",
            "_________________________________________________________________\n",
            "conv2d_7 (Conv2D)            (None, 13, 13, 64)        8256      \n",
            "_________________________________________________________________\n",
            "batch_normalization_7 (Batch (None, 13, 13, 64)        256       \n",
            "_________________________________________________________________\n",
            "conv2d_8 (Conv2D)            (None, 13, 13, 128)       73856     \n",
            "_________________________________________________________________\n",
            "batch_normalization_8 (Batch (None, 13, 13, 128)       512       \n",
            "_________________________________________________________________\n",
            "conv2d_9 (Conv2D)            (None, 7, 7, 256)         295168    \n",
            "_________________________________________________________________\n",
            "batch_normalization_9 (Batch (None, 7, 7, 256)         1024      \n",
            "_________________________________________________________________\n",
            "conv2d_10 (Conv2D)           (None, 7, 7, 128)         32896     \n",
            "_________________________________________________________________\n",
            "batch_normalization_10 (Batc (None, 7, 7, 128)         512       \n",
            "_________________________________________________________________\n",
            "conv2d_11 (Conv2D)           (None, 7, 7, 256)         295168    \n",
            "_________________________________________________________________\n",
            "batch_normalization_11 (Batc (None, 7, 7, 256)         1024      \n",
            "_________________________________________________________________\n",
            "conv2d_12 (Conv2D)           (None, 7, 7, 128)         32896     \n",
            "_________________________________________________________________\n",
            "batch_normalization_12 (Batc (None, 7, 7, 128)         512       \n",
            "_________________________________________________________________\n",
            "conv2d_13 (Conv2D)           (None, 7, 7, 256)         295168    \n",
            "_________________________________________________________________\n",
            "batch_normalization_13 (Batc (None, 7, 7, 256)         1024      \n",
            "_________________________________________________________________\n",
            "dropout_2 (Dropout)          (None, 7, 7, 256)         0         \n",
            "_________________________________________________________________\n",
            "conv2d_14 (Conv2D)           (None, 7, 7, 128)         32896     \n",
            "_________________________________________________________________\n",
            "batch_normalization_14 (Batc (None, 7, 7, 128)         512       \n",
            "_________________________________________________________________\n",
            "conv2d_15 (Conv2D)           (None, 7, 7, 256)         295168    \n",
            "_________________________________________________________________\n",
            "batch_normalization_15 (Batc (None, 7, 7, 256)         1024      \n",
            "_________________________________________________________________\n",
            "conv2d_16 (Conv2D)           (None, 7, 7, 128)         32896     \n",
            "_________________________________________________________________\n",
            "batch_normalization_16 (Batc (None, 7, 7, 128)         512       \n",
            "_________________________________________________________________\n",
            "conv2d_17 (Conv2D)           (None, 7, 7, 256)         295168    \n",
            "_________________________________________________________________\n",
            "batch_normalization_17 (Batc (None, 7, 7, 256)         1024      \n",
            "_________________________________________________________________\n",
            "conv2d_18 (Conv2D)           (None, 7, 7, 128)         32896     \n",
            "_________________________________________________________________\n",
            "batch_normalization_18 (Batc (None, 7, 7, 128)         512       \n",
            "_________________________________________________________________\n",
            "conv2d_19 (Conv2D)           (None, 7, 7, 256)         295168    \n",
            "_________________________________________________________________\n",
            "batch_normalization_19 (Batc (None, 7, 7, 256)         1024      \n",
            "_________________________________________________________________\n",
            "conv2d_20 (Conv2D)           (None, 7, 7, 128)         32896     \n",
            "_________________________________________________________________\n",
            "batch_normalization_20 (Batc (None, 7, 7, 128)         512       \n",
            "_________________________________________________________________\n",
            "conv2d_21 (Conv2D)           (None, 7, 7, 256)         295168    \n",
            "_________________________________________________________________\n",
            "batch_normalization_21 (Batc (None, 7, 7, 256)         1024      \n",
            "_________________________________________________________________\n",
            "dropout_3 (Dropout)          (None, 7, 7, 256)         0         \n",
            "_________________________________________________________________\n",
            "conv2d_22 (Conv2D)           (None, 7, 7, 128)         32896     \n",
            "_________________________________________________________________\n",
            "batch_normalization_22 (Batc (None, 7, 7, 128)         512       \n",
            "_________________________________________________________________\n",
            "conv2d_23 (Conv2D)           (None, 7, 7, 256)         295168    \n",
            "_________________________________________________________________\n",
            "batch_normalization_23 (Batc (None, 7, 7, 256)         1024      \n",
            "_________________________________________________________________\n",
            "conv2d_24 (Conv2D)           (None, 7, 7, 128)         32896     \n",
            "_________________________________________________________________\n",
            "batch_normalization_24 (Batc (None, 7, 7, 128)         512       \n",
            "_________________________________________________________________\n",
            "conv2d_25 (Conv2D)           (None, 7, 7, 256)         295168    \n",
            "_________________________________________________________________\n",
            "batch_normalization_25 (Batc (None, 7, 7, 256)         1024      \n",
            "_________________________________________________________________\n",
            "dropout_4 (Dropout)          (None, 7, 7, 256)         0         \n",
            "_________________________________________________________________\n",
            "conv2d_26 (Conv2D)           (None, 4, 4, 512)         1180160   \n",
            "_________________________________________________________________\n",
            "batch_normalization_26 (Batc (None, 4, 4, 512)         2048      \n",
            "_________________________________________________________________\n",
            "conv2d_27 (Conv2D)           (None, 4, 4, 256)         131328    \n",
            "_________________________________________________________________\n",
            "batch_normalization_27 (Batc (None, 4, 4, 256)         1024      \n",
            "_________________________________________________________________\n",
            "conv2d_28 (Conv2D)           (None, 4, 4, 512)         1180160   \n",
            "_________________________________________________________________\n",
            "batch_normalization_28 (Batc (None, 4, 4, 512)         2048      \n",
            "_________________________________________________________________\n",
            "conv2d_29 (Conv2D)           (None, 4, 4, 256)         131328    \n",
            "_________________________________________________________________\n",
            "batch_normalization_29 (Batc (None, 4, 4, 256)         1024      \n",
            "_________________________________________________________________\n",
            "conv2d_30 (Conv2D)           (None, 4, 4, 512)         1180160   \n",
            "_________________________________________________________________\n",
            "batch_normalization_30 (Batc (None, 4, 4, 512)         2048      \n",
            "_________________________________________________________________\n",
            "conv2d_31 (Conv2D)           (None, 4, 4, 256)         131328    \n",
            "_________________________________________________________________\n",
            "batch_normalization_31 (Batc (None, 4, 4, 256)         1024      \n",
            "_________________________________________________________________\n",
            "conv2d_32 (Conv2D)           (None, 4, 4, 512)         1180160   \n",
            "_________________________________________________________________\n",
            "batch_normalization_32 (Batc (None, 4, 4, 512)         2048      \n",
            "_________________________________________________________________\n",
            "conv2d_33 (Conv2D)           (None, 4, 4, 256)         131328    \n",
            "_________________________________________________________________\n",
            "batch_normalization_33 (Batc (None, 4, 4, 256)         1024      \n",
            "_________________________________________________________________\n",
            "dropout_5 (Dropout)          (None, 4, 4, 256)         0         \n",
            "_________________________________________________________________\n",
            "conv2d_34 (Conv2D)           (None, 4, 4, 512)         1180160   \n",
            "_________________________________________________________________\n",
            "batch_normalization_34 (Batc (None, 4, 4, 512)         2048      \n",
            "_________________________________________________________________\n",
            "conv2d_35 (Conv2D)           (None, 4, 4, 256)         131328    \n",
            "_________________________________________________________________\n",
            "batch_normalization_35 (Batc (None, 4, 4, 256)         1024      \n",
            "_________________________________________________________________\n",
            "conv2d_36 (Conv2D)           (None, 4, 4, 512)         1180160   \n",
            "_________________________________________________________________\n",
            "batch_normalization_36 (Batc (None, 4, 4, 512)         2048      \n",
            "_________________________________________________________________\n",
            "conv2d_37 (Conv2D)           (None, 4, 4, 256)         131328    \n",
            "_________________________________________________________________\n",
            "batch_normalization_37 (Batc (None, 4, 4, 256)         1024      \n",
            "_________________________________________________________________\n",
            "conv2d_38 (Conv2D)           (None, 4, 4, 512)         1180160   \n",
            "_________________________________________________________________\n",
            "batch_normalization_38 (Batc (None, 4, 4, 512)         2048      \n",
            "_________________________________________________________________\n",
            "conv2d_39 (Conv2D)           (None, 4, 4, 256)         131328    \n",
            "_________________________________________________________________\n",
            "batch_normalization_39 (Batc (None, 4, 4, 256)         1024      \n",
            "_________________________________________________________________\n",
            "conv2d_40 (Conv2D)           (None, 4, 4, 512)         1180160   \n",
            "_________________________________________________________________\n",
            "batch_normalization_40 (Batc (None, 4, 4, 512)         2048      \n",
            "_________________________________________________________________\n",
            "conv2d_41 (Conv2D)           (None, 4, 4, 256)         131328    \n",
            "_________________________________________________________________\n",
            "batch_normalization_41 (Batc (None, 4, 4, 256)         1024      \n",
            "_________________________________________________________________\n",
            "conv2d_42 (Conv2D)           (None, 4, 4, 512)         1180160   \n",
            "_________________________________________________________________\n",
            "batch_normalization_42 (Batc (None, 4, 4, 512)         2048      \n",
            "_________________________________________________________________\n",
            "dropout_6 (Dropout)          (None, 4, 4, 512)         0         \n",
            "_________________________________________________________________\n",
            "conv2d_43 (Conv2D)           (None, 2, 2, 1024)        4719616   \n",
            "_________________________________________________________________\n",
            "batch_normalization_43 (Batc (None, 2, 2, 1024)        4096      \n",
            "_________________________________________________________________\n",
            "conv2d_44 (Conv2D)           (None, 2, 2, 512)         524800    \n",
            "_________________________________________________________________\n",
            "batch_normalization_44 (Batc (None, 2, 2, 512)         2048      \n",
            "_________________________________________________________________\n",
            "conv2d_45 (Conv2D)           (None, 2, 2, 1024)        4719616   \n",
            "_________________________________________________________________\n",
            "batch_normalization_45 (Batc (None, 2, 2, 1024)        4096      \n",
            "_________________________________________________________________\n",
            "conv2d_46 (Conv2D)           (None, 2, 2, 512)         524800    \n",
            "_________________________________________________________________\n",
            "batch_normalization_46 (Batc (None, 2, 2, 512)         2048      \n",
            "_________________________________________________________________\n",
            "conv2d_47 (Conv2D)           (None, 2, 2, 1024)        4719616   \n",
            "_________________________________________________________________\n",
            "batch_normalization_47 (Batc (None, 2, 2, 1024)        4096      \n",
            "_________________________________________________________________\n",
            "conv2d_48 (Conv2D)           (None, 2, 2, 512)         524800    \n",
            "_________________________________________________________________\n",
            "batch_normalization_48 (Batc (None, 2, 2, 512)         2048      \n",
            "_________________________________________________________________\n",
            "conv2d_49 (Conv2D)           (None, 2, 2, 1024)        4719616   \n",
            "_________________________________________________________________\n",
            "batch_normalization_49 (Batc (None, 2, 2, 1024)        4096      \n",
            "_________________________________________________________________\n",
            "dropout_7 (Dropout)          (None, 2, 2, 1024)        0         \n",
            "_________________________________________________________________\n",
            "conv2d_50 (Conv2D)           (None, 2, 2, 512)         524800    \n",
            "_________________________________________________________________\n",
            "batch_normalization_50 (Batc (None, 2, 2, 512)         2048      \n",
            "_________________________________________________________________\n",
            "conv2d_51 (Conv2D)           (None, 2, 2, 1024)        4719616   \n",
            "_________________________________________________________________\n",
            "batch_normalization_51 (Batc (None, 2, 2, 1024)        4096      \n",
            "_________________________________________________________________\n",
            "conv2d_52 (Conv2D)           (None, 2, 2, 512)         524800    \n",
            "_________________________________________________________________\n",
            "batch_normalization_52 (Batc (None, 2, 2, 512)         2048      \n",
            "_________________________________________________________________\n",
            "conv2d_53 (Conv2D)           (None, 2, 2, 1024)        4719616   \n",
            "_________________________________________________________________\n",
            "batch_normalization_53 (Batc (None, 2, 2, 1024)        4096      \n",
            "_________________________________________________________________\n",
            "conv2d_54 (Conv2D)           (None, 2, 2, 512)         524800    \n",
            "_________________________________________________________________\n",
            "batch_normalization_54 (Batc (None, 2, 2, 512)         2048      \n",
            "_________________________________________________________________\n",
            "conv2d_55 (Conv2D)           (None, 2, 2, 1024)        4719616   \n",
            "_________________________________________________________________\n",
            "batch_normalization_55 (Batc (None, 2, 2, 1024)        4096      \n",
            "_________________________________________________________________\n",
            "conv2d_56 (Conv2D)           (None, 2, 2, 512)         524800    \n",
            "_________________________________________________________________\n",
            "batch_normalization_56 (Batc (None, 2, 2, 512)         2048      \n",
            "_________________________________________________________________\n",
            "dropout_8 (Dropout)          (None, 2, 2, 512)         0         \n",
            "_________________________________________________________________\n",
            "conv2d_57 (Conv2D)           (None, 2, 2, 1024)        4719616   \n",
            "_________________________________________________________________\n",
            "batch_normalization_57 (Batc (None, 2, 2, 1024)        4096      \n",
            "_________________________________________________________________\n",
            "conv2d_58 (Conv2D)           (None, 2, 2, 255)         261375    \n",
            "_________________________________________________________________\n",
            "batch_normalization_58 (Batc (None, 2, 2, 255)         1020      \n",
            "_________________________________________________________________\n",
            "conv2d_59 (Conv2D)           (None, 2, 2, 256)         65536     \n",
            "_________________________________________________________________\n",
            "batch_normalization_59 (Batc (None, 2, 2, 256)         1024      \n",
            "_________________________________________________________________\n",
            "up_sampling2d (UpSampling2D) (None, 4, 4, 256)         0         \n",
            "_________________________________________________________________\n",
            "conv2d_60 (Conv2D)           (None, 4, 4, 256)         65792     \n",
            "_________________________________________________________________\n",
            "batch_normalization_60 (Batc (None, 4, 4, 256)         1024      \n",
            "_________________________________________________________________\n",
            "conv2d_61 (Conv2D)           (None, 4, 4, 512)         1180160   \n",
            "_________________________________________________________________\n",
            "batch_normalization_61 (Batc (None, 4, 4, 512)         2048      \n",
            "_________________________________________________________________\n",
            "conv2d_62 (Conv2D)           (None, 4, 4, 256)         131328    \n",
            "_________________________________________________________________\n",
            "batch_normalization_62 (Batc (None, 4, 4, 256)         1024      \n",
            "_________________________________________________________________\n",
            "conv2d_63 (Conv2D)           (None, 4, 4, 512)         1180160   \n",
            "_________________________________________________________________\n",
            "batch_normalization_63 (Batc (None, 4, 4, 512)         2048      \n",
            "_________________________________________________________________\n",
            "dropout_9 (Dropout)          (None, 4, 4, 512)         0         \n",
            "_________________________________________________________________\n",
            "conv2d_64 (Conv2D)           (None, 4, 4, 256)         131328    \n",
            "_________________________________________________________________\n",
            "batch_normalization_64 (Batc (None, 4, 4, 256)         1024      \n",
            "_________________________________________________________________\n",
            "conv2d_65 (Conv2D)           (None, 4, 4, 512)         1180160   \n",
            "_________________________________________________________________\n",
            "batch_normalization_65 (Batc (None, 4, 4, 512)         2048      \n",
            "_________________________________________________________________\n",
            "conv2d_66 (Conv2D)           (None, 4, 4, 255)         130815    \n",
            "_________________________________________________________________\n",
            "batch_normalization_66 (Batc (None, 4, 4, 255)         1020      \n",
            "_________________________________________________________________\n",
            "conv2d_67 (Conv2D)           (None, 4, 4, 128)         32768     \n",
            "_________________________________________________________________\n",
            "batch_normalization_67 (Batc (None, 4, 4, 128)         512       \n",
            "_________________________________________________________________\n",
            "up_sampling2d_1 (UpSampling2 (None, 8, 8, 128)         0         \n",
            "_________________________________________________________________\n",
            "conv2d_68 (Conv2D)           (None, 8, 8, 128)         16512     \n",
            "_________________________________________________________________\n",
            "batch_normalization_68 (Batc (None, 8, 8, 128)         512       \n",
            "_________________________________________________________________\n",
            "conv2d_69 (Conv2D)           (None, 8, 8, 256)         295168    \n",
            "_________________________________________________________________\n",
            "batch_normalization_69 (Batc (None, 8, 8, 256)         1024      \n",
            "_________________________________________________________________\n",
            "conv2d_70 (Conv2D)           (None, 8, 8, 128)         32896     \n",
            "_________________________________________________________________\n",
            "batch_normalization_70 (Batc (None, 8, 8, 128)         512       \n",
            "_________________________________________________________________\n",
            "dropout_10 (Dropout)         (None, 8, 8, 128)         0         \n",
            "_________________________________________________________________\n",
            "conv2d_71 (Conv2D)           (None, 8, 8, 256)         295168    \n",
            "_________________________________________________________________\n",
            "batch_normalization_71 (Batc (None, 8, 8, 256)         1024      \n",
            "_________________________________________________________________\n",
            "conv2d_72 (Conv2D)           (None, 8, 8, 128)         32896     \n",
            "_________________________________________________________________\n",
            "batch_normalization_72 (Batc (None, 8, 8, 128)         512       \n",
            "_________________________________________________________________\n",
            "conv2d_73 (Conv2D)           (None, 8, 8, 256)         295168    \n",
            "_________________________________________________________________\n",
            "batch_normalization_73 (Batc (None, 8, 8, 256)         1024      \n",
            "_________________________________________________________________\n",
            "conv2d_74 (Conv2D)           (None, 8, 8, 255)         65535     \n",
            "_________________________________________________________________\n",
            "batch_normalization_74 (Batc (None, 8, 8, 255)         1020      \n",
            "_________________________________________________________________\n",
            "flatten (Flatten)            (None, 16320)             0         \n",
            "_________________________________________________________________\n",
            "dense (Dense)                (None, 128)               2089088   \n",
            "_________________________________________________________________\n",
            "batch_normalization_75 (Batc (None, 128)               512       \n",
            "_________________________________________________________________\n",
            "dropout_11 (Dropout)         (None, 128)               0         \n",
            "_________________________________________________________________\n",
            "dense_1 (Dense)              (None, 128)               16512     \n",
            "=================================================================\n",
            "Total params: 63,906,897\n",
            "Trainable params: 63,852,503\n",
            "Non-trainable params: 54,394\n",
            "_________________________________________________________________\n"
          ],
          "name": "stdout"
        }
      ]
    },
    {
      "cell_type": "code",
      "metadata": {
        "id": "vOeK5qNrpwIL",
        "colab": {
          "base_uri": "https://localhost:8080/"
        },
        "outputId": "bb666d27-fb9a-48ce-f732-b911b81fc3f2"
      },
      "source": [
        "op_layer = mobile.output\n",
        "final_layer = Dense(128,activation='relu')(op_layer)\n",
        "final_layer = Dense(128,activation='relu')(final_layer)\n",
        "final_layer = Dense(2,activation= 'softmax')(final_layer)\n",
        "\n",
        "# Define model input and output\n",
        "model = Model(inputs = mobile.input , outputs = final_layer)\n",
        "opt = SGD(lr=0.001, momentum=0.9)\n",
        "\n",
        "optimizer_sgd = keras.optimizers.Adam(learning_rate=0.001)\n",
        "model.compile(optimizer=optimizer_sgd, loss='categorical_crossentropy', metrics=['accuracy'])"
      ],
      "execution_count": null,
      "outputs": [
        {
          "output_type": "stream",
          "text": [
            "/usr/local/lib/python3.7/dist-packages/tensorflow/python/keras/optimizer_v2/optimizer_v2.py:375: UserWarning: The `lr` argument is deprecated, use `learning_rate` instead.\n",
            "  \"The `lr` argument is deprecated, use `learning_rate` instead.\")\n"
          ],
          "name": "stderr"
        }
      ]
    },
    {
      "cell_type": "code",
      "metadata": {
        "id": "9VCof45lqD-i",
        "colab": {
          "base_uri": "https://localhost:8080/"
        },
        "outputId": "37c2907e-eb0c-4855-ae27-bbefab592ef0"
      },
      "source": [
        "model.summary()"
      ],
      "execution_count": null,
      "outputs": [
        {
          "output_type": "stream",
          "text": [
            "Model: \"model\"\n",
            "_________________________________________________________________\n",
            "Layer (type)                 Output Shape              Param #   \n",
            "=================================================================\n",
            "conv2d_input (InputLayer)    [(None, 50, 50, 1)]       0         \n",
            "_________________________________________________________________\n",
            "conv2d (Conv2D)              (None, 50, 50, 32)        320       \n",
            "_________________________________________________________________\n",
            "batch_normalization (BatchNo (None, 50, 50, 32)        128       \n",
            "_________________________________________________________________\n",
            "conv2d_1 (Conv2D)            (None, 25, 25, 64)        18496     \n",
            "_________________________________________________________________\n",
            "batch_normalization_1 (Batch (None, 25, 25, 64)        256       \n",
            "_________________________________________________________________\n",
            "conv2d_2 (Conv2D)            (None, 25, 25, 32)        2080      \n",
            "_________________________________________________________________\n",
            "batch_normalization_2 (Batch (None, 25, 25, 32)        128       \n",
            "_________________________________________________________________\n",
            "conv2d_3 (Conv2D)            (None, 25, 25, 64)        18496     \n",
            "_________________________________________________________________\n",
            "batch_normalization_3 (Batch (None, 25, 25, 64)        256       \n",
            "_________________________________________________________________\n",
            "dropout (Dropout)            (None, 25, 25, 64)        0         \n",
            "_________________________________________________________________\n",
            "conv2d_4 (Conv2D)            (None, 13, 13, 128)       73856     \n",
            "_________________________________________________________________\n",
            "batch_normalization_4 (Batch (None, 13, 13, 128)       512       \n",
            "_________________________________________________________________\n",
            "conv2d_5 (Conv2D)            (None, 13, 13, 64)        8256      \n",
            "_________________________________________________________________\n",
            "batch_normalization_5 (Batch (None, 13, 13, 64)        256       \n",
            "_________________________________________________________________\n",
            "conv2d_6 (Conv2D)            (None, 13, 13, 128)       73856     \n",
            "_________________________________________________________________\n",
            "batch_normalization_6 (Batch (None, 13, 13, 128)       512       \n",
            "_________________________________________________________________\n",
            "dropout_1 (Dropout)          (None, 13, 13, 128)       0         \n",
            "_________________________________________________________________\n",
            "conv2d_7 (Conv2D)            (None, 13, 13, 64)        8256      \n",
            "_________________________________________________________________\n",
            "batch_normalization_7 (Batch (None, 13, 13, 64)        256       \n",
            "_________________________________________________________________\n",
            "conv2d_8 (Conv2D)            (None, 13, 13, 128)       73856     \n",
            "_________________________________________________________________\n",
            "batch_normalization_8 (Batch (None, 13, 13, 128)       512       \n",
            "_________________________________________________________________\n",
            "conv2d_9 (Conv2D)            (None, 7, 7, 256)         295168    \n",
            "_________________________________________________________________\n",
            "batch_normalization_9 (Batch (None, 7, 7, 256)         1024      \n",
            "_________________________________________________________________\n",
            "conv2d_10 (Conv2D)           (None, 7, 7, 128)         32896     \n",
            "_________________________________________________________________\n",
            "batch_normalization_10 (Batc (None, 7, 7, 128)         512       \n",
            "_________________________________________________________________\n",
            "conv2d_11 (Conv2D)           (None, 7, 7, 256)         295168    \n",
            "_________________________________________________________________\n",
            "batch_normalization_11 (Batc (None, 7, 7, 256)         1024      \n",
            "_________________________________________________________________\n",
            "conv2d_12 (Conv2D)           (None, 7, 7, 128)         32896     \n",
            "_________________________________________________________________\n",
            "batch_normalization_12 (Batc (None, 7, 7, 128)         512       \n",
            "_________________________________________________________________\n",
            "conv2d_13 (Conv2D)           (None, 7, 7, 256)         295168    \n",
            "_________________________________________________________________\n",
            "batch_normalization_13 (Batc (None, 7, 7, 256)         1024      \n",
            "_________________________________________________________________\n",
            "dropout_2 (Dropout)          (None, 7, 7, 256)         0         \n",
            "_________________________________________________________________\n",
            "conv2d_14 (Conv2D)           (None, 7, 7, 128)         32896     \n",
            "_________________________________________________________________\n",
            "batch_normalization_14 (Batc (None, 7, 7, 128)         512       \n",
            "_________________________________________________________________\n",
            "conv2d_15 (Conv2D)           (None, 7, 7, 256)         295168    \n",
            "_________________________________________________________________\n",
            "batch_normalization_15 (Batc (None, 7, 7, 256)         1024      \n",
            "_________________________________________________________________\n",
            "conv2d_16 (Conv2D)           (None, 7, 7, 128)         32896     \n",
            "_________________________________________________________________\n",
            "batch_normalization_16 (Batc (None, 7, 7, 128)         512       \n",
            "_________________________________________________________________\n",
            "conv2d_17 (Conv2D)           (None, 7, 7, 256)         295168    \n",
            "_________________________________________________________________\n",
            "batch_normalization_17 (Batc (None, 7, 7, 256)         1024      \n",
            "_________________________________________________________________\n",
            "conv2d_18 (Conv2D)           (None, 7, 7, 128)         32896     \n",
            "_________________________________________________________________\n",
            "batch_normalization_18 (Batc (None, 7, 7, 128)         512       \n",
            "_________________________________________________________________\n",
            "conv2d_19 (Conv2D)           (None, 7, 7, 256)         295168    \n",
            "_________________________________________________________________\n",
            "batch_normalization_19 (Batc (None, 7, 7, 256)         1024      \n",
            "_________________________________________________________________\n",
            "conv2d_20 (Conv2D)           (None, 7, 7, 128)         32896     \n",
            "_________________________________________________________________\n",
            "batch_normalization_20 (Batc (None, 7, 7, 128)         512       \n",
            "_________________________________________________________________\n",
            "conv2d_21 (Conv2D)           (None, 7, 7, 256)         295168    \n",
            "_________________________________________________________________\n",
            "batch_normalization_21 (Batc (None, 7, 7, 256)         1024      \n",
            "_________________________________________________________________\n",
            "dropout_3 (Dropout)          (None, 7, 7, 256)         0         \n",
            "_________________________________________________________________\n",
            "conv2d_22 (Conv2D)           (None, 7, 7, 128)         32896     \n",
            "_________________________________________________________________\n",
            "batch_normalization_22 (Batc (None, 7, 7, 128)         512       \n",
            "_________________________________________________________________\n",
            "conv2d_23 (Conv2D)           (None, 7, 7, 256)         295168    \n",
            "_________________________________________________________________\n",
            "batch_normalization_23 (Batc (None, 7, 7, 256)         1024      \n",
            "_________________________________________________________________\n",
            "conv2d_24 (Conv2D)           (None, 7, 7, 128)         32896     \n",
            "_________________________________________________________________\n",
            "batch_normalization_24 (Batc (None, 7, 7, 128)         512       \n",
            "_________________________________________________________________\n",
            "conv2d_25 (Conv2D)           (None, 7, 7, 256)         295168    \n",
            "_________________________________________________________________\n",
            "batch_normalization_25 (Batc (None, 7, 7, 256)         1024      \n",
            "_________________________________________________________________\n",
            "dropout_4 (Dropout)          (None, 7, 7, 256)         0         \n",
            "_________________________________________________________________\n",
            "conv2d_26 (Conv2D)           (None, 4, 4, 512)         1180160   \n",
            "_________________________________________________________________\n",
            "batch_normalization_26 (Batc (None, 4, 4, 512)         2048      \n",
            "_________________________________________________________________\n",
            "conv2d_27 (Conv2D)           (None, 4, 4, 256)         131328    \n",
            "_________________________________________________________________\n",
            "batch_normalization_27 (Batc (None, 4, 4, 256)         1024      \n",
            "_________________________________________________________________\n",
            "conv2d_28 (Conv2D)           (None, 4, 4, 512)         1180160   \n",
            "_________________________________________________________________\n",
            "batch_normalization_28 (Batc (None, 4, 4, 512)         2048      \n",
            "_________________________________________________________________\n",
            "conv2d_29 (Conv2D)           (None, 4, 4, 256)         131328    \n",
            "_________________________________________________________________\n",
            "batch_normalization_29 (Batc (None, 4, 4, 256)         1024      \n",
            "_________________________________________________________________\n",
            "conv2d_30 (Conv2D)           (None, 4, 4, 512)         1180160   \n",
            "_________________________________________________________________\n",
            "batch_normalization_30 (Batc (None, 4, 4, 512)         2048      \n",
            "_________________________________________________________________\n",
            "conv2d_31 (Conv2D)           (None, 4, 4, 256)         131328    \n",
            "_________________________________________________________________\n",
            "batch_normalization_31 (Batc (None, 4, 4, 256)         1024      \n",
            "_________________________________________________________________\n",
            "conv2d_32 (Conv2D)           (None, 4, 4, 512)         1180160   \n",
            "_________________________________________________________________\n",
            "batch_normalization_32 (Batc (None, 4, 4, 512)         2048      \n",
            "_________________________________________________________________\n",
            "conv2d_33 (Conv2D)           (None, 4, 4, 256)         131328    \n",
            "_________________________________________________________________\n",
            "batch_normalization_33 (Batc (None, 4, 4, 256)         1024      \n",
            "_________________________________________________________________\n",
            "dropout_5 (Dropout)          (None, 4, 4, 256)         0         \n",
            "_________________________________________________________________\n",
            "conv2d_34 (Conv2D)           (None, 4, 4, 512)         1180160   \n",
            "_________________________________________________________________\n",
            "batch_normalization_34 (Batc (None, 4, 4, 512)         2048      \n",
            "_________________________________________________________________\n",
            "conv2d_35 (Conv2D)           (None, 4, 4, 256)         131328    \n",
            "_________________________________________________________________\n",
            "batch_normalization_35 (Batc (None, 4, 4, 256)         1024      \n",
            "_________________________________________________________________\n",
            "conv2d_36 (Conv2D)           (None, 4, 4, 512)         1180160   \n",
            "_________________________________________________________________\n",
            "batch_normalization_36 (Batc (None, 4, 4, 512)         2048      \n",
            "_________________________________________________________________\n",
            "conv2d_37 (Conv2D)           (None, 4, 4, 256)         131328    \n",
            "_________________________________________________________________\n",
            "batch_normalization_37 (Batc (None, 4, 4, 256)         1024      \n",
            "_________________________________________________________________\n",
            "conv2d_38 (Conv2D)           (None, 4, 4, 512)         1180160   \n",
            "_________________________________________________________________\n",
            "batch_normalization_38 (Batc (None, 4, 4, 512)         2048      \n",
            "_________________________________________________________________\n",
            "conv2d_39 (Conv2D)           (None, 4, 4, 256)         131328    \n",
            "_________________________________________________________________\n",
            "batch_normalization_39 (Batc (None, 4, 4, 256)         1024      \n",
            "_________________________________________________________________\n",
            "conv2d_40 (Conv2D)           (None, 4, 4, 512)         1180160   \n",
            "_________________________________________________________________\n",
            "batch_normalization_40 (Batc (None, 4, 4, 512)         2048      \n",
            "_________________________________________________________________\n",
            "conv2d_41 (Conv2D)           (None, 4, 4, 256)         131328    \n",
            "_________________________________________________________________\n",
            "batch_normalization_41 (Batc (None, 4, 4, 256)         1024      \n",
            "_________________________________________________________________\n",
            "conv2d_42 (Conv2D)           (None, 4, 4, 512)         1180160   \n",
            "_________________________________________________________________\n",
            "batch_normalization_42 (Batc (None, 4, 4, 512)         2048      \n",
            "_________________________________________________________________\n",
            "dropout_6 (Dropout)          (None, 4, 4, 512)         0         \n",
            "_________________________________________________________________\n",
            "conv2d_43 (Conv2D)           (None, 2, 2, 1024)        4719616   \n",
            "_________________________________________________________________\n",
            "batch_normalization_43 (Batc (None, 2, 2, 1024)        4096      \n",
            "_________________________________________________________________\n",
            "conv2d_44 (Conv2D)           (None, 2, 2, 512)         524800    \n",
            "_________________________________________________________________\n",
            "batch_normalization_44 (Batc (None, 2, 2, 512)         2048      \n",
            "_________________________________________________________________\n",
            "conv2d_45 (Conv2D)           (None, 2, 2, 1024)        4719616   \n",
            "_________________________________________________________________\n",
            "batch_normalization_45 (Batc (None, 2, 2, 1024)        4096      \n",
            "_________________________________________________________________\n",
            "conv2d_46 (Conv2D)           (None, 2, 2, 512)         524800    \n",
            "_________________________________________________________________\n",
            "batch_normalization_46 (Batc (None, 2, 2, 512)         2048      \n",
            "_________________________________________________________________\n",
            "conv2d_47 (Conv2D)           (None, 2, 2, 1024)        4719616   \n",
            "_________________________________________________________________\n",
            "batch_normalization_47 (Batc (None, 2, 2, 1024)        4096      \n",
            "_________________________________________________________________\n",
            "conv2d_48 (Conv2D)           (None, 2, 2, 512)         524800    \n",
            "_________________________________________________________________\n",
            "batch_normalization_48 (Batc (None, 2, 2, 512)         2048      \n",
            "_________________________________________________________________\n",
            "conv2d_49 (Conv2D)           (None, 2, 2, 1024)        4719616   \n",
            "_________________________________________________________________\n",
            "batch_normalization_49 (Batc (None, 2, 2, 1024)        4096      \n",
            "_________________________________________________________________\n",
            "dropout_7 (Dropout)          (None, 2, 2, 1024)        0         \n",
            "_________________________________________________________________\n",
            "conv2d_50 (Conv2D)           (None, 2, 2, 512)         524800    \n",
            "_________________________________________________________________\n",
            "batch_normalization_50 (Batc (None, 2, 2, 512)         2048      \n",
            "_________________________________________________________________\n",
            "conv2d_51 (Conv2D)           (None, 2, 2, 1024)        4719616   \n",
            "_________________________________________________________________\n",
            "batch_normalization_51 (Batc (None, 2, 2, 1024)        4096      \n",
            "_________________________________________________________________\n",
            "conv2d_52 (Conv2D)           (None, 2, 2, 512)         524800    \n",
            "_________________________________________________________________\n",
            "batch_normalization_52 (Batc (None, 2, 2, 512)         2048      \n",
            "_________________________________________________________________\n",
            "conv2d_53 (Conv2D)           (None, 2, 2, 1024)        4719616   \n",
            "_________________________________________________________________\n",
            "batch_normalization_53 (Batc (None, 2, 2, 1024)        4096      \n",
            "_________________________________________________________________\n",
            "conv2d_54 (Conv2D)           (None, 2, 2, 512)         524800    \n",
            "_________________________________________________________________\n",
            "batch_normalization_54 (Batc (None, 2, 2, 512)         2048      \n",
            "_________________________________________________________________\n",
            "conv2d_55 (Conv2D)           (None, 2, 2, 1024)        4719616   \n",
            "_________________________________________________________________\n",
            "batch_normalization_55 (Batc (None, 2, 2, 1024)        4096      \n",
            "_________________________________________________________________\n",
            "conv2d_56 (Conv2D)           (None, 2, 2, 512)         524800    \n",
            "_________________________________________________________________\n",
            "batch_normalization_56 (Batc (None, 2, 2, 512)         2048      \n",
            "_________________________________________________________________\n",
            "dropout_8 (Dropout)          (None, 2, 2, 512)         0         \n",
            "_________________________________________________________________\n",
            "conv2d_57 (Conv2D)           (None, 2, 2, 1024)        4719616   \n",
            "_________________________________________________________________\n",
            "batch_normalization_57 (Batc (None, 2, 2, 1024)        4096      \n",
            "_________________________________________________________________\n",
            "conv2d_58 (Conv2D)           (None, 2, 2, 255)         261375    \n",
            "_________________________________________________________________\n",
            "batch_normalization_58 (Batc (None, 2, 2, 255)         1020      \n",
            "_________________________________________________________________\n",
            "conv2d_59 (Conv2D)           (None, 2, 2, 256)         65536     \n",
            "_________________________________________________________________\n",
            "batch_normalization_59 (Batc (None, 2, 2, 256)         1024      \n",
            "_________________________________________________________________\n",
            "up_sampling2d (UpSampling2D) (None, 4, 4, 256)         0         \n",
            "_________________________________________________________________\n",
            "conv2d_60 (Conv2D)           (None, 4, 4, 256)         65792     \n",
            "_________________________________________________________________\n",
            "batch_normalization_60 (Batc (None, 4, 4, 256)         1024      \n",
            "_________________________________________________________________\n",
            "conv2d_61 (Conv2D)           (None, 4, 4, 512)         1180160   \n",
            "_________________________________________________________________\n",
            "batch_normalization_61 (Batc (None, 4, 4, 512)         2048      \n",
            "_________________________________________________________________\n",
            "conv2d_62 (Conv2D)           (None, 4, 4, 256)         131328    \n",
            "_________________________________________________________________\n",
            "batch_normalization_62 (Batc (None, 4, 4, 256)         1024      \n",
            "_________________________________________________________________\n",
            "conv2d_63 (Conv2D)           (None, 4, 4, 512)         1180160   \n",
            "_________________________________________________________________\n",
            "batch_normalization_63 (Batc (None, 4, 4, 512)         2048      \n",
            "_________________________________________________________________\n",
            "dropout_9 (Dropout)          (None, 4, 4, 512)         0         \n",
            "_________________________________________________________________\n",
            "conv2d_64 (Conv2D)           (None, 4, 4, 256)         131328    \n",
            "_________________________________________________________________\n",
            "batch_normalization_64 (Batc (None, 4, 4, 256)         1024      \n",
            "_________________________________________________________________\n",
            "conv2d_65 (Conv2D)           (None, 4, 4, 512)         1180160   \n",
            "_________________________________________________________________\n",
            "batch_normalization_65 (Batc (None, 4, 4, 512)         2048      \n",
            "_________________________________________________________________\n",
            "conv2d_66 (Conv2D)           (None, 4, 4, 255)         130815    \n",
            "_________________________________________________________________\n",
            "batch_normalization_66 (Batc (None, 4, 4, 255)         1020      \n",
            "_________________________________________________________________\n",
            "conv2d_67 (Conv2D)           (None, 4, 4, 128)         32768     \n",
            "_________________________________________________________________\n",
            "batch_normalization_67 (Batc (None, 4, 4, 128)         512       \n",
            "_________________________________________________________________\n",
            "up_sampling2d_1 (UpSampling2 (None, 8, 8, 128)         0         \n",
            "_________________________________________________________________\n",
            "conv2d_68 (Conv2D)           (None, 8, 8, 128)         16512     \n",
            "_________________________________________________________________\n",
            "batch_normalization_68 (Batc (None, 8, 8, 128)         512       \n",
            "_________________________________________________________________\n",
            "conv2d_69 (Conv2D)           (None, 8, 8, 256)         295168    \n",
            "_________________________________________________________________\n",
            "batch_normalization_69 (Batc (None, 8, 8, 256)         1024      \n",
            "_________________________________________________________________\n",
            "conv2d_70 (Conv2D)           (None, 8, 8, 128)         32896     \n",
            "_________________________________________________________________\n",
            "batch_normalization_70 (Batc (None, 8, 8, 128)         512       \n",
            "_________________________________________________________________\n",
            "dropout_10 (Dropout)         (None, 8, 8, 128)         0         \n",
            "_________________________________________________________________\n",
            "conv2d_71 (Conv2D)           (None, 8, 8, 256)         295168    \n",
            "_________________________________________________________________\n",
            "batch_normalization_71 (Batc (None, 8, 8, 256)         1024      \n",
            "_________________________________________________________________\n",
            "conv2d_72 (Conv2D)           (None, 8, 8, 128)         32896     \n",
            "_________________________________________________________________\n",
            "batch_normalization_72 (Batc (None, 8, 8, 128)         512       \n",
            "_________________________________________________________________\n",
            "conv2d_73 (Conv2D)           (None, 8, 8, 256)         295168    \n",
            "_________________________________________________________________\n",
            "batch_normalization_73 (Batc (None, 8, 8, 256)         1024      \n",
            "_________________________________________________________________\n",
            "conv2d_74 (Conv2D)           (None, 8, 8, 255)         65535     \n",
            "_________________________________________________________________\n",
            "batch_normalization_74 (Batc (None, 8, 8, 255)         1020      \n",
            "_________________________________________________________________\n",
            "flatten (Flatten)            (None, 16320)             0         \n",
            "_________________________________________________________________\n",
            "dense (Dense)                (None, 128)               2089088   \n",
            "_________________________________________________________________\n",
            "batch_normalization_75 (Batc (None, 128)               512       \n",
            "_________________________________________________________________\n",
            "dropout_11 (Dropout)         (None, 128)               0         \n",
            "_________________________________________________________________\n",
            "dense_1 (Dense)              (None, 128)               16512     \n",
            "_________________________________________________________________\n",
            "dense_2 (Dense)              (None, 128)               16512     \n",
            "_________________________________________________________________\n",
            "dense_3 (Dense)              (None, 128)               16512     \n",
            "_________________________________________________________________\n",
            "dense_4 (Dense)              (None, 2)                 258       \n",
            "=================================================================\n",
            "Total params: 63,940,179\n",
            "Trainable params: 63,885,785\n",
            "Non-trainable params: 54,394\n",
            "_________________________________________________________________\n"
          ],
          "name": "stdout"
        }
      ]
    },
    {
      "cell_type": "code",
      "metadata": {
        "id": "3PNhPfEvqGme"
      },
      "source": [
        "# plot diagnostic learning curves\n",
        "\n",
        "def summarize_diagnostics(hist):\n",
        "\tplt.plot(hist.history[\"accuracy\"])\n",
        "\tplt.plot(hist.history['val_accuracy'])\n",
        "\tplt.plot(hist.history['loss'])\n",
        "\tplt.plot(hist.history['val_loss'])\n",
        "\tplt.title(\"model accuracy\")\n",
        "\tplt.ylabel(\"Accuracy\")\n",
        "\tplt.xlabel(\"Epoch\")\n",
        "\tplt.legend([\"Accuracy\",\"Validation Accuracy\",\"loss\",\"Validation Loss\"])"
      ],
      "execution_count": null,
      "outputs": []
    },
    {
      "cell_type": "code",
      "metadata": {
        "id": "zUeXImXVqJxY"
      },
      "source": [
        "callbacks = [\n",
        "    keras.callbacks.ModelCheckpoint('classification_deep_conv_model.h5', save_best_only=True),\n",
        "    keras.callbacks.ReduceLROnPlateau()]"
      ],
      "execution_count": null,
      "outputs": []
    },
    {
      "cell_type": "code",
      "metadata": {
        "id": "Dd24B3QiqLcN",
        "colab": {
          "base_uri": "https://localhost:8080/",
          "height": 1000
        },
        "outputId": "f431dc6a-03f6-4370-8049-c1965082bb3a"
      },
      "source": [
        "# run the test harness for evaluating a model\n",
        "#def run_test_harness():\n",
        "\t# create data generator\n",
        "datagen = ImageDataGenerator(width_shift_range=0.1, height_shift_range=0.1, horizontal_flip=True,zoom_range=0.1)\n",
        "\t# prepare iterator\n",
        "it_train = datagen.flow(X_train_images_np, y_train_labels_np, batch_size=64)\n",
        "\t# fit model\n",
        "steps = int(X_train_images_np.shape[0] / 64)\n",
        "hist = model.fit_generator(it_train, steps_per_epoch=steps, epochs=500, validation_data=(X_val_images_np, y_val_labels_np), verbose=1, callbacks = callbacks)\n",
        "\t# evaluate model\n",
        "_, acc = model.evaluate(X_val_images_np, y_val_labels_np, verbose=1)\n",
        "print('> %.3f' % (acc * 100.0))\n",
        "\t# learning curves\n",
        "summarize_diagnostics(hist)\n",
        "\n",
        "# entry point, run the test harness\n",
        "#run_test_harness()"
      ],
      "execution_count": null,
      "outputs": [
        {
          "output_type": "stream",
          "text": [
            "/usr/local/lib/python3.7/dist-packages/keras/engine/training.py:1915: UserWarning: `Model.fit_generator` is deprecated and will be removed in a future version. Please use `Model.fit`, which supports generators.\n",
            "  warnings.warn('`Model.fit_generator` is deprecated and '\n"
          ],
          "name": "stderr"
        },
        {
          "output_type": "stream",
          "text": [
            "Epoch 1/500\n",
            "81/81 [==============================] - 81s 233ms/step - loss: 0.5292 - accuracy: 0.7826 - val_loss: 0.4673 - val_accuracy: 0.8273\n",
            "Epoch 2/500\n",
            "81/81 [==============================] - 12s 152ms/step - loss: 0.4500 - accuracy: 0.8400 - val_loss: 0.4579 - val_accuracy: 0.8273\n",
            "Epoch 3/500\n",
            "81/81 [==============================] - 13s 154ms/step - loss: 0.4565 - accuracy: 0.8342 - val_loss: 0.5536 - val_accuracy: 0.8273\n",
            "Epoch 4/500\n",
            "81/81 [==============================] - 13s 157ms/step - loss: 0.4556 - accuracy: 0.8385 - val_loss: 0.4787 - val_accuracy: 0.8273\n",
            "Epoch 5/500\n",
            "81/81 [==============================] - 13s 157ms/step - loss: 0.4476 - accuracy: 0.8348 - val_loss: 3.8406 - val_accuracy: 0.8273\n",
            "Epoch 6/500\n",
            "81/81 [==============================] - 13s 157ms/step - loss: 0.4455 - accuracy: 0.8413 - val_loss: 0.8567 - val_accuracy: 0.8273\n",
            "Epoch 7/500\n",
            "81/81 [==============================] - 13s 157ms/step - loss: 0.4635 - accuracy: 0.8287 - val_loss: 0.9368 - val_accuracy: 0.8273\n",
            "Epoch 8/500\n",
            "81/81 [==============================] - 13s 158ms/step - loss: 0.4576 - accuracy: 0.8284 - val_loss: 0.5553 - val_accuracy: 0.8273\n",
            "Epoch 9/500\n",
            "81/81 [==============================] - 13s 156ms/step - loss: 0.4325 - accuracy: 0.8387 - val_loss: 0.4528 - val_accuracy: 0.8273\n",
            "Epoch 10/500\n",
            "81/81 [==============================] - 13s 156ms/step - loss: 0.4504 - accuracy: 0.8352 - val_loss: 0.4713 - val_accuracy: 0.8273\n",
            "Epoch 11/500\n",
            "81/81 [==============================] - 13s 156ms/step - loss: 0.4429 - accuracy: 0.8363 - val_loss: 0.4496 - val_accuracy: 0.8273\n",
            "Epoch 12/500\n",
            "81/81 [==============================] - 13s 156ms/step - loss: 0.4405 - accuracy: 0.8345 - val_loss: 0.4970 - val_accuracy: 0.8273\n",
            "Epoch 13/500\n",
            "81/81 [==============================] - 13s 158ms/step - loss: 0.4468 - accuracy: 0.8288 - val_loss: 0.4996 - val_accuracy: 0.8273\n",
            "Epoch 14/500\n",
            "81/81 [==============================] - 13s 159ms/step - loss: 0.4421 - accuracy: 0.8332 - val_loss: 0.4702 - val_accuracy: 0.8273\n",
            "Epoch 15/500\n",
            "81/81 [==============================] - 13s 158ms/step - loss: 0.4327 - accuracy: 0.8356 - val_loss: 0.5017 - val_accuracy: 0.8273\n",
            "Epoch 16/500\n",
            "81/81 [==============================] - 13s 156ms/step - loss: 0.4363 - accuracy: 0.8302 - val_loss: 0.4652 - val_accuracy: 0.8273\n",
            "Epoch 17/500\n",
            "81/81 [==============================] - 13s 158ms/step - loss: 0.4341 - accuracy: 0.8300 - val_loss: 0.5101 - val_accuracy: 0.8273\n",
            "Epoch 18/500\n",
            "81/81 [==============================] - 13s 157ms/step - loss: 0.4411 - accuracy: 0.8392 - val_loss: 0.4735 - val_accuracy: 0.8273\n",
            "Epoch 19/500\n",
            "81/81 [==============================] - 13s 158ms/step - loss: 0.4421 - accuracy: 0.8382 - val_loss: 0.4634 - val_accuracy: 0.8273\n",
            "Epoch 20/500\n",
            "81/81 [==============================] - 13s 158ms/step - loss: 0.4293 - accuracy: 0.8481 - val_loss: 1.5872 - val_accuracy: 0.8273\n",
            "Epoch 21/500\n",
            "81/81 [==============================] - 13s 159ms/step - loss: 0.4413 - accuracy: 0.8428 - val_loss: 0.5962 - val_accuracy: 0.8273\n",
            "Epoch 22/500\n",
            "81/81 [==============================] - 13s 157ms/step - loss: 0.4629 - accuracy: 0.8264 - val_loss: 0.4566 - val_accuracy: 0.8273\n",
            "Epoch 23/500\n",
            "81/81 [==============================] - 13s 157ms/step - loss: 0.4329 - accuracy: 0.8435 - val_loss: 0.4605 - val_accuracy: 0.8273\n",
            "Epoch 24/500\n",
            "81/81 [==============================] - 13s 158ms/step - loss: 0.4524 - accuracy: 0.8291 - val_loss: 0.4606 - val_accuracy: 0.8273\n",
            "Epoch 25/500\n",
            "81/81 [==============================] - 13s 158ms/step - loss: 0.4225 - accuracy: 0.8473 - val_loss: 0.4581 - val_accuracy: 0.8273\n",
            "Epoch 26/500\n",
            "81/81 [==============================] - 13s 156ms/step - loss: 0.4408 - accuracy: 0.8383 - val_loss: 0.4513 - val_accuracy: 0.8273\n",
            "Epoch 27/500\n",
            "81/81 [==============================] - 13s 155ms/step - loss: 0.4300 - accuracy: 0.8433 - val_loss: 0.4513 - val_accuracy: 0.8273\n",
            "Epoch 28/500\n",
            "81/81 [==============================] - 13s 157ms/step - loss: 0.4317 - accuracy: 0.8430 - val_loss: 0.4619 - val_accuracy: 0.8273\n",
            "Epoch 29/500\n",
            "81/81 [==============================] - 13s 157ms/step - loss: 0.4276 - accuracy: 0.8431 - val_loss: 0.4587 - val_accuracy: 0.8273\n",
            "Epoch 30/500\n",
            "81/81 [==============================] - 13s 156ms/step - loss: 0.4476 - accuracy: 0.8338 - val_loss: 0.4528 - val_accuracy: 0.8273\n",
            "Epoch 31/500\n",
            "81/81 [==============================] - 13s 157ms/step - loss: 0.4506 - accuracy: 0.8306 - val_loss: 0.4459 - val_accuracy: 0.8273\n",
            "Epoch 32/500\n",
            "81/81 [==============================] - 13s 159ms/step - loss: 0.4432 - accuracy: 0.8329 - val_loss: 0.4556 - val_accuracy: 0.8273\n",
            "Epoch 33/500\n",
            "81/81 [==============================] - 13s 158ms/step - loss: 0.4303 - accuracy: 0.8403 - val_loss: 0.4557 - val_accuracy: 0.8273\n",
            "Epoch 34/500\n",
            "81/81 [==============================] - 13s 157ms/step - loss: 0.4545 - accuracy: 0.8265 - val_loss: 0.4461 - val_accuracy: 0.8273\n",
            "Epoch 35/500\n",
            "81/81 [==============================] - 13s 157ms/step - loss: 0.4493 - accuracy: 0.8302 - val_loss: 0.4516 - val_accuracy: 0.8273\n",
            "Epoch 36/500\n",
            "81/81 [==============================] - 13s 157ms/step - loss: 0.4383 - accuracy: 0.8367 - val_loss: 0.4513 - val_accuracy: 0.8273\n",
            "Epoch 37/500\n",
            "81/81 [==============================] - 13s 157ms/step - loss: 0.4461 - accuracy: 0.8315 - val_loss: 0.4480 - val_accuracy: 0.8273\n",
            "Epoch 38/500\n",
            "81/81 [==============================] - 13s 158ms/step - loss: 0.4362 - accuracy: 0.8386 - val_loss: 0.4592 - val_accuracy: 0.8273\n",
            "Epoch 39/500\n",
            "81/81 [==============================] - 13s 158ms/step - loss: 0.4379 - accuracy: 0.8403 - val_loss: 0.4587 - val_accuracy: 0.8273\n",
            "Epoch 40/500\n",
            "81/81 [==============================] - 13s 158ms/step - loss: 0.4344 - accuracy: 0.8414 - val_loss: 0.4524 - val_accuracy: 0.8273\n",
            "Epoch 41/500\n",
            "81/81 [==============================] - 13s 158ms/step - loss: 0.4392 - accuracy: 0.8378 - val_loss: 0.4541 - val_accuracy: 0.8273\n",
            "Epoch 42/500\n",
            "81/81 [==============================] - 13s 158ms/step - loss: 0.4361 - accuracy: 0.8383 - val_loss: 0.4542 - val_accuracy: 0.8273\n",
            "Epoch 43/500\n",
            "81/81 [==============================] - 13s 156ms/step - loss: 0.4390 - accuracy: 0.8369 - val_loss: 0.4529 - val_accuracy: 0.8273\n",
            "Epoch 44/500\n",
            "81/81 [==============================] - 13s 157ms/step - loss: 0.4378 - accuracy: 0.8397 - val_loss: 0.4526 - val_accuracy: 0.8273\n",
            "Epoch 45/500\n",
            "81/81 [==============================] - 13s 158ms/step - loss: 0.4511 - accuracy: 0.8296 - val_loss: 0.4541 - val_accuracy: 0.8273\n",
            "Epoch 46/500\n",
            "81/81 [==============================] - 13s 157ms/step - loss: 0.4503 - accuracy: 0.8295 - val_loss: 0.4540 - val_accuracy: 0.8273\n",
            "Epoch 47/500\n",
            "81/81 [==============================] - 13s 157ms/step - loss: 0.4465 - accuracy: 0.8331 - val_loss: 0.4534 - val_accuracy: 0.8273\n",
            "Epoch 48/500\n",
            "81/81 [==============================] - 13s 157ms/step - loss: 0.4384 - accuracy: 0.8391 - val_loss: 0.4533 - val_accuracy: 0.8273\n",
            "Epoch 49/500\n",
            "81/81 [==============================] - 13s 156ms/step - loss: 0.4355 - accuracy: 0.8381 - val_loss: 0.4529 - val_accuracy: 0.8273\n",
            "Epoch 50/500\n",
            "81/81 [==============================] - 13s 158ms/step - loss: 0.4456 - accuracy: 0.8316 - val_loss: 0.4522 - val_accuracy: 0.8273\n",
            "Epoch 51/500\n",
            "81/81 [==============================] - 13s 159ms/step - loss: 0.4329 - accuracy: 0.8412 - val_loss: 0.4520 - val_accuracy: 0.8273\n",
            "Epoch 52/500\n",
            "81/81 [==============================] - 13s 156ms/step - loss: 0.4415 - accuracy: 0.8345 - val_loss: 0.4522 - val_accuracy: 0.8273\n",
            "Epoch 53/500\n",
            "81/81 [==============================] - 13s 156ms/step - loss: 0.4434 - accuracy: 0.8328 - val_loss: 0.4518 - val_accuracy: 0.8273\n",
            "Epoch 54/500\n",
            "81/81 [==============================] - 13s 158ms/step - loss: 0.4514 - accuracy: 0.8300 - val_loss: 0.4523 - val_accuracy: 0.8273\n",
            "Epoch 55/500\n",
            "81/81 [==============================] - 13s 158ms/step - loss: 0.4451 - accuracy: 0.8312 - val_loss: 0.4522 - val_accuracy: 0.8273\n",
            "Epoch 56/500\n",
            "81/81 [==============================] - 13s 157ms/step - loss: 0.4436 - accuracy: 0.8352 - val_loss: 0.4520 - val_accuracy: 0.8273\n",
            "Epoch 57/500\n",
            "81/81 [==============================] - 13s 159ms/step - loss: 0.4383 - accuracy: 0.8370 - val_loss: 0.4521 - val_accuracy: 0.8273\n",
            "Epoch 58/500\n",
            "81/81 [==============================] - 13s 156ms/step - loss: 0.4457 - accuracy: 0.8345 - val_loss: 0.4520 - val_accuracy: 0.8273\n",
            "Epoch 59/500\n",
            "81/81 [==============================] - 13s 159ms/step - loss: 0.4293 - accuracy: 0.8418 - val_loss: 0.4517 - val_accuracy: 0.8273\n",
            "Epoch 60/500\n",
            "81/81 [==============================] - 13s 158ms/step - loss: 0.4296 - accuracy: 0.8420 - val_loss: 0.4517 - val_accuracy: 0.8273\n",
            "Epoch 61/500\n",
            "81/81 [==============================] - 13s 158ms/step - loss: 0.4348 - accuracy: 0.8408 - val_loss: 0.4513 - val_accuracy: 0.8273\n",
            "Epoch 62/500\n",
            "81/81 [==============================] - 13s 158ms/step - loss: 0.4384 - accuracy: 0.8370 - val_loss: 0.4514 - val_accuracy: 0.8273\n",
            "Epoch 63/500\n",
            "81/81 [==============================] - 13s 158ms/step - loss: 0.4438 - accuracy: 0.8339 - val_loss: 0.4510 - val_accuracy: 0.8273\n",
            "Epoch 64/500\n",
            "81/81 [==============================] - 13s 157ms/step - loss: 0.4356 - accuracy: 0.8381 - val_loss: 0.4511 - val_accuracy: 0.8273\n",
            "Epoch 65/500\n",
            "81/81 [==============================] - 13s 159ms/step - loss: 0.4311 - accuracy: 0.8414 - val_loss: 0.4512 - val_accuracy: 0.8273\n",
            "Epoch 66/500\n",
            "81/81 [==============================] - 13s 155ms/step - loss: 0.4435 - accuracy: 0.8317 - val_loss: 0.4511 - val_accuracy: 0.8273\n",
            "Epoch 67/500\n",
            "81/81 [==============================] - 13s 156ms/step - loss: 0.4168 - accuracy: 0.8506 - val_loss: 0.4511 - val_accuracy: 0.8273\n",
            "Epoch 68/500\n",
            "81/81 [==============================] - 13s 159ms/step - loss: 0.4430 - accuracy: 0.8346 - val_loss: 0.4512 - val_accuracy: 0.8273\n",
            "Epoch 69/500\n",
            "81/81 [==============================] - 13s 158ms/step - loss: 0.4372 - accuracy: 0.8362 - val_loss: 0.4512 - val_accuracy: 0.8273\n",
            "Epoch 70/500\n",
            "81/81 [==============================] - 13s 158ms/step - loss: 0.4247 - accuracy: 0.8449 - val_loss: 0.4513 - val_accuracy: 0.8273\n",
            "Epoch 71/500\n",
            "81/81 [==============================] - 13s 157ms/step - loss: 0.4459 - accuracy: 0.8306 - val_loss: 0.4511 - val_accuracy: 0.8273\n",
            "Epoch 72/500\n",
            "81/81 [==============================] - 13s 158ms/step - loss: 0.4322 - accuracy: 0.8395 - val_loss: 0.4511 - val_accuracy: 0.8273\n",
            "Epoch 73/500\n",
            "81/81 [==============================] - 13s 159ms/step - loss: 0.4569 - accuracy: 0.8251 - val_loss: 0.4509 - val_accuracy: 0.8273\n",
            "Epoch 74/500\n",
            "81/81 [==============================] - 13s 156ms/step - loss: 0.4398 - accuracy: 0.8353 - val_loss: 0.4510 - val_accuracy: 0.8273\n",
            "Epoch 75/500\n",
            "81/81 [==============================] - 13s 157ms/step - loss: 0.4364 - accuracy: 0.8380 - val_loss: 0.4510 - val_accuracy: 0.8273\n",
            "Epoch 76/500\n",
            "81/81 [==============================] - 13s 158ms/step - loss: 0.4345 - accuracy: 0.8396 - val_loss: 0.4512 - val_accuracy: 0.8273\n",
            "Epoch 77/500\n",
            "81/81 [==============================] - 13s 158ms/step - loss: 0.4337 - accuracy: 0.8398 - val_loss: 0.4508 - val_accuracy: 0.8273\n",
            "Epoch 78/500\n",
            "81/81 [==============================] - 13s 156ms/step - loss: 0.4316 - accuracy: 0.8402 - val_loss: 0.4514 - val_accuracy: 0.8273\n",
            "Epoch 79/500\n",
            "81/81 [==============================] - 13s 157ms/step - loss: 0.4307 - accuracy: 0.8422 - val_loss: 0.4514 - val_accuracy: 0.8273\n",
            "Epoch 80/500\n",
            "81/81 [==============================] - 13s 158ms/step - loss: 0.4524 - accuracy: 0.8294 - val_loss: 0.4508 - val_accuracy: 0.8273\n",
            "Epoch 81/500\n",
            "81/81 [==============================] - 13s 157ms/step - loss: 0.4507 - accuracy: 0.8284 - val_loss: 0.4513 - val_accuracy: 0.8273\n",
            "Epoch 82/500\n",
            "81/81 [==============================] - 13s 158ms/step - loss: 0.4253 - accuracy: 0.8443 - val_loss: 0.4514 - val_accuracy: 0.8273\n",
            "Epoch 83/500\n",
            "81/81 [==============================] - 13s 157ms/step - loss: 0.4336 - accuracy: 0.8408 - val_loss: 0.4513 - val_accuracy: 0.8273\n",
            "Epoch 84/500\n",
            "81/81 [==============================] - 13s 156ms/step - loss: 0.4509 - accuracy: 0.8307 - val_loss: 0.4516 - val_accuracy: 0.8273\n",
            "Epoch 85/500\n",
            "81/81 [==============================] - 13s 159ms/step - loss: 0.4359 - accuracy: 0.8368 - val_loss: 0.4513 - val_accuracy: 0.8273\n",
            "Epoch 86/500\n",
            "81/81 [==============================] - 13s 157ms/step - loss: 0.4347 - accuracy: 0.8375 - val_loss: 0.4512 - val_accuracy: 0.8273\n",
            "Epoch 87/500\n",
            "81/81 [==============================] - 13s 159ms/step - loss: 0.4417 - accuracy: 0.8340 - val_loss: 0.4516 - val_accuracy: 0.8273\n",
            "Epoch 88/500\n",
            "81/81 [==============================] - 13s 157ms/step - loss: 0.4388 - accuracy: 0.8369 - val_loss: 0.4511 - val_accuracy: 0.8273\n",
            "Epoch 89/500\n",
            "81/81 [==============================] - 13s 156ms/step - loss: 0.4409 - accuracy: 0.8354 - val_loss: 0.4512 - val_accuracy: 0.8273\n",
            "Epoch 90/500\n",
            "81/81 [==============================] - 13s 158ms/step - loss: 0.4317 - accuracy: 0.8407 - val_loss: 0.4515 - val_accuracy: 0.8273\n",
            "Epoch 91/500\n",
            "81/81 [==============================] - 13s 160ms/step - loss: 0.4392 - accuracy: 0.8375 - val_loss: 0.4514 - val_accuracy: 0.8273\n",
            "Epoch 92/500\n",
            "81/81 [==============================] - 13s 156ms/step - loss: 0.4448 - accuracy: 0.8321 - val_loss: 0.4511 - val_accuracy: 0.8273\n",
            "Epoch 93/500\n",
            "81/81 [==============================] - 13s 156ms/step - loss: 0.4359 - accuracy: 0.8383 - val_loss: 0.4515 - val_accuracy: 0.8273\n",
            "Epoch 94/500\n",
            "81/81 [==============================] - 13s 160ms/step - loss: 0.4412 - accuracy: 0.8356 - val_loss: 0.4512 - val_accuracy: 0.8273\n",
            "Epoch 95/500\n",
            "81/81 [==============================] - 13s 157ms/step - loss: 0.4216 - accuracy: 0.8471 - val_loss: 0.4511 - val_accuracy: 0.8273\n",
            "Epoch 96/500\n",
            "81/81 [==============================] - 13s 158ms/step - loss: 0.4296 - accuracy: 0.8421 - val_loss: 0.4513 - val_accuracy: 0.8273\n",
            "Epoch 97/500\n",
            "81/81 [==============================] - 13s 159ms/step - loss: 0.4263 - accuracy: 0.8433 - val_loss: 0.4514 - val_accuracy: 0.8273\n",
            "Epoch 98/500\n",
            "81/81 [==============================] - 13s 159ms/step - loss: 0.4287 - accuracy: 0.8431 - val_loss: 0.4513 - val_accuracy: 0.8273\n",
            "Epoch 99/500\n",
            "81/81 [==============================] - 13s 159ms/step - loss: 0.4345 - accuracy: 0.8396 - val_loss: 0.4518 - val_accuracy: 0.8273\n",
            "Epoch 100/500\n",
            "81/81 [==============================] - 13s 156ms/step - loss: 0.4461 - accuracy: 0.8319 - val_loss: 0.4513 - val_accuracy: 0.8273\n",
            "Epoch 101/500\n",
            "81/81 [==============================] - 13s 156ms/step - loss: 0.4344 - accuracy: 0.8380 - val_loss: 0.4512 - val_accuracy: 0.8273\n",
            "Epoch 102/500\n",
            "81/81 [==============================] - 13s 157ms/step - loss: 0.4422 - accuracy: 0.8346 - val_loss: 0.4511 - val_accuracy: 0.8273\n",
            "Epoch 103/500\n",
            "81/81 [==============================] - 13s 159ms/step - loss: 0.4370 - accuracy: 0.8374 - val_loss: 0.4511 - val_accuracy: 0.8273\n",
            "Epoch 104/500\n",
            "81/81 [==============================] - 13s 157ms/step - loss: 0.4416 - accuracy: 0.8345 - val_loss: 0.4512 - val_accuracy: 0.8273\n",
            "Epoch 105/500\n",
            "81/81 [==============================] - 13s 156ms/step - loss: 0.4310 - accuracy: 0.8445 - val_loss: 0.4511 - val_accuracy: 0.8273\n",
            "Epoch 106/500\n",
            "81/81 [==============================] - 13s 156ms/step - loss: 0.4358 - accuracy: 0.8380 - val_loss: 0.4508 - val_accuracy: 0.8273\n",
            "Epoch 107/500\n",
            "81/81 [==============================] - 13s 156ms/step - loss: 0.4273 - accuracy: 0.8432 - val_loss: 0.4511 - val_accuracy: 0.8273\n",
            "Epoch 108/500\n",
            "81/81 [==============================] - 13s 157ms/step - loss: 0.4516 - accuracy: 0.8291 - val_loss: 0.4513 - val_accuracy: 0.8273\n",
            "Epoch 109/500\n",
            "81/81 [==============================] - 13s 158ms/step - loss: 0.4376 - accuracy: 0.8381 - val_loss: 0.4510 - val_accuracy: 0.8273\n",
            "Epoch 110/500\n",
            "81/81 [==============================] - 13s 158ms/step - loss: 0.4353 - accuracy: 0.8386 - val_loss: 0.4511 - val_accuracy: 0.8273\n",
            "Epoch 111/500\n",
            "81/81 [==============================] - 13s 159ms/step - loss: 0.4335 - accuracy: 0.8391 - val_loss: 0.4513 - val_accuracy: 0.8273\n",
            "Epoch 112/500\n",
            "81/81 [==============================] - 13s 159ms/step - loss: 0.4291 - accuracy: 0.8416 - val_loss: 0.4514 - val_accuracy: 0.8273\n",
            "Epoch 113/500\n",
            "81/81 [==============================] - 13s 156ms/step - loss: 0.4374 - accuracy: 0.8378 - val_loss: 0.4511 - val_accuracy: 0.8273\n",
            "Epoch 114/500\n",
            "81/81 [==============================] - 13s 156ms/step - loss: 0.4527 - accuracy: 0.8273 - val_loss: 0.4512 - val_accuracy: 0.8273\n",
            "Epoch 115/500\n",
            "81/81 [==============================] - 13s 156ms/step - loss: 0.4417 - accuracy: 0.8349 - val_loss: 0.4511 - val_accuracy: 0.8273\n",
            "Epoch 116/500\n",
            "81/81 [==============================] - 13s 158ms/step - loss: 0.4375 - accuracy: 0.8362 - val_loss: 0.4511 - val_accuracy: 0.8273\n",
            "Epoch 117/500\n",
            "81/81 [==============================] - 13s 157ms/step - loss: 0.4330 - accuracy: 0.8422 - val_loss: 0.4512 - val_accuracy: 0.8273\n",
            "Epoch 118/500\n",
            "81/81 [==============================] - 13s 158ms/step - loss: 0.4323 - accuracy: 0.8400 - val_loss: 0.4512 - val_accuracy: 0.8273\n",
            "Epoch 119/500\n",
            "81/81 [==============================] - 13s 157ms/step - loss: 0.4310 - accuracy: 0.8394 - val_loss: 0.4511 - val_accuracy: 0.8273\n",
            "Epoch 120/500\n",
            "81/81 [==============================] - 13s 158ms/step - loss: 0.4276 - accuracy: 0.8441 - val_loss: 0.4513 - val_accuracy: 0.8273\n",
            "Epoch 121/500\n",
            "81/81 [==============================] - 13s 155ms/step - loss: 0.4417 - accuracy: 0.8336 - val_loss: 0.4512 - val_accuracy: 0.8273\n",
            "Epoch 122/500\n",
            "81/81 [==============================] - 13s 157ms/step - loss: 0.4319 - accuracy: 0.8391 - val_loss: 0.4510 - val_accuracy: 0.8273\n",
            "Epoch 123/500\n",
            "81/81 [==============================] - 13s 161ms/step - loss: 0.4415 - accuracy: 0.8374 - val_loss: 0.4508 - val_accuracy: 0.8273\n",
            "Epoch 124/500\n",
            "81/81 [==============================] - 13s 157ms/step - loss: 0.4358 - accuracy: 0.8370 - val_loss: 0.4510 - val_accuracy: 0.8273\n",
            "Epoch 125/500\n",
            "81/81 [==============================] - 13s 156ms/step - loss: 0.4449 - accuracy: 0.8333 - val_loss: 0.4514 - val_accuracy: 0.8273\n",
            "Epoch 126/500\n",
            "81/81 [==============================] - 13s 157ms/step - loss: 0.4443 - accuracy: 0.8319 - val_loss: 0.4510 - val_accuracy: 0.8273\n",
            "Epoch 127/500\n",
            "81/81 [==============================] - 13s 157ms/step - loss: 0.4269 - accuracy: 0.8426 - val_loss: 0.4510 - val_accuracy: 0.8273\n",
            "Epoch 128/500\n",
            "81/81 [==============================] - 13s 159ms/step - loss: 0.4470 - accuracy: 0.8291 - val_loss: 0.4511 - val_accuracy: 0.8273\n",
            "Epoch 129/500\n",
            "81/81 [==============================] - 13s 158ms/step - loss: 0.4373 - accuracy: 0.8373 - val_loss: 0.4511 - val_accuracy: 0.8273\n",
            "Epoch 130/500\n",
            "81/81 [==============================] - 13s 156ms/step - loss: 0.4255 - accuracy: 0.8435 - val_loss: 0.4514 - val_accuracy: 0.8273\n",
            "Epoch 131/500\n",
            "81/81 [==============================] - 13s 160ms/step - loss: 0.4460 - accuracy: 0.8320 - val_loss: 0.4515 - val_accuracy: 0.8273\n",
            "Epoch 132/500\n",
            "81/81 [==============================] - 13s 156ms/step - loss: 0.4296 - accuracy: 0.8421 - val_loss: 0.4512 - val_accuracy: 0.8273\n",
            "Epoch 133/500\n",
            "81/81 [==============================] - 13s 156ms/step - loss: 0.4466 - accuracy: 0.8308 - val_loss: 0.4507 - val_accuracy: 0.8273\n",
            "Epoch 134/500\n",
            "81/81 [==============================] - 13s 158ms/step - loss: 0.4347 - accuracy: 0.8374 - val_loss: 0.4512 - val_accuracy: 0.8273\n",
            "Epoch 135/500\n",
            "81/81 [==============================] - 13s 157ms/step - loss: 0.4327 - accuracy: 0.8403 - val_loss: 0.4510 - val_accuracy: 0.8273\n",
            "Epoch 136/500\n",
            "81/81 [==============================] - 13s 156ms/step - loss: 0.4454 - accuracy: 0.8307 - val_loss: 0.4509 - val_accuracy: 0.8273\n",
            "Epoch 137/500\n",
            "81/81 [==============================] - 13s 158ms/step - loss: 0.4469 - accuracy: 0.8314 - val_loss: 0.4512 - val_accuracy: 0.8273\n",
            "Epoch 138/500\n",
            "81/81 [==============================] - 13s 157ms/step - loss: 0.4400 - accuracy: 0.8356 - val_loss: 0.4514 - val_accuracy: 0.8273\n",
            "Epoch 139/500\n",
            "81/81 [==============================] - 13s 159ms/step - loss: 0.4376 - accuracy: 0.8376 - val_loss: 0.4512 - val_accuracy: 0.8273\n",
            "Epoch 140/500\n",
            "81/81 [==============================] - 13s 157ms/step - loss: 0.4257 - accuracy: 0.8447 - val_loss: 0.4514 - val_accuracy: 0.8273\n",
            "Epoch 141/500\n",
            "81/81 [==============================] - 13s 158ms/step - loss: 0.4301 - accuracy: 0.8430 - val_loss: 0.4517 - val_accuracy: 0.8273\n",
            "Epoch 142/500\n",
            "81/81 [==============================] - 13s 157ms/step - loss: 0.4362 - accuracy: 0.8381 - val_loss: 0.4514 - val_accuracy: 0.8273\n",
            "Epoch 143/500\n",
            "81/81 [==============================] - 13s 157ms/step - loss: 0.4379 - accuracy: 0.8371 - val_loss: 0.4510 - val_accuracy: 0.8273\n",
            "Epoch 144/500\n",
            "81/81 [==============================] - 13s 156ms/step - loss: 0.4376 - accuracy: 0.8378 - val_loss: 0.4507 - val_accuracy: 0.8273\n",
            "Epoch 145/500\n",
            "81/81 [==============================] - 13s 158ms/step - loss: 0.4476 - accuracy: 0.8337 - val_loss: 0.4512 - val_accuracy: 0.8273\n",
            "Epoch 146/500\n",
            "81/81 [==============================] - 13s 159ms/step - loss: 0.4386 - accuracy: 0.8380 - val_loss: 0.4510 - val_accuracy: 0.8273\n",
            "Epoch 147/500\n",
            "81/81 [==============================] - 13s 158ms/step - loss: 0.4510 - accuracy: 0.8300 - val_loss: 0.4512 - val_accuracy: 0.8273\n",
            "Epoch 148/500\n",
            "81/81 [==============================] - 13s 158ms/step - loss: 0.4481 - accuracy: 0.8321 - val_loss: 0.4510 - val_accuracy: 0.8273\n",
            "Epoch 149/500\n",
            "81/81 [==============================] - 13s 156ms/step - loss: 0.4324 - accuracy: 0.8391 - val_loss: 0.4511 - val_accuracy: 0.8273\n",
            "Epoch 150/500\n",
            "81/81 [==============================] - 13s 157ms/step - loss: 0.4441 - accuracy: 0.8346 - val_loss: 0.4512 - val_accuracy: 0.8273\n",
            "Epoch 151/500\n",
            "81/81 [==============================] - 13s 157ms/step - loss: 0.4459 - accuracy: 0.8322 - val_loss: 0.4510 - val_accuracy: 0.8273\n",
            "Epoch 152/500\n",
            "81/81 [==============================] - 13s 160ms/step - loss: 0.4301 - accuracy: 0.8412 - val_loss: 0.4510 - val_accuracy: 0.8273\n",
            "Epoch 153/500\n",
            "81/81 [==============================] - 13s 158ms/step - loss: 0.4480 - accuracy: 0.8316 - val_loss: 0.4509 - val_accuracy: 0.8273\n",
            "Epoch 154/500\n",
            "81/81 [==============================] - 13s 157ms/step - loss: 0.4367 - accuracy: 0.8383 - val_loss: 0.4512 - val_accuracy: 0.8273\n",
            "Epoch 155/500\n",
            "81/81 [==============================] - 13s 156ms/step - loss: 0.4222 - accuracy: 0.8456 - val_loss: 0.4513 - val_accuracy: 0.8273\n",
            "Epoch 156/500\n",
            "81/81 [==============================] - 13s 159ms/step - loss: 0.4447 - accuracy: 0.8342 - val_loss: 0.4511 - val_accuracy: 0.8273\n",
            "Epoch 157/500\n",
            "81/81 [==============================] - 13s 160ms/step - loss: 0.4409 - accuracy: 0.8359 - val_loss: 0.4509 - val_accuracy: 0.8273\n",
            "Epoch 158/500\n",
            "81/81 [==============================] - 13s 156ms/step - loss: 0.4331 - accuracy: 0.8397 - val_loss: 0.4516 - val_accuracy: 0.8273\n",
            "Epoch 159/500\n",
            "81/81 [==============================] - 13s 158ms/step - loss: 0.4413 - accuracy: 0.8365 - val_loss: 0.4512 - val_accuracy: 0.8273\n",
            "Epoch 160/500\n",
            "81/81 [==============================] - 13s 158ms/step - loss: 0.4434 - accuracy: 0.8344 - val_loss: 0.4512 - val_accuracy: 0.8273\n",
            "Epoch 161/500\n",
            "81/81 [==============================] - 13s 158ms/step - loss: 0.4411 - accuracy: 0.8343 - val_loss: 0.4510 - val_accuracy: 0.8273\n",
            "Epoch 162/500\n",
            "81/81 [==============================] - 13s 158ms/step - loss: 0.4371 - accuracy: 0.8363 - val_loss: 0.4510 - val_accuracy: 0.8273\n",
            "Epoch 163/500\n",
            "81/81 [==============================] - 13s 158ms/step - loss: 0.4403 - accuracy: 0.8371 - val_loss: 0.4509 - val_accuracy: 0.8273\n",
            "Epoch 164/500\n",
            "81/81 [==============================] - 13s 157ms/step - loss: 0.4266 - accuracy: 0.8446 - val_loss: 0.4515 - val_accuracy: 0.8273\n",
            "Epoch 165/500\n",
            "81/81 [==============================] - 13s 158ms/step - loss: 0.4416 - accuracy: 0.8356 - val_loss: 0.4511 - val_accuracy: 0.8273\n",
            "Epoch 166/500\n",
            "81/81 [==============================] - 13s 155ms/step - loss: 0.4186 - accuracy: 0.8468 - val_loss: 0.4513 - val_accuracy: 0.8273\n",
            "Epoch 167/500\n",
            "81/81 [==============================] - 13s 159ms/step - loss: 0.4284 - accuracy: 0.8440 - val_loss: 0.4512 - val_accuracy: 0.8273\n",
            "Epoch 168/500\n",
            "81/81 [==============================] - 13s 156ms/step - loss: 0.4488 - accuracy: 0.8312 - val_loss: 0.4518 - val_accuracy: 0.8273\n",
            "Epoch 169/500\n",
            "81/81 [==============================] - 13s 158ms/step - loss: 0.4340 - accuracy: 0.8377 - val_loss: 0.4518 - val_accuracy: 0.8273\n",
            "Epoch 170/500\n",
            "81/81 [==============================] - 13s 159ms/step - loss: 0.4313 - accuracy: 0.8380 - val_loss: 0.4514 - val_accuracy: 0.8273\n",
            "Epoch 171/500\n",
            "81/81 [==============================] - 13s 157ms/step - loss: 0.4358 - accuracy: 0.8371 - val_loss: 0.4510 - val_accuracy: 0.8273\n",
            "Epoch 172/500\n",
            "81/81 [==============================] - 13s 158ms/step - loss: 0.4404 - accuracy: 0.8348 - val_loss: 0.4510 - val_accuracy: 0.8273\n",
            "Epoch 173/500\n",
            "81/81 [==============================] - 13s 156ms/step - loss: 0.4348 - accuracy: 0.8393 - val_loss: 0.4515 - val_accuracy: 0.8273\n",
            "Epoch 174/500\n",
            "81/81 [==============================] - 13s 156ms/step - loss: 0.4365 - accuracy: 0.8392 - val_loss: 0.4511 - val_accuracy: 0.8273\n",
            "Epoch 175/500\n",
            "81/81 [==============================] - 13s 159ms/step - loss: 0.4284 - accuracy: 0.8422 - val_loss: 0.4511 - val_accuracy: 0.8273\n",
            "Epoch 176/500\n",
            "81/81 [==============================] - 13s 158ms/step - loss: 0.4341 - accuracy: 0.8383 - val_loss: 0.4515 - val_accuracy: 0.8273\n",
            "Epoch 177/500\n",
            "81/81 [==============================] - 13s 157ms/step - loss: 0.4295 - accuracy: 0.8427 - val_loss: 0.4517 - val_accuracy: 0.8273\n",
            "Epoch 178/500\n",
            "81/81 [==============================] - 13s 157ms/step - loss: 0.4407 - accuracy: 0.8342 - val_loss: 0.4518 - val_accuracy: 0.8273\n",
            "Epoch 179/500\n",
            "81/81 [==============================] - 13s 160ms/step - loss: 0.4312 - accuracy: 0.8420 - val_loss: 0.4513 - val_accuracy: 0.8273\n",
            "Epoch 180/500\n",
            "81/81 [==============================] - 13s 159ms/step - loss: 0.4316 - accuracy: 0.8394 - val_loss: 0.4511 - val_accuracy: 0.8273\n",
            "Epoch 181/500\n",
            "81/81 [==============================] - 13s 160ms/step - loss: 0.4400 - accuracy: 0.8368 - val_loss: 0.4512 - val_accuracy: 0.8273\n",
            "Epoch 182/500\n",
            "81/81 [==============================] - 13s 156ms/step - loss: 0.4291 - accuracy: 0.8420 - val_loss: 0.4517 - val_accuracy: 0.8273\n",
            "Epoch 183/500\n",
            "81/81 [==============================] - 13s 159ms/step - loss: 0.4540 - accuracy: 0.8276 - val_loss: 0.4516 - val_accuracy: 0.8273\n",
            "Epoch 184/500\n",
            "81/81 [==============================] - 13s 158ms/step - loss: 0.4378 - accuracy: 0.8391 - val_loss: 0.4511 - val_accuracy: 0.8273\n",
            "Epoch 185/500\n",
            "81/81 [==============================] - 13s 158ms/step - loss: 0.4239 - accuracy: 0.8451 - val_loss: 0.4512 - val_accuracy: 0.8273\n",
            "Epoch 186/500\n",
            "81/81 [==============================] - 13s 158ms/step - loss: 0.4360 - accuracy: 0.8388 - val_loss: 0.4512 - val_accuracy: 0.8273\n",
            "Epoch 187/500\n",
            "81/81 [==============================] - 13s 159ms/step - loss: 0.4398 - accuracy: 0.8355 - val_loss: 0.4509 - val_accuracy: 0.8273\n",
            "Epoch 188/500\n",
            "81/81 [==============================] - 13s 157ms/step - loss: 0.4482 - accuracy: 0.8303 - val_loss: 0.4511 - val_accuracy: 0.8273\n",
            "Epoch 189/500\n",
            "81/81 [==============================] - 13s 158ms/step - loss: 0.4402 - accuracy: 0.8350 - val_loss: 0.4511 - val_accuracy: 0.8273\n",
            "Epoch 190/500\n",
            "81/81 [==============================] - 13s 159ms/step - loss: 0.4268 - accuracy: 0.8437 - val_loss: 0.4512 - val_accuracy: 0.8273\n",
            "Epoch 191/500\n",
            "81/81 [==============================] - 13s 157ms/step - loss: 0.4327 - accuracy: 0.8387 - val_loss: 0.4513 - val_accuracy: 0.8273\n",
            "Epoch 192/500\n",
            "81/81 [==============================] - 13s 155ms/step - loss: 0.4260 - accuracy: 0.8432 - val_loss: 0.4511 - val_accuracy: 0.8273\n",
            "Epoch 193/500\n",
            "81/81 [==============================] - 13s 161ms/step - loss: 0.4492 - accuracy: 0.8308 - val_loss: 0.4511 - val_accuracy: 0.8273\n",
            "Epoch 194/500\n",
            "81/81 [==============================] - 13s 158ms/step - loss: 0.4327 - accuracy: 0.8401 - val_loss: 0.4509 - val_accuracy: 0.8273\n",
            "Epoch 195/500\n",
            "81/81 [==============================] - 13s 158ms/step - loss: 0.4336 - accuracy: 0.8381 - val_loss: 0.4513 - val_accuracy: 0.8273\n",
            "Epoch 196/500\n",
            "81/81 [==============================] - 13s 157ms/step - loss: 0.4354 - accuracy: 0.8379 - val_loss: 0.4512 - val_accuracy: 0.8273\n",
            "Epoch 197/500\n",
            "81/81 [==============================] - 13s 159ms/step - loss: 0.4376 - accuracy: 0.8368 - val_loss: 0.4512 - val_accuracy: 0.8273\n",
            "Epoch 198/500\n",
            "81/81 [==============================] - 13s 158ms/step - loss: 0.4328 - accuracy: 0.8389 - val_loss: 0.4510 - val_accuracy: 0.8273\n",
            "Epoch 199/500\n",
            "81/81 [==============================] - 13s 159ms/step - loss: 0.4320 - accuracy: 0.8399 - val_loss: 0.4516 - val_accuracy: 0.8273\n",
            "Epoch 200/500\n",
            "81/81 [==============================] - 13s 156ms/step - loss: 0.4508 - accuracy: 0.8312 - val_loss: 0.4512 - val_accuracy: 0.8273\n",
            "Epoch 201/500\n",
            "81/81 [==============================] - 13s 156ms/step - loss: 0.4411 - accuracy: 0.8344 - val_loss: 0.4510 - val_accuracy: 0.8273\n",
            "Epoch 202/500\n",
            "81/81 [==============================] - 13s 158ms/step - loss: 0.4338 - accuracy: 0.8404 - val_loss: 0.4506 - val_accuracy: 0.8273\n",
            "Epoch 203/500\n",
            "81/81 [==============================] - 13s 157ms/step - loss: 0.4295 - accuracy: 0.8434 - val_loss: 0.4510 - val_accuracy: 0.8273\n",
            "Epoch 204/500\n",
            "81/81 [==============================] - 13s 159ms/step - loss: 0.4420 - accuracy: 0.8342 - val_loss: 0.4511 - val_accuracy: 0.8273\n",
            "Epoch 205/500\n",
            "81/81 [==============================] - 13s 157ms/step - loss: 0.4480 - accuracy: 0.8307 - val_loss: 0.4513 - val_accuracy: 0.8273\n",
            "Epoch 206/500\n",
            "81/81 [==============================] - 13s 158ms/step - loss: 0.4385 - accuracy: 0.8371 - val_loss: 0.4521 - val_accuracy: 0.8273\n",
            "Epoch 207/500\n",
            "81/81 [==============================] - 13s 159ms/step - loss: 0.4363 - accuracy: 0.8393 - val_loss: 0.4514 - val_accuracy: 0.8273\n",
            "Epoch 208/500\n",
            "81/81 [==============================] - 13s 159ms/step - loss: 0.4368 - accuracy: 0.8389 - val_loss: 0.4515 - val_accuracy: 0.8273\n",
            "Epoch 209/500\n",
            "81/81 [==============================] - 13s 159ms/step - loss: 0.4502 - accuracy: 0.8306 - val_loss: 0.4512 - val_accuracy: 0.8273\n",
            "Epoch 210/500\n",
            "81/81 [==============================] - 13s 156ms/step - loss: 0.4377 - accuracy: 0.8371 - val_loss: 0.4510 - val_accuracy: 0.8273\n",
            "Epoch 211/500\n",
            "81/81 [==============================] - 13s 160ms/step - loss: 0.4327 - accuracy: 0.8403 - val_loss: 0.4512 - val_accuracy: 0.8273\n",
            "Epoch 212/500\n",
            "81/81 [==============================] - 13s 156ms/step - loss: 0.4295 - accuracy: 0.8415 - val_loss: 0.4512 - val_accuracy: 0.8273\n",
            "Epoch 213/500\n",
            "81/81 [==============================] - 13s 159ms/step - loss: 0.4462 - accuracy: 0.8317 - val_loss: 0.4517 - val_accuracy: 0.8273\n",
            "Epoch 214/500\n",
            "81/81 [==============================] - 13s 157ms/step - loss: 0.4371 - accuracy: 0.8377 - val_loss: 0.4511 - val_accuracy: 0.8273\n",
            "Epoch 215/500\n",
            "81/81 [==============================] - 13s 158ms/step - loss: 0.4506 - accuracy: 0.8290 - val_loss: 0.4515 - val_accuracy: 0.8273\n",
            "Epoch 216/500\n",
            "81/81 [==============================] - 13s 160ms/step - loss: 0.4490 - accuracy: 0.8288 - val_loss: 0.4512 - val_accuracy: 0.8273\n",
            "Epoch 217/500\n",
            "81/81 [==============================] - 13s 156ms/step - loss: 0.4465 - accuracy: 0.8299 - val_loss: 0.4513 - val_accuracy: 0.8273\n",
            "Epoch 218/500\n",
            "81/81 [==============================] - 13s 158ms/step - loss: 0.4354 - accuracy: 0.8384 - val_loss: 0.4510 - val_accuracy: 0.8273\n",
            "Epoch 219/500\n",
            "81/81 [==============================] - 13s 157ms/step - loss: 0.4479 - accuracy: 0.8301 - val_loss: 0.4511 - val_accuracy: 0.8273\n",
            "Epoch 220/500\n",
            "81/81 [==============================] - 13s 159ms/step - loss: 0.4433 - accuracy: 0.8344 - val_loss: 0.4512 - val_accuracy: 0.8273\n",
            "Epoch 221/500\n",
            "81/81 [==============================] - 13s 157ms/step - loss: 0.4292 - accuracy: 0.8422 - val_loss: 0.4508 - val_accuracy: 0.8273\n",
            "Epoch 222/500\n",
            "81/81 [==============================] - 13s 158ms/step - loss: 0.4195 - accuracy: 0.8471 - val_loss: 0.4509 - val_accuracy: 0.8273\n",
            "Epoch 223/500\n",
            "81/81 [==============================] - 13s 158ms/step - loss: 0.4335 - accuracy: 0.8407 - val_loss: 0.4512 - val_accuracy: 0.8273\n",
            "Epoch 224/500\n",
            "81/81 [==============================] - 13s 155ms/step - loss: 0.4323 - accuracy: 0.8413 - val_loss: 0.4511 - val_accuracy: 0.8273\n",
            "Epoch 225/500\n",
            "81/81 [==============================] - 13s 157ms/step - loss: 0.4473 - accuracy: 0.8304 - val_loss: 0.4511 - val_accuracy: 0.8273\n",
            "Epoch 226/500\n",
            "81/81 [==============================] - 13s 159ms/step - loss: 0.4443 - accuracy: 0.8324 - val_loss: 0.4509 - val_accuracy: 0.8273\n",
            "Epoch 227/500\n",
            "81/81 [==============================] - 13s 157ms/step - loss: 0.4318 - accuracy: 0.8403 - val_loss: 0.4508 - val_accuracy: 0.8273\n",
            "Epoch 228/500\n",
            "81/81 [==============================] - 13s 159ms/step - loss: 0.4332 - accuracy: 0.8409 - val_loss: 0.4510 - val_accuracy: 0.8273\n",
            "Epoch 229/500\n",
            "81/81 [==============================] - 13s 159ms/step - loss: 0.4351 - accuracy: 0.8388 - val_loss: 0.4509 - val_accuracy: 0.8273\n",
            "Epoch 230/500\n",
            "81/81 [==============================] - 13s 159ms/step - loss: 0.4371 - accuracy: 0.8380 - val_loss: 0.4510 - val_accuracy: 0.8273\n",
            "Epoch 231/500\n",
            "81/81 [==============================] - 13s 158ms/step - loss: 0.4467 - accuracy: 0.8315 - val_loss: 0.4513 - val_accuracy: 0.8273\n",
            "Epoch 232/500\n",
            "81/81 [==============================] - 13s 159ms/step - loss: 0.4333 - accuracy: 0.8386 - val_loss: 0.4516 - val_accuracy: 0.8273\n",
            "Epoch 233/500\n",
            "81/81 [==============================] - 13s 161ms/step - loss: 0.4296 - accuracy: 0.8416 - val_loss: 0.4509 - val_accuracy: 0.8273\n",
            "Epoch 234/500\n",
            "81/81 [==============================] - 13s 161ms/step - loss: 0.4499 - accuracy: 0.8310 - val_loss: 0.4509 - val_accuracy: 0.8273\n",
            "Epoch 235/500\n",
            "81/81 [==============================] - 13s 160ms/step - loss: 0.4417 - accuracy: 0.8334 - val_loss: 0.4510 - val_accuracy: 0.8273\n",
            "Epoch 236/500\n",
            "81/81 [==============================] - 13s 160ms/step - loss: 0.4463 - accuracy: 0.8337 - val_loss: 0.4511 - val_accuracy: 0.8273\n",
            "Epoch 237/500\n",
            "81/81 [==============================] - 13s 158ms/step - loss: 0.4232 - accuracy: 0.8458 - val_loss: 0.4515 - val_accuracy: 0.8273\n",
            "Epoch 238/500\n",
            "81/81 [==============================] - 13s 159ms/step - loss: 0.4247 - accuracy: 0.8447 - val_loss: 0.4515 - val_accuracy: 0.8273\n",
            "Epoch 239/500\n",
            "81/81 [==============================] - 13s 158ms/step - loss: 0.4454 - accuracy: 0.8337 - val_loss: 0.4514 - val_accuracy: 0.8273\n",
            "Epoch 240/500\n",
            "81/81 [==============================] - 13s 160ms/step - loss: 0.4364 - accuracy: 0.8359 - val_loss: 0.4515 - val_accuracy: 0.8273\n",
            "Epoch 241/500\n",
            "81/81 [==============================] - 13s 158ms/step - loss: 0.4175 - accuracy: 0.8490 - val_loss: 0.4514 - val_accuracy: 0.8273\n",
            "Epoch 242/500\n",
            "81/81 [==============================] - 13s 160ms/step - loss: 0.4495 - accuracy: 0.8287 - val_loss: 0.4514 - val_accuracy: 0.8273\n",
            "Epoch 243/500\n",
            "81/81 [==============================] - 13s 158ms/step - loss: 0.4436 - accuracy: 0.8341 - val_loss: 0.4513 - val_accuracy: 0.8273\n",
            "Epoch 244/500\n",
            "81/81 [==============================] - 13s 160ms/step - loss: 0.4260 - accuracy: 0.8445 - val_loss: 0.4509 - val_accuracy: 0.8273\n",
            "Epoch 245/500\n",
            "81/81 [==============================] - 13s 158ms/step - loss: 0.4378 - accuracy: 0.8363 - val_loss: 0.4511 - val_accuracy: 0.8273\n",
            "Epoch 246/500\n",
            "81/81 [==============================] - 13s 159ms/step - loss: 0.4328 - accuracy: 0.8406 - val_loss: 0.4509 - val_accuracy: 0.8273\n",
            "Epoch 247/500\n",
            "81/81 [==============================] - 13s 159ms/step - loss: 0.4325 - accuracy: 0.8410 - val_loss: 0.4509 - val_accuracy: 0.8273\n",
            "Epoch 248/500\n",
            "81/81 [==============================] - 13s 159ms/step - loss: 0.4463 - accuracy: 0.8320 - val_loss: 0.4512 - val_accuracy: 0.8273\n",
            "Epoch 249/500\n",
            "81/81 [==============================] - 13s 160ms/step - loss: 0.4482 - accuracy: 0.8306 - val_loss: 0.4514 - val_accuracy: 0.8273\n",
            "Epoch 250/500\n",
            "81/81 [==============================] - 13s 159ms/step - loss: 0.4196 - accuracy: 0.8477 - val_loss: 0.4509 - val_accuracy: 0.8273\n",
            "Epoch 251/500\n",
            "81/81 [==============================] - 13s 161ms/step - loss: 0.4357 - accuracy: 0.8410 - val_loss: 0.4512 - val_accuracy: 0.8273\n",
            "Epoch 252/500\n",
            "81/81 [==============================] - 13s 160ms/step - loss: 0.4530 - accuracy: 0.8268 - val_loss: 0.4511 - val_accuracy: 0.8273\n",
            "Epoch 253/500\n",
            "81/81 [==============================] - 13s 161ms/step - loss: 0.4385 - accuracy: 0.8363 - val_loss: 0.4509 - val_accuracy: 0.8273\n",
            "Epoch 254/500\n",
            "81/81 [==============================] - 13s 156ms/step - loss: 0.4195 - accuracy: 0.8481 - val_loss: 0.4513 - val_accuracy: 0.8273\n",
            "Epoch 255/500\n",
            "81/81 [==============================] - 13s 159ms/step - loss: 0.4208 - accuracy: 0.8462 - val_loss: 0.4517 - val_accuracy: 0.8273\n",
            "Epoch 256/500\n",
            "81/81 [==============================] - 13s 157ms/step - loss: 0.4495 - accuracy: 0.8290 - val_loss: 0.4514 - val_accuracy: 0.8273\n",
            "Epoch 257/500\n",
            "81/81 [==============================] - 13s 159ms/step - loss: 0.4443 - accuracy: 0.8300 - val_loss: 0.4511 - val_accuracy: 0.8273\n",
            "Epoch 258/500\n",
            "81/81 [==============================] - 13s 161ms/step - loss: 0.4363 - accuracy: 0.8364 - val_loss: 0.4509 - val_accuracy: 0.8273\n",
            "Epoch 259/500\n",
            "81/81 [==============================] - 13s 162ms/step - loss: 0.4371 - accuracy: 0.8357 - val_loss: 0.4510 - val_accuracy: 0.8273\n",
            "Epoch 260/500\n",
            "81/81 [==============================] - 13s 158ms/step - loss: 0.4372 - accuracy: 0.8365 - val_loss: 0.4515 - val_accuracy: 0.8273\n",
            "Epoch 261/500\n",
            "81/81 [==============================] - 13s 160ms/step - loss: 0.4297 - accuracy: 0.8420 - val_loss: 0.4517 - val_accuracy: 0.8273\n",
            "Epoch 262/500\n",
            "81/81 [==============================] - 13s 159ms/step - loss: 0.4314 - accuracy: 0.8401 - val_loss: 0.4514 - val_accuracy: 0.8273\n",
            "Epoch 263/500\n",
            "81/81 [==============================] - 13s 157ms/step - loss: 0.4323 - accuracy: 0.8414 - val_loss: 0.4510 - val_accuracy: 0.8273\n",
            "Epoch 264/500\n",
            "81/81 [==============================] - 13s 159ms/step - loss: 0.4446 - accuracy: 0.8348 - val_loss: 0.4513 - val_accuracy: 0.8273\n",
            "Epoch 265/500\n",
            "81/81 [==============================] - 13s 159ms/step - loss: 0.4261 - accuracy: 0.8442 - val_loss: 0.4516 - val_accuracy: 0.8273\n",
            "Epoch 266/500\n",
            "81/81 [==============================] - 13s 159ms/step - loss: 0.4559 - accuracy: 0.8222 - val_loss: 0.4516 - val_accuracy: 0.8273\n",
            "Epoch 267/500\n",
            "81/81 [==============================] - 13s 160ms/step - loss: 0.4387 - accuracy: 0.8356 - val_loss: 0.4514 - val_accuracy: 0.8273\n",
            "Epoch 268/500\n",
            "81/81 [==============================] - 13s 160ms/step - loss: 0.4249 - accuracy: 0.8439 - val_loss: 0.4518 - val_accuracy: 0.8273\n",
            "Epoch 269/500\n",
            "81/81 [==============================] - 13s 158ms/step - loss: 0.4521 - accuracy: 0.8292 - val_loss: 0.4514 - val_accuracy: 0.8273\n",
            "Epoch 270/500\n",
            "81/81 [==============================] - 13s 157ms/step - loss: 0.4446 - accuracy: 0.8321 - val_loss: 0.4515 - val_accuracy: 0.8273\n",
            "Epoch 271/500\n",
            "81/81 [==============================] - 13s 159ms/step - loss: 0.4571 - accuracy: 0.8250 - val_loss: 0.4514 - val_accuracy: 0.8273\n",
            "Epoch 272/500\n",
            "81/81 [==============================] - 13s 162ms/step - loss: 0.4322 - accuracy: 0.8393 - val_loss: 0.4516 - val_accuracy: 0.8273\n",
            "Epoch 273/500\n",
            "81/81 [==============================] - 13s 157ms/step - loss: 0.4401 - accuracy: 0.8369 - val_loss: 0.4510 - val_accuracy: 0.8273\n",
            "Epoch 274/500\n",
            "81/81 [==============================] - 13s 159ms/step - loss: 0.4254 - accuracy: 0.8463 - val_loss: 0.4509 - val_accuracy: 0.8273\n",
            "Epoch 275/500\n",
            "81/81 [==============================] - 13s 160ms/step - loss: 0.4335 - accuracy: 0.8411 - val_loss: 0.4510 - val_accuracy: 0.8273\n",
            "Epoch 276/500\n",
            "81/81 [==============================] - 13s 159ms/step - loss: 0.4435 - accuracy: 0.8330 - val_loss: 0.4511 - val_accuracy: 0.8273\n",
            "Epoch 277/500\n",
            "81/81 [==============================] - 13s 159ms/step - loss: 0.4406 - accuracy: 0.8378 - val_loss: 0.4512 - val_accuracy: 0.8273\n",
            "Epoch 278/500\n",
            "81/81 [==============================] - 13s 159ms/step - loss: 0.4425 - accuracy: 0.8350 - val_loss: 0.4513 - val_accuracy: 0.8273\n",
            "Epoch 279/500\n",
            "81/81 [==============================] - 13s 160ms/step - loss: 0.4430 - accuracy: 0.8347 - val_loss: 0.4512 - val_accuracy: 0.8273\n",
            "Epoch 280/500\n",
            "81/81 [==============================] - 13s 161ms/step - loss: 0.4196 - accuracy: 0.8478 - val_loss: 0.4514 - val_accuracy: 0.8273\n",
            "Epoch 281/500\n",
            "81/81 [==============================] - 13s 161ms/step - loss: 0.4413 - accuracy: 0.8352 - val_loss: 0.4515 - val_accuracy: 0.8273\n",
            "Epoch 282/500\n",
            "81/81 [==============================] - 13s 160ms/step - loss: 0.4443 - accuracy: 0.8326 - val_loss: 0.4515 - val_accuracy: 0.8273\n",
            "Epoch 283/500\n",
            "81/81 [==============================] - 13s 156ms/step - loss: 0.4276 - accuracy: 0.8441 - val_loss: 0.4512 - val_accuracy: 0.8273\n",
            "Epoch 284/500\n",
            "81/81 [==============================] - 13s 159ms/step - loss: 0.4472 - accuracy: 0.8325 - val_loss: 0.4511 - val_accuracy: 0.8273\n",
            "Epoch 285/500\n",
            "81/81 [==============================] - 13s 161ms/step - loss: 0.4462 - accuracy: 0.8302 - val_loss: 0.4513 - val_accuracy: 0.8273\n",
            "Epoch 286/500\n",
            "81/81 [==============================] - 13s 160ms/step - loss: 0.4386 - accuracy: 0.8350 - val_loss: 0.4513 - val_accuracy: 0.8273\n",
            "Epoch 287/500\n",
            "81/81 [==============================] - 13s 159ms/step - loss: 0.4340 - accuracy: 0.8383 - val_loss: 0.4513 - val_accuracy: 0.8273\n",
            "Epoch 288/500\n",
            "81/81 [==============================] - 13s 159ms/step - loss: 0.4260 - accuracy: 0.8436 - val_loss: 0.4510 - val_accuracy: 0.8273\n",
            "Epoch 289/500\n",
            "81/81 [==============================] - 13s 160ms/step - loss: 0.4574 - accuracy: 0.8252 - val_loss: 0.4511 - val_accuracy: 0.8273\n",
            "Epoch 290/500\n",
            "81/81 [==============================] - 13s 158ms/step - loss: 0.4253 - accuracy: 0.8442 - val_loss: 0.4515 - val_accuracy: 0.8273\n",
            "Epoch 291/500\n",
            "81/81 [==============================] - 13s 159ms/step - loss: 0.4456 - accuracy: 0.8342 - val_loss: 0.4515 - val_accuracy: 0.8273\n",
            "Epoch 292/500\n",
            "81/81 [==============================] - 13s 159ms/step - loss: 0.4540 - accuracy: 0.8259 - val_loss: 0.4511 - val_accuracy: 0.8273\n",
            "Epoch 293/500\n",
            "81/81 [==============================] - 13s 158ms/step - loss: 0.4417 - accuracy: 0.8343 - val_loss: 0.4509 - val_accuracy: 0.8273\n",
            "Epoch 294/500\n",
            "81/81 [==============================] - 13s 161ms/step - loss: 0.4303 - accuracy: 0.8408 - val_loss: 0.4511 - val_accuracy: 0.8273\n",
            "Epoch 295/500\n",
            "81/81 [==============================] - 13s 159ms/step - loss: 0.4363 - accuracy: 0.8373 - val_loss: 0.4509 - val_accuracy: 0.8273\n",
            "Epoch 296/500\n",
            "81/81 [==============================] - 13s 160ms/step - loss: 0.4239 - accuracy: 0.8439 - val_loss: 0.4509 - val_accuracy: 0.8273\n",
            "Epoch 297/500\n",
            "81/81 [==============================] - 13s 157ms/step - loss: 0.4218 - accuracy: 0.8462 - val_loss: 0.4512 - val_accuracy: 0.8273\n",
            "Epoch 298/500\n",
            "81/81 [==============================] - 13s 159ms/step - loss: 0.4341 - accuracy: 0.8380 - val_loss: 0.4512 - val_accuracy: 0.8273\n",
            "Epoch 299/500\n",
            "81/81 [==============================] - 13s 159ms/step - loss: 0.4323 - accuracy: 0.8385 - val_loss: 0.4512 - val_accuracy: 0.8273\n",
            "Epoch 300/500\n",
            "81/81 [==============================] - 13s 159ms/step - loss: 0.4398 - accuracy: 0.8339 - val_loss: 0.4513 - val_accuracy: 0.8273\n",
            "Epoch 301/500\n",
            "81/81 [==============================] - 13s 158ms/step - loss: 0.4269 - accuracy: 0.8435 - val_loss: 0.4512 - val_accuracy: 0.8273\n",
            "Epoch 302/500\n",
            "81/81 [==============================] - 13s 158ms/step - loss: 0.4358 - accuracy: 0.8378 - val_loss: 0.4509 - val_accuracy: 0.8273\n",
            "Epoch 303/500\n",
            "81/81 [==============================] - 13s 160ms/step - loss: 0.4188 - accuracy: 0.8486 - val_loss: 0.4509 - val_accuracy: 0.8273\n",
            "Epoch 304/500\n",
            "81/81 [==============================] - 13s 161ms/step - loss: 0.4518 - accuracy: 0.8301 - val_loss: 0.4510 - val_accuracy: 0.8273\n",
            "Epoch 305/500\n",
            "81/81 [==============================] - 13s 159ms/step - loss: 0.4265 - accuracy: 0.8434 - val_loss: 0.4513 - val_accuracy: 0.8273\n",
            "Epoch 306/500\n",
            "81/81 [==============================] - 13s 160ms/step - loss: 0.4408 - accuracy: 0.8351 - val_loss: 0.4516 - val_accuracy: 0.8273\n",
            "Epoch 307/500\n",
            "81/81 [==============================] - 13s 162ms/step - loss: 0.4380 - accuracy: 0.8377 - val_loss: 0.4511 - val_accuracy: 0.8273\n",
            "Epoch 308/500\n",
            "81/81 [==============================] - 13s 161ms/step - loss: 0.4283 - accuracy: 0.8421 - val_loss: 0.4513 - val_accuracy: 0.8273\n",
            "Epoch 309/500\n",
            "81/81 [==============================] - 13s 158ms/step - loss: 0.4417 - accuracy: 0.8343 - val_loss: 0.4517 - val_accuracy: 0.8273\n",
            "Epoch 310/500\n",
            "81/81 [==============================] - 13s 158ms/step - loss: 0.4403 - accuracy: 0.8358 - val_loss: 0.4514 - val_accuracy: 0.8273\n",
            "Epoch 311/500\n",
            "81/81 [==============================] - 13s 161ms/step - loss: 0.4487 - accuracy: 0.8294 - val_loss: 0.4511 - val_accuracy: 0.8273\n",
            "Epoch 312/500\n",
            "81/81 [==============================] - 13s 159ms/step - loss: 0.4346 - accuracy: 0.8383 - val_loss: 0.4514 - val_accuracy: 0.8273\n",
            "Epoch 313/500\n",
            "81/81 [==============================] - 13s 159ms/step - loss: 0.4444 - accuracy: 0.8349 - val_loss: 0.4511 - val_accuracy: 0.8273\n",
            "Epoch 314/500\n",
            "81/81 [==============================] - 13s 159ms/step - loss: 0.4349 - accuracy: 0.8387 - val_loss: 0.4513 - val_accuracy: 0.8273\n",
            "Epoch 315/500\n",
            "81/81 [==============================] - 13s 159ms/step - loss: 0.4312 - accuracy: 0.8414 - val_loss: 0.4512 - val_accuracy: 0.8273\n",
            "Epoch 316/500\n",
            "81/81 [==============================] - 13s 160ms/step - loss: 0.4315 - accuracy: 0.8415 - val_loss: 0.4508 - val_accuracy: 0.8273\n",
            "Epoch 317/500\n",
            "81/81 [==============================] - 13s 160ms/step - loss: 0.4377 - accuracy: 0.8397 - val_loss: 0.4505 - val_accuracy: 0.8273\n",
            "Epoch 318/500\n",
            "81/81 [==============================] - 13s 158ms/step - loss: 0.4405 - accuracy: 0.8361 - val_loss: 0.4508 - val_accuracy: 0.8273\n",
            "Epoch 319/500\n",
            "81/81 [==============================] - 13s 158ms/step - loss: 0.4453 - accuracy: 0.8326 - val_loss: 0.4511 - val_accuracy: 0.8273\n",
            "Epoch 320/500\n",
            "81/81 [==============================] - 13s 162ms/step - loss: 0.4465 - accuracy: 0.8320 - val_loss: 0.4512 - val_accuracy: 0.8273\n",
            "Epoch 321/500\n",
            "81/81 [==============================] - 13s 160ms/step - loss: 0.4473 - accuracy: 0.8320 - val_loss: 0.4513 - val_accuracy: 0.8273\n",
            "Epoch 322/500\n",
            "81/81 [==============================] - 13s 158ms/step - loss: 0.4391 - accuracy: 0.8365 - val_loss: 0.4514 - val_accuracy: 0.8273\n",
            "Epoch 323/500\n",
            "81/81 [==============================] - 13s 161ms/step - loss: 0.4393 - accuracy: 0.8348 - val_loss: 0.4512 - val_accuracy: 0.8273\n",
            "Epoch 324/500\n",
            "81/81 [==============================] - 13s 161ms/step - loss: 0.4390 - accuracy: 0.8355 - val_loss: 0.4515 - val_accuracy: 0.8273\n",
            "Epoch 325/500\n",
            "81/81 [==============================] - 13s 161ms/step - loss: 0.4357 - accuracy: 0.8383 - val_loss: 0.4511 - val_accuracy: 0.8273\n",
            "Epoch 326/500\n",
            "81/81 [==============================] - 13s 161ms/step - loss: 0.4321 - accuracy: 0.8387 - val_loss: 0.4513 - val_accuracy: 0.8273\n",
            "Epoch 327/500\n",
            "81/81 [==============================] - 13s 159ms/step - loss: 0.4386 - accuracy: 0.8367 - val_loss: 0.4511 - val_accuracy: 0.8273\n",
            "Epoch 328/500\n",
            "81/81 [==============================] - 13s 162ms/step - loss: 0.4255 - accuracy: 0.8445 - val_loss: 0.4516 - val_accuracy: 0.8273\n",
            "Epoch 329/500\n",
            "81/81 [==============================] - 13s 162ms/step - loss: 0.4439 - accuracy: 0.8343 - val_loss: 0.4514 - val_accuracy: 0.8273\n",
            "Epoch 330/500\n",
            "81/81 [==============================] - 13s 160ms/step - loss: 0.4349 - accuracy: 0.8397 - val_loss: 0.4512 - val_accuracy: 0.8273\n",
            "Epoch 331/500\n",
            "81/81 [==============================] - 13s 157ms/step - loss: 0.4450 - accuracy: 0.8313 - val_loss: 0.4511 - val_accuracy: 0.8273\n",
            "Epoch 332/500\n",
            "81/81 [==============================] - 13s 161ms/step - loss: 0.4288 - accuracy: 0.8435 - val_loss: 0.4508 - val_accuracy: 0.8273\n",
            "Epoch 333/500\n",
            "81/81 [==============================] - 13s 161ms/step - loss: 0.4423 - accuracy: 0.8350 - val_loss: 0.4514 - val_accuracy: 0.8273\n",
            "Epoch 334/500\n",
            "81/81 [==============================] - 13s 163ms/step - loss: 0.4251 - accuracy: 0.8452 - val_loss: 0.4511 - val_accuracy: 0.8273\n",
            "Epoch 335/500\n",
            "81/81 [==============================] - 13s 159ms/step - loss: 0.4379 - accuracy: 0.8375 - val_loss: 0.4512 - val_accuracy: 0.8273\n",
            "Epoch 336/500\n",
            "81/81 [==============================] - 13s 158ms/step - loss: 0.4265 - accuracy: 0.8445 - val_loss: 0.4511 - val_accuracy: 0.8273\n",
            "Epoch 337/500\n",
            "81/81 [==============================] - 13s 160ms/step - loss: 0.4406 - accuracy: 0.8334 - val_loss: 0.4517 - val_accuracy: 0.8273\n",
            "Epoch 338/500\n",
            "81/81 [==============================] - 13s 163ms/step - loss: 0.4428 - accuracy: 0.8340 - val_loss: 0.4517 - val_accuracy: 0.8273\n",
            "Epoch 339/500\n",
            "81/81 [==============================] - 13s 159ms/step - loss: 0.4369 - accuracy: 0.8358 - val_loss: 0.4514 - val_accuracy: 0.8273\n",
            "Epoch 340/500\n",
            "81/81 [==============================] - 13s 159ms/step - loss: 0.4528 - accuracy: 0.8274 - val_loss: 0.4513 - val_accuracy: 0.8273\n",
            "Epoch 341/500\n",
            "81/81 [==============================] - 13s 161ms/step - loss: 0.4375 - accuracy: 0.8358 - val_loss: 0.4512 - val_accuracy: 0.8273\n",
            "Epoch 342/500\n",
            "81/81 [==============================] - 13s 162ms/step - loss: 0.4446 - accuracy: 0.8325 - val_loss: 0.4510 - val_accuracy: 0.8273\n",
            "Epoch 343/500\n",
            "81/81 [==============================] - 13s 159ms/step - loss: 0.4514 - accuracy: 0.8272 - val_loss: 0.4507 - val_accuracy: 0.8273\n",
            "Epoch 344/500\n",
            "81/81 [==============================] - 13s 158ms/step - loss: 0.4405 - accuracy: 0.8342 - val_loss: 0.4511 - val_accuracy: 0.8273\n",
            "Epoch 345/500\n",
            "81/81 [==============================] - 13s 163ms/step - loss: 0.4459 - accuracy: 0.8332 - val_loss: 0.4510 - val_accuracy: 0.8273\n",
            "Epoch 346/500\n",
            "81/81 [==============================] - 13s 162ms/step - loss: 0.4475 - accuracy: 0.8317 - val_loss: 0.4509 - val_accuracy: 0.8273\n",
            "Epoch 347/500\n",
            "81/81 [==============================] - 13s 159ms/step - loss: 0.4264 - accuracy: 0.8424 - val_loss: 0.4512 - val_accuracy: 0.8273\n",
            "Epoch 348/500\n",
            "81/81 [==============================] - 13s 160ms/step - loss: 0.4494 - accuracy: 0.8282 - val_loss: 0.4517 - val_accuracy: 0.8273\n",
            "Epoch 349/500\n",
            "81/81 [==============================] - 13s 162ms/step - loss: 0.4289 - accuracy: 0.8438 - val_loss: 0.4511 - val_accuracy: 0.8273\n",
            "Epoch 350/500\n",
            "81/81 [==============================] - 13s 162ms/step - loss: 0.4410 - accuracy: 0.8348 - val_loss: 0.4516 - val_accuracy: 0.8273\n",
            "Epoch 351/500\n",
            "81/81 [==============================] - 13s 160ms/step - loss: 0.4411 - accuracy: 0.8345 - val_loss: 0.4514 - val_accuracy: 0.8273\n",
            "Epoch 352/500\n",
            "81/81 [==============================] - 13s 159ms/step - loss: 0.4319 - accuracy: 0.8404 - val_loss: 0.4510 - val_accuracy: 0.8273\n",
            "Epoch 353/500\n",
            "81/81 [==============================] - 13s 160ms/step - loss: 0.4280 - accuracy: 0.8431 - val_loss: 0.4513 - val_accuracy: 0.8273\n",
            "Epoch 354/500\n",
            "81/81 [==============================] - 13s 161ms/step - loss: 0.4480 - accuracy: 0.8289 - val_loss: 0.4513 - val_accuracy: 0.8273\n",
            "Epoch 355/500\n",
            "81/81 [==============================] - 13s 163ms/step - loss: 0.4373 - accuracy: 0.8377 - val_loss: 0.4511 - val_accuracy: 0.8273\n",
            "Epoch 356/500\n",
            "81/81 [==============================] - 13s 160ms/step - loss: 0.4316 - accuracy: 0.8428 - val_loss: 0.4512 - val_accuracy: 0.8273\n",
            "Epoch 357/500\n",
            "81/81 [==============================] - 13s 160ms/step - loss: 0.4511 - accuracy: 0.8290 - val_loss: 0.4509 - val_accuracy: 0.8273\n",
            "Epoch 358/500\n",
            "81/81 [==============================] - 13s 162ms/step - loss: 0.4245 - accuracy: 0.8450 - val_loss: 0.4509 - val_accuracy: 0.8273\n",
            "Epoch 359/500\n",
            "81/81 [==============================] - 13s 163ms/step - loss: 0.4234 - accuracy: 0.8448 - val_loss: 0.4509 - val_accuracy: 0.8273\n",
            "Epoch 360/500\n",
            "81/81 [==============================] - 13s 162ms/step - loss: 0.4363 - accuracy: 0.8369 - val_loss: 0.4508 - val_accuracy: 0.8273\n",
            "Epoch 361/500\n",
            "81/81 [==============================] - 13s 160ms/step - loss: 0.4389 - accuracy: 0.8358 - val_loss: 0.4510 - val_accuracy: 0.8273\n",
            "Epoch 362/500\n",
            "81/81 [==============================] - 13s 158ms/step - loss: 0.4448 - accuracy: 0.8327 - val_loss: 0.4510 - val_accuracy: 0.8273\n",
            "Epoch 363/500\n",
            "81/81 [==============================] - 13s 161ms/step - loss: 0.4275 - accuracy: 0.8423 - val_loss: 0.4510 - val_accuracy: 0.8273\n",
            "Epoch 364/500\n",
            "81/81 [==============================] - 13s 161ms/step - loss: 0.4368 - accuracy: 0.8385 - val_loss: 0.4513 - val_accuracy: 0.8273\n",
            "Epoch 365/500\n",
            "81/81 [==============================] - 13s 158ms/step - loss: 0.4369 - accuracy: 0.8389 - val_loss: 0.4513 - val_accuracy: 0.8273\n",
            "Epoch 366/500\n",
            "81/81 [==============================] - 13s 159ms/step - loss: 0.4421 - accuracy: 0.8328 - val_loss: 0.4512 - val_accuracy: 0.8273\n",
            "Epoch 367/500\n",
            "81/81 [==============================] - 13s 162ms/step - loss: 0.4233 - accuracy: 0.8451 - val_loss: 0.4509 - val_accuracy: 0.8273\n",
            "Epoch 368/500\n",
            "81/81 [==============================] - 13s 163ms/step - loss: 0.4252 - accuracy: 0.8447 - val_loss: 0.4511 - val_accuracy: 0.8273\n",
            "Epoch 369/500\n",
            "81/81 [==============================] - 13s 160ms/step - loss: 0.4342 - accuracy: 0.8384 - val_loss: 0.4514 - val_accuracy: 0.8273\n",
            "Epoch 370/500\n",
            "81/81 [==============================] - 13s 160ms/step - loss: 0.4505 - accuracy: 0.8278 - val_loss: 0.4510 - val_accuracy: 0.8273\n",
            "Epoch 371/500\n",
            "81/81 [==============================] - 13s 162ms/step - loss: 0.4363 - accuracy: 0.8385 - val_loss: 0.4514 - val_accuracy: 0.8273\n",
            "Epoch 372/500\n",
            "81/81 [==============================] - 13s 161ms/step - loss: 0.4354 - accuracy: 0.8359 - val_loss: 0.4511 - val_accuracy: 0.8273\n",
            "Epoch 373/500\n",
            "81/81 [==============================] - 13s 160ms/step - loss: 0.4403 - accuracy: 0.8349 - val_loss: 0.4509 - val_accuracy: 0.8273\n",
            "Epoch 374/500\n",
            "81/81 [==============================] - 13s 161ms/step - loss: 0.4252 - accuracy: 0.8453 - val_loss: 0.4511 - val_accuracy: 0.8273\n",
            "Epoch 375/500\n",
            "81/81 [==============================] - 13s 160ms/step - loss: 0.4348 - accuracy: 0.8386 - val_loss: 0.4512 - val_accuracy: 0.8273\n",
            "Epoch 376/500\n",
            "81/81 [==============================] - 13s 162ms/step - loss: 0.4558 - accuracy: 0.8269 - val_loss: 0.4509 - val_accuracy: 0.8273\n",
            "Epoch 377/500\n",
            "81/81 [==============================] - 13s 163ms/step - loss: 0.4296 - accuracy: 0.8431 - val_loss: 0.4512 - val_accuracy: 0.8273\n",
            "Epoch 378/500\n",
            "81/81 [==============================] - 13s 161ms/step - loss: 0.4320 - accuracy: 0.8395 - val_loss: 0.4510 - val_accuracy: 0.8273\n",
            "Epoch 379/500\n",
            "81/81 [==============================] - 13s 158ms/step - loss: 0.4449 - accuracy: 0.8339 - val_loss: 0.4510 - val_accuracy: 0.8273\n",
            "Epoch 380/500\n",
            "81/81 [==============================] - 13s 158ms/step - loss: 0.4292 - accuracy: 0.8411 - val_loss: 0.4510 - val_accuracy: 0.8273\n",
            "Epoch 381/500\n",
            "81/81 [==============================] - 13s 162ms/step - loss: 0.4395 - accuracy: 0.8361 - val_loss: 0.4513 - val_accuracy: 0.8273\n",
            "Epoch 382/500\n",
            "81/81 [==============================] - 13s 160ms/step - loss: 0.4334 - accuracy: 0.8386 - val_loss: 0.4513 - val_accuracy: 0.8273\n",
            "Epoch 383/500\n",
            "81/81 [==============================] - 13s 160ms/step - loss: 0.4376 - accuracy: 0.8364 - val_loss: 0.4515 - val_accuracy: 0.8273\n",
            "Epoch 384/500\n",
            "81/81 [==============================] - 13s 158ms/step - loss: 0.4316 - accuracy: 0.8405 - val_loss: 0.4514 - val_accuracy: 0.8273\n",
            "Epoch 385/500\n",
            "81/81 [==============================] - 13s 161ms/step - loss: 0.4470 - accuracy: 0.8307 - val_loss: 0.4507 - val_accuracy: 0.8273\n",
            "Epoch 386/500\n",
            "81/81 [==============================] - 13s 162ms/step - loss: 0.4460 - accuracy: 0.8314 - val_loss: 0.4512 - val_accuracy: 0.8273\n",
            "Epoch 387/500\n",
            "81/81 [==============================] - 13s 161ms/step - loss: 0.4372 - accuracy: 0.8381 - val_loss: 0.4507 - val_accuracy: 0.8273\n",
            "Epoch 388/500\n",
            "81/81 [==============================] - 13s 159ms/step - loss: 0.4515 - accuracy: 0.8293 - val_loss: 0.4517 - val_accuracy: 0.8273\n",
            "Epoch 389/500\n",
            "81/81 [==============================] - 13s 159ms/step - loss: 0.4480 - accuracy: 0.8314 - val_loss: 0.4518 - val_accuracy: 0.8273\n",
            "Epoch 390/500\n",
            "81/81 [==============================] - 13s 162ms/step - loss: 0.4341 - accuracy: 0.8386 - val_loss: 0.4513 - val_accuracy: 0.8273\n",
            "Epoch 391/500\n",
            "81/81 [==============================] - 13s 161ms/step - loss: 0.4513 - accuracy: 0.8289 - val_loss: 0.4509 - val_accuracy: 0.8273\n",
            "Epoch 392/500\n",
            "81/81 [==============================] - 13s 159ms/step - loss: 0.4334 - accuracy: 0.8399 - val_loss: 0.4511 - val_accuracy: 0.8273\n",
            "Epoch 393/500\n",
            "81/81 [==============================] - 13s 163ms/step - loss: 0.4298 - accuracy: 0.8401 - val_loss: 0.4513 - val_accuracy: 0.8273\n",
            "Epoch 394/500\n",
            "81/81 [==============================] - 13s 160ms/step - loss: 0.4442 - accuracy: 0.8339 - val_loss: 0.4512 - val_accuracy: 0.8273\n",
            "Epoch 395/500\n",
            "81/81 [==============================] - 13s 162ms/step - loss: 0.4318 - accuracy: 0.8414 - val_loss: 0.4511 - val_accuracy: 0.8273\n",
            "Epoch 396/500\n",
            "81/81 [==============================] - 13s 163ms/step - loss: 0.4409 - accuracy: 0.8344 - val_loss: 0.4511 - val_accuracy: 0.8273\n",
            "Epoch 397/500\n",
            "81/81 [==============================] - 13s 160ms/step - loss: 0.4351 - accuracy: 0.8381 - val_loss: 0.4511 - val_accuracy: 0.8273\n",
            "Epoch 398/500\n",
            "81/81 [==============================] - 13s 162ms/step - loss: 0.4621 - accuracy: 0.8234 - val_loss: 0.4510 - val_accuracy: 0.8273\n",
            "Epoch 399/500\n",
            "81/81 [==============================] - 13s 160ms/step - loss: 0.4290 - accuracy: 0.8427 - val_loss: 0.4512 - val_accuracy: 0.8273\n",
            "Epoch 400/500\n",
            "81/81 [==============================] - 13s 161ms/step - loss: 0.4369 - accuracy: 0.8371 - val_loss: 0.4511 - val_accuracy: 0.8273\n",
            "Epoch 401/500\n",
            "81/81 [==============================] - 13s 159ms/step - loss: 0.4274 - accuracy: 0.8418 - val_loss: 0.4513 - val_accuracy: 0.8273\n",
            "Epoch 402/500\n",
            "81/81 [==============================] - 13s 159ms/step - loss: 0.4373 - accuracy: 0.8373 - val_loss: 0.4517 - val_accuracy: 0.8273\n",
            "Epoch 403/500\n",
            "81/81 [==============================] - 13s 161ms/step - loss: 0.4472 - accuracy: 0.8302 - val_loss: 0.4513 - val_accuracy: 0.8273\n",
            "Epoch 404/500\n",
            "81/81 [==============================] - 13s 163ms/step - loss: 0.4385 - accuracy: 0.8375 - val_loss: 0.4511 - val_accuracy: 0.8273\n",
            "Epoch 405/500\n",
            "81/81 [==============================] - 13s 159ms/step - loss: 0.4594 - accuracy: 0.8238 - val_loss: 0.4513 - val_accuracy: 0.8273\n",
            "Epoch 406/500\n",
            "81/81 [==============================] - 13s 160ms/step - loss: 0.4292 - accuracy: 0.8417 - val_loss: 0.4513 - val_accuracy: 0.8273\n",
            "Epoch 407/500\n",
            "81/81 [==============================] - 13s 161ms/step - loss: 0.4358 - accuracy: 0.8378 - val_loss: 0.4511 - val_accuracy: 0.8273\n",
            "Epoch 408/500\n",
            "81/81 [==============================] - 13s 161ms/step - loss: 0.4451 - accuracy: 0.8317 - val_loss: 0.4508 - val_accuracy: 0.8273\n",
            "Epoch 409/500\n",
            "81/81 [==============================] - 13s 159ms/step - loss: 0.4569 - accuracy: 0.8249 - val_loss: 0.4515 - val_accuracy: 0.8273\n",
            "Epoch 410/500\n",
            "81/81 [==============================] - 13s 162ms/step - loss: 0.4270 - accuracy: 0.8414 - val_loss: 0.4515 - val_accuracy: 0.8273\n",
            "Epoch 411/500\n",
            "81/81 [==============================] - 13s 161ms/step - loss: 0.4528 - accuracy: 0.8284 - val_loss: 0.4510 - val_accuracy: 0.8273\n",
            "Epoch 412/500\n",
            "81/81 [==============================] - 13s 160ms/step - loss: 0.4426 - accuracy: 0.8325 - val_loss: 0.4513 - val_accuracy: 0.8273\n",
            "Epoch 413/500\n",
            "81/81 [==============================] - 13s 160ms/step - loss: 0.4484 - accuracy: 0.8288 - val_loss: 0.4512 - val_accuracy: 0.8273\n",
            "Epoch 414/500\n",
            "81/81 [==============================] - 13s 162ms/step - loss: 0.4373 - accuracy: 0.8356 - val_loss: 0.4511 - val_accuracy: 0.8273\n",
            "Epoch 415/500\n",
            "81/81 [==============================] - 13s 161ms/step - loss: 0.4404 - accuracy: 0.8348 - val_loss: 0.4511 - val_accuracy: 0.8273\n",
            "Epoch 416/500\n",
            "81/81 [==============================] - 13s 162ms/step - loss: 0.4416 - accuracy: 0.8362 - val_loss: 0.4514 - val_accuracy: 0.8273\n",
            "Epoch 417/500\n",
            "81/81 [==============================] - 13s 159ms/step - loss: 0.4459 - accuracy: 0.8311 - val_loss: 0.4513 - val_accuracy: 0.8273\n",
            "Epoch 418/500\n",
            "81/81 [==============================] - 13s 163ms/step - loss: 0.4519 - accuracy: 0.8305 - val_loss: 0.4515 - val_accuracy: 0.8273\n",
            "Epoch 419/500\n",
            "81/81 [==============================] - 13s 161ms/step - loss: 0.4381 - accuracy: 0.8373 - val_loss: 0.4514 - val_accuracy: 0.8273\n",
            "Epoch 420/500\n",
            "81/81 [==============================] - 13s 161ms/step - loss: 0.4396 - accuracy: 0.8340 - val_loss: 0.4511 - val_accuracy: 0.8273\n",
            "Epoch 421/500\n",
            "81/81 [==============================] - 13s 161ms/step - loss: 0.4404 - accuracy: 0.8373 - val_loss: 0.4510 - val_accuracy: 0.8273\n",
            "Epoch 422/500\n",
            "81/81 [==============================] - 13s 158ms/step - loss: 0.4249 - accuracy: 0.8441 - val_loss: 0.4508 - val_accuracy: 0.8273\n",
            "Epoch 423/500\n",
            "81/81 [==============================] - 13s 160ms/step - loss: 0.4278 - accuracy: 0.8422 - val_loss: 0.4513 - val_accuracy: 0.8273\n",
            "Epoch 424/500\n",
            "81/81 [==============================] - 13s 163ms/step - loss: 0.4561 - accuracy: 0.8277 - val_loss: 0.4511 - val_accuracy: 0.8273\n",
            "Epoch 425/500\n",
            "81/81 [==============================] - 13s 162ms/step - loss: 0.4496 - accuracy: 0.8303 - val_loss: 0.4510 - val_accuracy: 0.8273\n",
            "Epoch 426/500\n",
            "81/81 [==============================] - 13s 159ms/step - loss: 0.4460 - accuracy: 0.8312 - val_loss: 0.4512 - val_accuracy: 0.8273\n",
            "Epoch 427/500\n",
            "81/81 [==============================] - 13s 162ms/step - loss: 0.4431 - accuracy: 0.8336 - val_loss: 0.4510 - val_accuracy: 0.8273\n",
            "Epoch 428/500\n",
            "81/81 [==============================] - 13s 161ms/step - loss: 0.4366 - accuracy: 0.8350 - val_loss: 0.4511 - val_accuracy: 0.8273\n",
            "Epoch 429/500\n",
            "81/81 [==============================] - 13s 163ms/step - loss: 0.4414 - accuracy: 0.8358 - val_loss: 0.4510 - val_accuracy: 0.8273\n",
            "Epoch 430/500\n",
            "81/81 [==============================] - 13s 160ms/step - loss: 0.4267 - accuracy: 0.8439 - val_loss: 0.4512 - val_accuracy: 0.8273\n",
            "Epoch 431/500\n",
            "81/81 [==============================] - 13s 162ms/step - loss: 0.4388 - accuracy: 0.8359 - val_loss: 0.4513 - val_accuracy: 0.8273\n",
            "Epoch 432/500\n",
            "81/81 [==============================] - 13s 164ms/step - loss: 0.4448 - accuracy: 0.8348 - val_loss: 0.4515 - val_accuracy: 0.8273\n",
            "Epoch 433/500\n",
            "81/81 [==============================] - 13s 164ms/step - loss: 0.4345 - accuracy: 0.8369 - val_loss: 0.4510 - val_accuracy: 0.8273\n",
            "Epoch 434/500\n",
            "81/81 [==============================] - 13s 162ms/step - loss: 0.4274 - accuracy: 0.8425 - val_loss: 0.4514 - val_accuracy: 0.8273\n",
            "Epoch 435/500\n",
            "81/81 [==============================] - 13s 160ms/step - loss: 0.4444 - accuracy: 0.8325 - val_loss: 0.4512 - val_accuracy: 0.8273\n",
            "Epoch 436/500\n",
            "81/81 [==============================] - 13s 162ms/step - loss: 0.4340 - accuracy: 0.8404 - val_loss: 0.4515 - val_accuracy: 0.8273\n",
            "Epoch 437/500\n",
            "81/81 [==============================] - 13s 162ms/step - loss: 0.4303 - accuracy: 0.8424 - val_loss: 0.4514 - val_accuracy: 0.8273\n",
            "Epoch 438/500\n",
            "81/81 [==============================] - 13s 160ms/step - loss: 0.4523 - accuracy: 0.8283 - val_loss: 0.4508 - val_accuracy: 0.8273\n",
            "Epoch 439/500\n",
            "81/81 [==============================] - 13s 159ms/step - loss: 0.4494 - accuracy: 0.8288 - val_loss: 0.4512 - val_accuracy: 0.8273\n",
            "Epoch 440/500\n",
            "81/81 [==============================] - 13s 164ms/step - loss: 0.4278 - accuracy: 0.8415 - val_loss: 0.4513 - val_accuracy: 0.8273\n",
            "Epoch 441/500\n",
            "81/81 [==============================] - 13s 163ms/step - loss: 0.4350 - accuracy: 0.8396 - val_loss: 0.4512 - val_accuracy: 0.8273\n",
            "Epoch 442/500\n",
            "81/81 [==============================] - 13s 163ms/step - loss: 0.4377 - accuracy: 0.8373 - val_loss: 0.4512 - val_accuracy: 0.8273\n",
            "Epoch 443/500\n",
            "81/81 [==============================] - 13s 160ms/step - loss: 0.4388 - accuracy: 0.8356 - val_loss: 0.4513 - val_accuracy: 0.8273\n",
            "Epoch 444/500\n",
            "81/81 [==============================] - 13s 161ms/step - loss: 0.4485 - accuracy: 0.8324 - val_loss: 0.4510 - val_accuracy: 0.8273\n",
            "Epoch 445/500\n",
            "81/81 [==============================] - 13s 162ms/step - loss: 0.4384 - accuracy: 0.8352 - val_loss: 0.4513 - val_accuracy: 0.8273\n",
            "Epoch 446/500\n",
            "81/81 [==============================] - 13s 162ms/step - loss: 0.4404 - accuracy: 0.8359 - val_loss: 0.4510 - val_accuracy: 0.8273\n",
            "Epoch 447/500\n",
            "81/81 [==============================] - 13s 161ms/step - loss: 0.4432 - accuracy: 0.8327 - val_loss: 0.4514 - val_accuracy: 0.8273\n",
            "Epoch 448/500\n",
            "81/81 [==============================] - 13s 161ms/step - loss: 0.4479 - accuracy: 0.8328 - val_loss: 0.4513 - val_accuracy: 0.8273\n",
            "Epoch 449/500\n",
            "81/81 [==============================] - 13s 165ms/step - loss: 0.4373 - accuracy: 0.8370 - val_loss: 0.4512 - val_accuracy: 0.8273\n",
            "Epoch 450/500\n",
            "81/81 [==============================] - 13s 161ms/step - loss: 0.4334 - accuracy: 0.8390 - val_loss: 0.4516 - val_accuracy: 0.8273\n",
            "Epoch 451/500\n",
            "81/81 [==============================] - 13s 161ms/step - loss: 0.4393 - accuracy: 0.8363 - val_loss: 0.4517 - val_accuracy: 0.8273\n",
            "Epoch 452/500\n",
            "81/81 [==============================] - 13s 162ms/step - loss: 0.4485 - accuracy: 0.8308 - val_loss: 0.4512 - val_accuracy: 0.8273\n",
            "Epoch 453/500\n",
            "81/81 [==============================] - 13s 162ms/step - loss: 0.4286 - accuracy: 0.8417 - val_loss: 0.4514 - val_accuracy: 0.8273\n",
            "Epoch 454/500\n",
            "81/81 [==============================] - 13s 161ms/step - loss: 0.4317 - accuracy: 0.8419 - val_loss: 0.4511 - val_accuracy: 0.8273\n",
            "Epoch 455/500\n",
            "81/81 [==============================] - 13s 163ms/step - loss: 0.4304 - accuracy: 0.8413 - val_loss: 0.4508 - val_accuracy: 0.8273\n",
            "Epoch 456/500\n",
            "81/81 [==============================] - 13s 163ms/step - loss: 0.4543 - accuracy: 0.8272 - val_loss: 0.4511 - val_accuracy: 0.8273\n",
            "Epoch 457/500\n",
            "81/81 [==============================] - 13s 160ms/step - loss: 0.4368 - accuracy: 0.8370 - val_loss: 0.4513 - val_accuracy: 0.8273\n",
            "Epoch 458/500\n",
            "81/81 [==============================] - 13s 160ms/step - loss: 0.4224 - accuracy: 0.8466 - val_loss: 0.4513 - val_accuracy: 0.8273\n",
            "Epoch 459/500\n",
            "81/81 [==============================] - 13s 161ms/step - loss: 0.4334 - accuracy: 0.8403 - val_loss: 0.4512 - val_accuracy: 0.8273\n",
            "Epoch 460/500\n",
            "81/81 [==============================] - 13s 163ms/step - loss: 0.4189 - accuracy: 0.8471 - val_loss: 0.4513 - val_accuracy: 0.8273\n",
            "Epoch 461/500\n",
            "81/81 [==============================] - 13s 160ms/step - loss: 0.4312 - accuracy: 0.8410 - val_loss: 0.4509 - val_accuracy: 0.8273\n",
            "Epoch 462/500\n",
            "81/81 [==============================] - 13s 163ms/step - loss: 0.4422 - accuracy: 0.8337 - val_loss: 0.4511 - val_accuracy: 0.8273\n",
            "Epoch 463/500\n",
            "81/81 [==============================] - 13s 162ms/step - loss: 0.4367 - accuracy: 0.8388 - val_loss: 0.4511 - val_accuracy: 0.8273\n",
            "Epoch 464/500\n",
            "81/81 [==============================] - 13s 161ms/step - loss: 0.4338 - accuracy: 0.8372 - val_loss: 0.4508 - val_accuracy: 0.8273\n",
            "Epoch 465/500\n",
            "81/81 [==============================] - 13s 161ms/step - loss: 0.4430 - accuracy: 0.8342 - val_loss: 0.4512 - val_accuracy: 0.8273\n",
            "Epoch 466/500\n",
            "81/81 [==============================] - 13s 163ms/step - loss: 0.4318 - accuracy: 0.8409 - val_loss: 0.4513 - val_accuracy: 0.8273\n",
            "Epoch 467/500\n",
            "81/81 [==============================] - 13s 160ms/step - loss: 0.4204 - accuracy: 0.8468 - val_loss: 0.4510 - val_accuracy: 0.8273\n",
            "Epoch 468/500\n",
            "81/81 [==============================] - 13s 163ms/step - loss: 0.4532 - accuracy: 0.8284 - val_loss: 0.4512 - val_accuracy: 0.8273\n",
            "Epoch 469/500\n",
            "81/81 [==============================] - 13s 160ms/step - loss: 0.4391 - accuracy: 0.8359 - val_loss: 0.4514 - val_accuracy: 0.8273\n",
            "Epoch 470/500\n",
            "81/81 [==============================] - 13s 163ms/step - loss: 0.4390 - accuracy: 0.8369 - val_loss: 0.4512 - val_accuracy: 0.8273\n",
            "Epoch 471/500\n",
            "81/81 [==============================] - 13s 161ms/step - loss: 0.4377 - accuracy: 0.8375 - val_loss: 0.4512 - val_accuracy: 0.8273\n",
            "Epoch 472/500\n",
            "81/81 [==============================] - 13s 162ms/step - loss: 0.4407 - accuracy: 0.8355 - val_loss: 0.4512 - val_accuracy: 0.8273\n",
            "Epoch 473/500\n",
            "81/81 [==============================] - 13s 162ms/step - loss: 0.4336 - accuracy: 0.8384 - val_loss: 0.4514 - val_accuracy: 0.8273\n",
            "Epoch 474/500\n",
            "81/81 [==============================] - 13s 159ms/step - loss: 0.4407 - accuracy: 0.8340 - val_loss: 0.4512 - val_accuracy: 0.8273\n",
            "Epoch 475/500\n",
            "81/81 [==============================] - 13s 161ms/step - loss: 0.4401 - accuracy: 0.8348 - val_loss: 0.4512 - val_accuracy: 0.8273\n",
            "Epoch 476/500\n",
            "81/81 [==============================] - 13s 162ms/step - loss: 0.4272 - accuracy: 0.8425 - val_loss: 0.4512 - val_accuracy: 0.8273\n",
            "Epoch 477/500\n",
            "81/81 [==============================] - 13s 161ms/step - loss: 0.4418 - accuracy: 0.8339 - val_loss: 0.4510 - val_accuracy: 0.8273\n",
            "Epoch 478/500\n",
            "81/81 [==============================] - 13s 163ms/step - loss: 0.4240 - accuracy: 0.8474 - val_loss: 0.4513 - val_accuracy: 0.8273\n",
            "Epoch 479/500\n",
            "81/81 [==============================] - 13s 162ms/step - loss: 0.4529 - accuracy: 0.8275 - val_loss: 0.4512 - val_accuracy: 0.8273\n",
            "Epoch 480/500\n",
            "81/81 [==============================] - 13s 159ms/step - loss: 0.4273 - accuracy: 0.8420 - val_loss: 0.4508 - val_accuracy: 0.8273\n",
            "Epoch 481/500\n",
            "81/81 [==============================] - 13s 163ms/step - loss: 0.4485 - accuracy: 0.8290 - val_loss: 0.4510 - val_accuracy: 0.8273\n",
            "Epoch 482/500\n",
            "81/81 [==============================] - 13s 164ms/step - loss: 0.4442 - accuracy: 0.8344 - val_loss: 0.4513 - val_accuracy: 0.8273\n",
            "Epoch 483/500\n",
            "81/81 [==============================] - 13s 160ms/step - loss: 0.4397 - accuracy: 0.8356 - val_loss: 0.4513 - val_accuracy: 0.8273\n",
            "Epoch 484/500\n",
            "81/81 [==============================] - 13s 161ms/step - loss: 0.4498 - accuracy: 0.8296 - val_loss: 0.4507 - val_accuracy: 0.8273\n",
            "Epoch 485/500\n",
            "81/81 [==============================] - 13s 161ms/step - loss: 0.4255 - accuracy: 0.8439 - val_loss: 0.4509 - val_accuracy: 0.8273\n",
            "Epoch 486/500\n",
            "81/81 [==============================] - 13s 164ms/step - loss: 0.4501 - accuracy: 0.8303 - val_loss: 0.4514 - val_accuracy: 0.8273\n",
            "Epoch 487/500\n",
            "81/81 [==============================] - 13s 163ms/step - loss: 0.4472 - accuracy: 0.8334 - val_loss: 0.4515 - val_accuracy: 0.8273\n",
            "Epoch 488/500\n",
            "81/81 [==============================] - 13s 162ms/step - loss: 0.4453 - accuracy: 0.8316 - val_loss: 0.4515 - val_accuracy: 0.8273\n",
            "Epoch 489/500\n",
            "81/81 [==============================] - 13s 161ms/step - loss: 0.4315 - accuracy: 0.8420 - val_loss: 0.4513 - val_accuracy: 0.8273\n",
            "Epoch 490/500\n",
            "81/81 [==============================] - 13s 162ms/step - loss: 0.4357 - accuracy: 0.8381 - val_loss: 0.4514 - val_accuracy: 0.8273\n",
            "Epoch 491/500\n",
            "81/81 [==============================] - 13s 162ms/step - loss: 0.4395 - accuracy: 0.8361 - val_loss: 0.4516 - val_accuracy: 0.8273\n",
            "Epoch 492/500\n",
            "81/81 [==============================] - 13s 163ms/step - loss: 0.4347 - accuracy: 0.8386 - val_loss: 0.4515 - val_accuracy: 0.8273\n",
            "Epoch 493/500\n",
            "81/81 [==============================] - 13s 161ms/step - loss: 0.4306 - accuracy: 0.8420 - val_loss: 0.4512 - val_accuracy: 0.8273\n",
            "Epoch 494/500\n",
            "81/81 [==============================] - 13s 160ms/step - loss: 0.4401 - accuracy: 0.8348 - val_loss: 0.4514 - val_accuracy: 0.8273\n",
            "Epoch 495/500\n",
            "81/81 [==============================] - 13s 160ms/step - loss: 0.4369 - accuracy: 0.8372 - val_loss: 0.4514 - val_accuracy: 0.8273\n",
            "Epoch 496/500\n",
            "81/81 [==============================] - 13s 162ms/step - loss: 0.4356 - accuracy: 0.8373 - val_loss: 0.4514 - val_accuracy: 0.8273\n",
            "Epoch 497/500\n",
            "81/81 [==============================] - 13s 162ms/step - loss: 0.4384 - accuracy: 0.8363 - val_loss: 0.4511 - val_accuracy: 0.8273\n",
            "Epoch 498/500\n",
            "81/81 [==============================] - 13s 161ms/step - loss: 0.4307 - accuracy: 0.8413 - val_loss: 0.4511 - val_accuracy: 0.8273\n",
            "Epoch 499/500\n",
            "81/81 [==============================] - 13s 162ms/step - loss: 0.4360 - accuracy: 0.8363 - val_loss: 0.4513 - val_accuracy: 0.8273\n",
            "Epoch 500/500\n",
            "81/81 [==============================] - 13s 163ms/step - loss: 0.4321 - accuracy: 0.8404 - val_loss: 0.4511 - val_accuracy: 0.8273\n",
            "41/41 [==============================] - 1s 34ms/step - loss: 0.4511 - accuracy: 0.8273\n",
            "> 82.729\n"
          ],
          "name": "stdout"
        },
        {
          "output_type": "display_data",
          "data": {
            "image/png": "[encoded data removed]",
            "text/plain": [
              "<Figure size 432x288 with 1 Axes>"
            ]
          },
          "metadata": {
            "tags": [],
            "needs_background": "light"
          }
        }
      ]
    },
    {
      "cell_type": "code",
      "metadata": {
        "id": "cwImNhoIqNf_",
        "colab": {
          "base_uri": "https://localhost:8080/",
          "height": 337
        },
        "outputId": "94b92a8c-cb22-40a2-e882-3374d913d517"
      },
      "source": [
        "model_new_1 = keras.models.load_model(\"classification_deep_conv_model.h5\")"
      ],
      "execution_count": null,
      "outputs": [
        {
          "output_type": "error",
          "ename": "ValueError",
          "evalue": "ignored",
          "traceback": [
            "\u001b[0;31m---------------------------------------------------------------------------\u001b[0m",
            "\u001b[0;31mValueError\u001b[0m                                Traceback (most recent call last)",
            "\u001b[0;32m<ipython-input-69-2ef4b7ffd977>\u001b[0m in \u001b[0;36m<module>\u001b[0;34m()\u001b[0m\n\u001b[0;32m----> 1\u001b[0;31m \u001b[0mmodel_new_1\u001b[0m \u001b[0;34m=\u001b[0m \u001b[0mkeras\u001b[0m\u001b[0;34m.\u001b[0m\u001b[0mmodels\u001b[0m\u001b[0;34m.\u001b[0m\u001b[0mload_model\u001b[0m\u001b[0;34m(\u001b[0m\u001b[0;34m\"classification_deep_conv_model.h5\"\u001b[0m\u001b[0;34m)\u001b[0m\u001b[0;34m\u001b[0m\u001b[0;34m\u001b[0m\u001b[0m\n\u001b[0m",
            "\u001b[0;32m/usr/local/lib/python3.7/dist-packages/keras/saving/save.py\u001b[0m in \u001b[0;36mload_model\u001b[0;34m(filepath, custom_objects, compile, options)\u001b[0m\n\u001b[1;32m    200\u001b[0m             (isinstance(filepath, h5py.File) or h5py.is_hdf5(filepath))):\n\u001b[1;32m    201\u001b[0m           return hdf5_format.load_model_from_hdf5(filepath, custom_objects,\n\u001b[0;32m--> 202\u001b[0;31m                                                   compile)\n\u001b[0m\u001b[1;32m    203\u001b[0m \u001b[0;34m\u001b[0m\u001b[0m\n\u001b[1;32m    204\u001b[0m         \u001b[0mfilepath\u001b[0m \u001b[0;34m=\u001b[0m \u001b[0mpath_to_string\u001b[0m\u001b[0;34m(\u001b[0m\u001b[0mfilepath\u001b[0m\u001b[0;34m)\u001b[0m\u001b[0;34m\u001b[0m\u001b[0;34m\u001b[0m\u001b[0m\n",
            "\u001b[0;32m/usr/local/lib/python3.7/dist-packages/keras/saving/hdf5_format.py\u001b[0m in \u001b[0;36mload_model_from_hdf5\u001b[0;34m(filepath, custom_objects, compile)\u001b[0m\n\u001b[1;32m    179\u001b[0m     \u001b[0mmodel_config\u001b[0m \u001b[0;34m=\u001b[0m \u001b[0mjson_utils\u001b[0m\u001b[0;34m.\u001b[0m\u001b[0mdecode\u001b[0m\u001b[0;34m(\u001b[0m\u001b[0mmodel_config\u001b[0m\u001b[0;34m)\u001b[0m\u001b[0;34m\u001b[0m\u001b[0;34m\u001b[0m\u001b[0m\n\u001b[1;32m    180\u001b[0m     model = model_config_lib.model_from_config(model_config,\n\u001b[0;32m--> 181\u001b[0;31m                                                custom_objects=custom_objects)\n\u001b[0m\u001b[1;32m    182\u001b[0m \u001b[0;34m\u001b[0m\u001b[0m\n\u001b[1;32m    183\u001b[0m     \u001b[0;31m# set weights\u001b[0m\u001b[0;34m\u001b[0m\u001b[0;34m\u001b[0m\u001b[0;34m\u001b[0m\u001b[0m\n",
            "\u001b[0;32m/usr/local/lib/python3.7/dist-packages/keras/saving/model_config.py\u001b[0m in \u001b[0;36mmodel_from_config\u001b[0;34m(config, custom_objects)\u001b[0m\n\u001b[1;32m     57\u001b[0m                     '`Sequential.from_config(config)`?')\n\u001b[1;32m     58\u001b[0m   \u001b[0;32mfrom\u001b[0m \u001b[0mkeras\u001b[0m\u001b[0;34m.\u001b[0m\u001b[0mlayers\u001b[0m \u001b[0;32mimport\u001b[0m \u001b[0mdeserialize\u001b[0m  \u001b[0;31m# pylint: disable=g-import-not-at-top\u001b[0m\u001b[0;34m\u001b[0m\u001b[0;34m\u001b[0m\u001b[0m\n\u001b[0;32m---> 59\u001b[0;31m   \u001b[0;32mreturn\u001b[0m \u001b[0mdeserialize\u001b[0m\u001b[0;34m(\u001b[0m\u001b[0mconfig\u001b[0m\u001b[0;34m,\u001b[0m \u001b[0mcustom_objects\u001b[0m\u001b[0;34m=\u001b[0m\u001b[0mcustom_objects\u001b[0m\u001b[0;34m)\u001b[0m\u001b[0;34m\u001b[0m\u001b[0;34m\u001b[0m\u001b[0m\n\u001b[0m\u001b[1;32m     60\u001b[0m \u001b[0;34m\u001b[0m\u001b[0m\n\u001b[1;32m     61\u001b[0m \u001b[0;34m\u001b[0m\u001b[0m\n",
            "\u001b[0;32m/usr/local/lib/python3.7/dist-packages/keras/layers/serialization.py\u001b[0m in \u001b[0;36mdeserialize\u001b[0;34m(config, custom_objects)\u001b[0m\n\u001b[1;32m    161\u001b[0m       \u001b[0mmodule_objects\u001b[0m\u001b[0;34m=\u001b[0m\u001b[0mLOCAL\u001b[0m\u001b[0;34m.\u001b[0m\u001b[0mALL_OBJECTS\u001b[0m\u001b[0;34m,\u001b[0m\u001b[0;34m\u001b[0m\u001b[0;34m\u001b[0m\u001b[0m\n\u001b[1;32m    162\u001b[0m       \u001b[0mcustom_objects\u001b[0m\u001b[0;34m=\u001b[0m\u001b[0mcustom_objects\u001b[0m\u001b[0;34m,\u001b[0m\u001b[0;34m\u001b[0m\u001b[0;34m\u001b[0m\u001b[0m\n\u001b[0;32m--> 163\u001b[0;31m       printable_module_name='layer')\n\u001b[0m",
            "\u001b[0;32m/usr/local/lib/python3.7/dist-packages/keras/utils/generic_utils.py\u001b[0m in \u001b[0;36mdeserialize_keras_object\u001b[0;34m(identifier, module_objects, custom_objects, printable_module_name)\u001b[0m\n\u001b[1;32m    670\u001b[0m             custom_objects=dict(\n\u001b[1;32m    671\u001b[0m                 \u001b[0mlist\u001b[0m\u001b[0;34m(\u001b[0m\u001b[0m_GLOBAL_CUSTOM_OBJECTS\u001b[0m\u001b[0;34m.\u001b[0m\u001b[0mitems\u001b[0m\u001b[0;34m(\u001b[0m\u001b[0;34m)\u001b[0m\u001b[0;34m)\u001b[0m \u001b[0;34m+\u001b[0m\u001b[0;34m\u001b[0m\u001b[0;34m\u001b[0m\u001b[0m\n\u001b[0;32m--> 672\u001b[0;31m                 list(custom_objects.items())))\n\u001b[0m\u001b[1;32m    673\u001b[0m       \u001b[0;32melse\u001b[0m\u001b[0;34m:\u001b[0m\u001b[0;34m\u001b[0m\u001b[0;34m\u001b[0m\u001b[0m\n\u001b[1;32m    674\u001b[0m         \u001b[0;32mwith\u001b[0m \u001b[0mCustomObjectScope\u001b[0m\u001b[0;34m(\u001b[0m\u001b[0mcustom_objects\u001b[0m\u001b[0;34m)\u001b[0m\u001b[0;34m:\u001b[0m\u001b[0;34m\u001b[0m\u001b[0;34m\u001b[0m\u001b[0m\n",
            "\u001b[0;32m/usr/local/lib/python3.7/dist-packages/keras/engine/functional.py\u001b[0m in \u001b[0;36mfrom_config\u001b[0;34m(cls, config, custom_objects)\u001b[0m\n\u001b[1;32m    662\u001b[0m     \u001b[0;32mwith\u001b[0m \u001b[0mgeneric_utils\u001b[0m\u001b[0;34m.\u001b[0m\u001b[0mSharedObjectLoadingScope\u001b[0m\u001b[0;34m(\u001b[0m\u001b[0;34m)\u001b[0m\u001b[0;34m:\u001b[0m\u001b[0;34m\u001b[0m\u001b[0;34m\u001b[0m\u001b[0m\n\u001b[1;32m    663\u001b[0m       input_tensors, output_tensors, created_layers = reconstruct_from_config(\n\u001b[0;32m--> 664\u001b[0;31m           config, custom_objects)\n\u001b[0m\u001b[1;32m    665\u001b[0m       model = cls(inputs=input_tensors, outputs=output_tensors,\n\u001b[1;32m    666\u001b[0m                   name=config.get('name'))\n",
            "\u001b[0;32m/usr/local/lib/python3.7/dist-packages/keras/engine/functional.py\u001b[0m in \u001b[0;36mreconstruct_from_config\u001b[0;34m(config, custom_objects, created_layers)\u001b[0m\n\u001b[1;32m   1272\u001b[0m   \u001b[0;31m# First, we create all layers and enqueue nodes to be processed\u001b[0m\u001b[0;34m\u001b[0m\u001b[0;34m\u001b[0m\u001b[0;34m\u001b[0m\u001b[0m\n\u001b[1;32m   1273\u001b[0m   \u001b[0;32mfor\u001b[0m \u001b[0mlayer_data\u001b[0m \u001b[0;32min\u001b[0m \u001b[0mconfig\u001b[0m\u001b[0;34m[\u001b[0m\u001b[0;34m'layers'\u001b[0m\u001b[0;34m]\u001b[0m\u001b[0;34m:\u001b[0m\u001b[0;34m\u001b[0m\u001b[0;34m\u001b[0m\u001b[0m\n\u001b[0;32m-> 1274\u001b[0;31m     \u001b[0mprocess_layer\u001b[0m\u001b[0;34m(\u001b[0m\u001b[0mlayer_data\u001b[0m\u001b[0;34m)\u001b[0m\u001b[0;34m\u001b[0m\u001b[0;34m\u001b[0m\u001b[0m\n\u001b[0m\u001b[1;32m   1275\u001b[0m   \u001b[0;31m# Then we process nodes in order of layer depth.\u001b[0m\u001b[0;34m\u001b[0m\u001b[0;34m\u001b[0m\u001b[0;34m\u001b[0m\u001b[0m\n\u001b[1;32m   1276\u001b[0m   \u001b[0;31m# Nodes that cannot yet be processed (if the inbound node\u001b[0m\u001b[0;34m\u001b[0m\u001b[0;34m\u001b[0m\u001b[0;34m\u001b[0m\u001b[0m\n",
            "\u001b[0;32m/usr/local/lib/python3.7/dist-packages/keras/engine/functional.py\u001b[0m in \u001b[0;36mprocess_layer\u001b[0;34m(layer_data)\u001b[0m\n\u001b[1;32m   1254\u001b[0m       \u001b[0;32mfrom\u001b[0m \u001b[0mkeras\u001b[0m\u001b[0;34m.\u001b[0m\u001b[0mlayers\u001b[0m \u001b[0;32mimport\u001b[0m \u001b[0mdeserialize\u001b[0m \u001b[0;32mas\u001b[0m \u001b[0mdeserialize_layer\u001b[0m  \u001b[0;31m# pylint: disable=g-import-not-at-top\u001b[0m\u001b[0;34m\u001b[0m\u001b[0;34m\u001b[0m\u001b[0m\n\u001b[1;32m   1255\u001b[0m \u001b[0;34m\u001b[0m\u001b[0m\n\u001b[0;32m-> 1256\u001b[0;31m       \u001b[0mlayer\u001b[0m \u001b[0;34m=\u001b[0m \u001b[0mdeserialize_layer\u001b[0m\u001b[0;34m(\u001b[0m\u001b[0mlayer_data\u001b[0m\u001b[0;34m,\u001b[0m \u001b[0mcustom_objects\u001b[0m\u001b[0;34m=\u001b[0m\u001b[0mcustom_objects\u001b[0m\u001b[0;34m)\u001b[0m\u001b[0;34m\u001b[0m\u001b[0;34m\u001b[0m\u001b[0m\n\u001b[0m\u001b[1;32m   1257\u001b[0m       \u001b[0mcreated_layers\u001b[0m\u001b[0;34m[\u001b[0m\u001b[0mlayer_name\u001b[0m\u001b[0;34m]\u001b[0m \u001b[0;34m=\u001b[0m \u001b[0mlayer\u001b[0m\u001b[0;34m\u001b[0m\u001b[0;34m\u001b[0m\u001b[0m\n\u001b[1;32m   1258\u001b[0m \u001b[0;34m\u001b[0m\u001b[0m\n",
            "\u001b[0;32m/usr/local/lib/python3.7/dist-packages/keras/layers/serialization.py\u001b[0m in \u001b[0;36mdeserialize\u001b[0;34m(config, custom_objects)\u001b[0m\n\u001b[1;32m    161\u001b[0m       \u001b[0mmodule_objects\u001b[0m\u001b[0;34m=\u001b[0m\u001b[0mLOCAL\u001b[0m\u001b[0;34m.\u001b[0m\u001b[0mALL_OBJECTS\u001b[0m\u001b[0;34m,\u001b[0m\u001b[0;34m\u001b[0m\u001b[0;34m\u001b[0m\u001b[0m\n\u001b[1;32m    162\u001b[0m       \u001b[0mcustom_objects\u001b[0m\u001b[0;34m=\u001b[0m\u001b[0mcustom_objects\u001b[0m\u001b[0;34m,\u001b[0m\u001b[0;34m\u001b[0m\u001b[0;34m\u001b[0m\u001b[0m\n\u001b[0;32m--> 163\u001b[0;31m       printable_module_name='layer')\n\u001b[0m",
            "\u001b[0;32m/usr/local/lib/python3.7/dist-packages/keras/utils/generic_utils.py\u001b[0m in \u001b[0;36mdeserialize_keras_object\u001b[0;34m(identifier, module_objects, custom_objects, printable_module_name)\u001b[0m\n\u001b[1;32m    673\u001b[0m       \u001b[0;32melse\u001b[0m\u001b[0;34m:\u001b[0m\u001b[0;34m\u001b[0m\u001b[0;34m\u001b[0m\u001b[0m\n\u001b[1;32m    674\u001b[0m         \u001b[0;32mwith\u001b[0m \u001b[0mCustomObjectScope\u001b[0m\u001b[0;34m(\u001b[0m\u001b[0mcustom_objects\u001b[0m\u001b[0;34m)\u001b[0m\u001b[0;34m:\u001b[0m\u001b[0;34m\u001b[0m\u001b[0;34m\u001b[0m\u001b[0m\n\u001b[0;32m--> 675\u001b[0;31m           \u001b[0mdeserialized_obj\u001b[0m \u001b[0;34m=\u001b[0m \u001b[0mcls\u001b[0m\u001b[0;34m.\u001b[0m\u001b[0mfrom_config\u001b[0m\u001b[0;34m(\u001b[0m\u001b[0mcls_config\u001b[0m\u001b[0;34m)\u001b[0m\u001b[0;34m\u001b[0m\u001b[0;34m\u001b[0m\u001b[0m\n\u001b[0m\u001b[1;32m    676\u001b[0m     \u001b[0;32melse\u001b[0m\u001b[0;34m:\u001b[0m\u001b[0;34m\u001b[0m\u001b[0;34m\u001b[0m\u001b[0m\n\u001b[1;32m    677\u001b[0m       \u001b[0;31m# Then `cls` may be a function returning a class.\u001b[0m\u001b[0;34m\u001b[0m\u001b[0;34m\u001b[0m\u001b[0;34m\u001b[0m\u001b[0m\n",
            "\u001b[0;32m/usr/local/lib/python3.7/dist-packages/keras/engine/base_layer.py\u001b[0m in \u001b[0;36mfrom_config\u001b[0;34m(cls, config)\u001b[0m\n\u001b[1;32m    714\u001b[0m         \u001b[0mA\u001b[0m \u001b[0mlayer\u001b[0m \u001b[0minstance\u001b[0m\u001b[0;34m.\u001b[0m\u001b[0;34m\u001b[0m\u001b[0;34m\u001b[0m\u001b[0m\n\u001b[1;32m    715\u001b[0m     \"\"\"\n\u001b[0;32m--> 716\u001b[0;31m     \u001b[0;32mreturn\u001b[0m \u001b[0mcls\u001b[0m\u001b[0;34m(\u001b[0m\u001b[0;34m**\u001b[0m\u001b[0mconfig\u001b[0m\u001b[0;34m)\u001b[0m\u001b[0;34m\u001b[0m\u001b[0;34m\u001b[0m\u001b[0m\n\u001b[0m\u001b[1;32m    717\u001b[0m \u001b[0;34m\u001b[0m\u001b[0m\n\u001b[1;32m    718\u001b[0m   \u001b[0;32mdef\u001b[0m \u001b[0mcompute_output_shape\u001b[0m\u001b[0;34m(\u001b[0m\u001b[0mself\u001b[0m\u001b[0;34m,\u001b[0m \u001b[0minput_shape\u001b[0m\u001b[0;34m)\u001b[0m\u001b[0;34m:\u001b[0m\u001b[0;34m\u001b[0m\u001b[0;34m\u001b[0m\u001b[0m\n",
            "\u001b[0;32m/usr/local/lib/python3.7/dist-packages/keras/layers/convolutional.py\u001b[0m in \u001b[0;36m__init__\u001b[0;34m(self, filters, kernel_size, strides, padding, data_format, dilation_rate, groups, activation, use_bias, kernel_initializer, bias_initializer, kernel_regularizer, bias_regularizer, activity_regularizer, kernel_constraint, bias_constraint, **kwargs)\u001b[0m\n\u001b[1;32m    663\u001b[0m         \u001b[0mdilation_rate\u001b[0m\u001b[0;34m=\u001b[0m\u001b[0mdilation_rate\u001b[0m\u001b[0;34m,\u001b[0m\u001b[0;34m\u001b[0m\u001b[0;34m\u001b[0m\u001b[0m\n\u001b[1;32m    664\u001b[0m         \u001b[0mgroups\u001b[0m\u001b[0;34m=\u001b[0m\u001b[0mgroups\u001b[0m\u001b[0;34m,\u001b[0m\u001b[0;34m\u001b[0m\u001b[0;34m\u001b[0m\u001b[0m\n\u001b[0;32m--> 665\u001b[0;31m         \u001b[0mactivation\u001b[0m\u001b[0;34m=\u001b[0m\u001b[0mactivations\u001b[0m\u001b[0;34m.\u001b[0m\u001b[0mget\u001b[0m\u001b[0;34m(\u001b[0m\u001b[0mactivation\u001b[0m\u001b[0;34m)\u001b[0m\u001b[0;34m,\u001b[0m\u001b[0;34m\u001b[0m\u001b[0;34m\u001b[0m\u001b[0m\n\u001b[0m\u001b[1;32m    666\u001b[0m         \u001b[0muse_bias\u001b[0m\u001b[0;34m=\u001b[0m\u001b[0muse_bias\u001b[0m\u001b[0;34m,\u001b[0m\u001b[0;34m\u001b[0m\u001b[0;34m\u001b[0m\u001b[0m\n\u001b[1;32m    667\u001b[0m         \u001b[0mkernel_initializer\u001b[0m\u001b[0;34m=\u001b[0m\u001b[0minitializers\u001b[0m\u001b[0;34m.\u001b[0m\u001b[0mget\u001b[0m\u001b[0;34m(\u001b[0m\u001b[0mkernel_initializer\u001b[0m\u001b[0;34m)\u001b[0m\u001b[0;34m,\u001b[0m\u001b[0;34m\u001b[0m\u001b[0;34m\u001b[0m\u001b[0m\n",
            "\u001b[0;32m/usr/local/lib/python3.7/dist-packages/tensorflow/python/util/dispatch.py\u001b[0m in \u001b[0;36mwrapper\u001b[0;34m(*args, **kwargs)\u001b[0m\n\u001b[1;32m    204\u001b[0m     \u001b[0;34m\"\"\"Call target, and fall back on dispatchers if there is a TypeError.\"\"\"\u001b[0m\u001b[0;34m\u001b[0m\u001b[0;34m\u001b[0m\u001b[0m\n\u001b[1;32m    205\u001b[0m     \u001b[0;32mtry\u001b[0m\u001b[0;34m:\u001b[0m\u001b[0;34m\u001b[0m\u001b[0;34m\u001b[0m\u001b[0m\n\u001b[0;32m--> 206\u001b[0;31m       \u001b[0;32mreturn\u001b[0m \u001b[0mtarget\u001b[0m\u001b[0;34m(\u001b[0m\u001b[0;34m*\u001b[0m\u001b[0margs\u001b[0m\u001b[0;34m,\u001b[0m \u001b[0;34m**\u001b[0m\u001b[0mkwargs\u001b[0m\u001b[0;34m)\u001b[0m\u001b[0;34m\u001b[0m\u001b[0;34m\u001b[0m\u001b[0m\n\u001b[0m\u001b[1;32m    207\u001b[0m     \u001b[0;32mexcept\u001b[0m \u001b[0;34m(\u001b[0m\u001b[0mTypeError\u001b[0m\u001b[0;34m,\u001b[0m \u001b[0mValueError\u001b[0m\u001b[0;34m)\u001b[0m\u001b[0;34m:\u001b[0m\u001b[0;34m\u001b[0m\u001b[0;34m\u001b[0m\u001b[0m\n\u001b[1;32m    208\u001b[0m       \u001b[0;31m# Note: convert_to_eager_tensor currently raises a ValueError, not a\u001b[0m\u001b[0;34m\u001b[0m\u001b[0;34m\u001b[0m\u001b[0;34m\u001b[0m\u001b[0m\n",
            "\u001b[0;32m/usr/local/lib/python3.7/dist-packages/keras/activations.py\u001b[0m in \u001b[0;36mget\u001b[0;34m(identifier)\u001b[0m\n\u001b[1;32m    584\u001b[0m   \u001b[0;32mif\u001b[0m \u001b[0misinstance\u001b[0m\u001b[0;34m(\u001b[0m\u001b[0midentifier\u001b[0m\u001b[0;34m,\u001b[0m \u001b[0mstr\u001b[0m\u001b[0;34m)\u001b[0m\u001b[0;34m:\u001b[0m\u001b[0;34m\u001b[0m\u001b[0;34m\u001b[0m\u001b[0m\n\u001b[1;32m    585\u001b[0m     \u001b[0midentifier\u001b[0m \u001b[0;34m=\u001b[0m \u001b[0mstr\u001b[0m\u001b[0;34m(\u001b[0m\u001b[0midentifier\u001b[0m\u001b[0;34m)\u001b[0m\u001b[0;34m\u001b[0m\u001b[0;34m\u001b[0m\u001b[0m\n\u001b[0;32m--> 586\u001b[0;31m     \u001b[0;32mreturn\u001b[0m \u001b[0mdeserialize\u001b[0m\u001b[0;34m(\u001b[0m\u001b[0midentifier\u001b[0m\u001b[0;34m)\u001b[0m\u001b[0;34m\u001b[0m\u001b[0;34m\u001b[0m\u001b[0m\n\u001b[0m\u001b[1;32m    587\u001b[0m   \u001b[0;32melif\u001b[0m \u001b[0misinstance\u001b[0m\u001b[0;34m(\u001b[0m\u001b[0midentifier\u001b[0m\u001b[0;34m,\u001b[0m \u001b[0mdict\u001b[0m\u001b[0;34m)\u001b[0m\u001b[0;34m:\u001b[0m\u001b[0;34m\u001b[0m\u001b[0;34m\u001b[0m\u001b[0m\n\u001b[1;32m    588\u001b[0m     \u001b[0;32mreturn\u001b[0m \u001b[0mdeserialize\u001b[0m\u001b[0;34m(\u001b[0m\u001b[0midentifier\u001b[0m\u001b[0;34m)\u001b[0m\u001b[0;34m\u001b[0m\u001b[0;34m\u001b[0m\u001b[0m\n",
            "\u001b[0;32m/usr/local/lib/python3.7/dist-packages/tensorflow/python/util/dispatch.py\u001b[0m in \u001b[0;36mwrapper\u001b[0;34m(*args, **kwargs)\u001b[0m\n\u001b[1;32m    204\u001b[0m     \u001b[0;34m\"\"\"Call target, and fall back on dispatchers if there is a TypeError.\"\"\"\u001b[0m\u001b[0;34m\u001b[0m\u001b[0;34m\u001b[0m\u001b[0m\n\u001b[1;32m    205\u001b[0m     \u001b[0;32mtry\u001b[0m\u001b[0;34m:\u001b[0m\u001b[0;34m\u001b[0m\u001b[0;34m\u001b[0m\u001b[0m\n\u001b[0;32m--> 206\u001b[0;31m       \u001b[0;32mreturn\u001b[0m \u001b[0mtarget\u001b[0m\u001b[0;34m(\u001b[0m\u001b[0;34m*\u001b[0m\u001b[0margs\u001b[0m\u001b[0;34m,\u001b[0m \u001b[0;34m**\u001b[0m\u001b[0mkwargs\u001b[0m\u001b[0;34m)\u001b[0m\u001b[0;34m\u001b[0m\u001b[0;34m\u001b[0m\u001b[0m\n\u001b[0m\u001b[1;32m    207\u001b[0m     \u001b[0;32mexcept\u001b[0m \u001b[0;34m(\u001b[0m\u001b[0mTypeError\u001b[0m\u001b[0;34m,\u001b[0m \u001b[0mValueError\u001b[0m\u001b[0;34m)\u001b[0m\u001b[0;34m:\u001b[0m\u001b[0;34m\u001b[0m\u001b[0;34m\u001b[0m\u001b[0m\n\u001b[1;32m    208\u001b[0m       \u001b[0;31m# Note: convert_to_eager_tensor currently raises a ValueError, not a\u001b[0m\u001b[0;34m\u001b[0m\u001b[0;34m\u001b[0m\u001b[0;34m\u001b[0m\u001b[0m\n",
            "\u001b[0;32m/usr/local/lib/python3.7/dist-packages/keras/activations.py\u001b[0m in \u001b[0;36mdeserialize\u001b[0;34m(name, custom_objects)\u001b[0m\n\u001b[1;32m    547\u001b[0m       \u001b[0mmodule_objects\u001b[0m\u001b[0;34m=\u001b[0m\u001b[0mglobs\u001b[0m\u001b[0;34m,\u001b[0m\u001b[0;34m\u001b[0m\u001b[0;34m\u001b[0m\u001b[0m\n\u001b[1;32m    548\u001b[0m       \u001b[0mcustom_objects\u001b[0m\u001b[0;34m=\u001b[0m\u001b[0mcustom_objects\u001b[0m\u001b[0;34m,\u001b[0m\u001b[0;34m\u001b[0m\u001b[0;34m\u001b[0m\u001b[0m\n\u001b[0;32m--> 549\u001b[0;31m       printable_module_name='activation function')\n\u001b[0m\u001b[1;32m    550\u001b[0m \u001b[0;34m\u001b[0m\u001b[0m\n\u001b[1;32m    551\u001b[0m \u001b[0;34m\u001b[0m\u001b[0m\n",
            "\u001b[0;32m/usr/local/lib/python3.7/dist-packages/keras/utils/generic_utils.py\u001b[0m in \u001b[0;36mdeserialize_keras_object\u001b[0;34m(identifier, module_objects, custom_objects, printable_module_name)\u001b[0m\n\u001b[1;32m    701\u001b[0m             \u001b[0;34m'https://www.tensorflow.org/guide/keras/save_and_serialize'\u001b[0m\u001b[0;34m\u001b[0m\u001b[0;34m\u001b[0m\u001b[0m\n\u001b[1;32m    702\u001b[0m             \u001b[0;34m'#registering_the_custom_object for details.'\u001b[0m\u001b[0;34m\u001b[0m\u001b[0;34m\u001b[0m\u001b[0m\n\u001b[0;32m--> 703\u001b[0;31m             .format(printable_module_name, object_name))\n\u001b[0m\u001b[1;32m    704\u001b[0m \u001b[0;34m\u001b[0m\u001b[0m\n\u001b[1;32m    705\u001b[0m     \u001b[0;31m# Classes passed by name are instantiated with no args, functions are\u001b[0m\u001b[0;34m\u001b[0m\u001b[0;34m\u001b[0m\u001b[0;34m\u001b[0m\u001b[0m\n",
            "\u001b[0;31mValueError\u001b[0m: Unknown activation function: leaky_relu. Please ensure this object is passed to the `custom_objects` argument. See https://www.tensorflow.org/guide/keras/save_and_serialize#registering_the_custom_object for details."
          ]
        }
      ]
    },
    {
      "cell_type": "code",
      "metadata": {
        "id": "OyQsDaXbq1ly"
      },
      "source": [
        "model_new_1.summary()"
      ],
      "execution_count": null,
      "outputs": []
    },
    {
      "cell_type": "code",
      "metadata": {
        "id": "40n-WO_6q1_o"
      },
      "source": [
        "\n",
        "y_pred = model_new_1.predict(X_test_images_np)\n",
        "y_p = np.argmax(y_pred,axis=1)\n",
        "y_true = np.argmax(y_test_labels_np,axis=1)\n",
        "print('confusion matrix')\n",
        "print(confusion_matrix(y_true,y_p))"
      ],
      "execution_count": null,
      "outputs": []
    },
    {
      "cell_type": "code",
      "metadata": {
        "id": "KeMmbrQ5q4zm"
      },
      "source": [
        "print('Classification report')\n",
        "print(classification_report(y_true,y_p))"
      ],
      "execution_count": null,
      "outputs": []
    },
    {
      "cell_type": "code",
      "metadata": {
        "id": "4NI_nz5qq8Bq"
      },
      "source": [],
      "execution_count": null,
      "outputs": []
    }
  ]
}